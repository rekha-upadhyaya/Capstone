{
 "cells": [
  {
   "cell_type": "markdown",
   "metadata": {},
   "source": [
    "<center><img src=\"https://github.com/insaid2018/Term-1/blob/master/Images/INSAID_Full%20Logo.png?raw=true\" width=\"240\" height=\"100\" /></center>\n",
    "\n",
    "# CDF Capstone Project"
   ]
  },
  {
   "cell_type": "markdown",
   "metadata": {},
   "source": [
    "---\n",
    "# **Table of Contents**\n",
    "---\n",
    "**1.** [**Introduction**](#Section1)<br>\n",
    "\n",
    "**2.** [**Problem Statement**](#Section2)<br>\n",
    "\n",
    "**3.** [**Installing & Importing Libraries**](#Section3)<br>\n",
    "  - **3.1** [**Installing Libraries**](#Section31)\n",
    "  - **3.2** [**Upgrading Libraries**](#Section32)\n",
    "  - **3.3** [**Importing Libraries**](#Section33)\n",
    "\n",
    "**4.** [**Data Acquisition & Information**](#Section4)<br>\n",
    "  - **4.1** [**Data Acquisition**](#Section41)\n",
    "   - **4.1.1** [**Importing Events Dataset from CSV file**](#Section411)\n",
    "   - **4.1.2** [**Importing Gender_age & Brand_model Dataset from MySQL**](#Section412)\n",
    "  - **4.2** [**Data Information**](#Section42)\n",
    "   - **4.2.1** [**Data Information for Events Dataset**](#Section421)\n",
    "   - **4.2.2** [**Data Information for Gender_age Dataset**](#Section422)\n",
    "   - **4.2.3** [**Data Information for Brand_model Dataset**](#Section423)\n",
    "\n",
    "**5.** [**Data Pre-processing**](#Section5)<br>\n",
    "  - **5.1** [**Filtering Events Dataset by States**](#Section51)\n",
    "  - **5.2** [**Merging all three datasets**](#Section52)\n",
    "  - **5.3** [**Pre-Profiling Report**](#Section51)\n",
    "  - **5.4** [**Handling of Missing Data**](#Section52)<br>\n",
    "  - **5.3** [**Feature Engineering.**](#Section53)<br>\n",
    "  - **5.4** [**Post Processing Report**](#Section54)<br>\n",
    "\n",
    "**6.** [**Exploratory Data Analysis**](#Section6)<br>\n",
    "\n",
    "**7.** [**Post Data Processing & Feature Selection**](#Section7)<br>\n",
    "  - **7.1** [**Feature Selection**](#Section71)<br>\n",
    "  - **7.2** [**Encoding the Categorical Data**](#Section72)<br>\n",
    "  - **7.3** [**Data Preparation**](#Section73)<br>\n",
    "\n",
    "**8.** [**Model Development & Evaluation**](#Section8)<br>\n",
    "  - **8.1** [**ModelName - Baseline Model**](#Section81)<br>\n",
    "  - **8.2** [**Using Trained Model for Prediction**](#Section82)<br>\n",
    "  - **8.3** [**Model Evaluation**](#Section83)<br>\n",
    "\n",
    "**9.** [**Summarization**](#Section9)<br>\n",
    "  - **9.1** [**Conclusion**](#Section91)<br>\n",
    "  - **9.2** [**Actionable Insights**](#Section92)<br>"
   ]
  },
  {
   "cell_type": "markdown",
   "metadata": {},
   "source": [
    "---\n",
    "<a name = Section1></a>\n",
    "# **1. Introduction**\n",
    "---\n",
    "\n",
    "\n",
    "<center><img src=\"\" /></center>\n",
    "\n",
    "InsaidTelecom, one of the leading telecom players, understands that customizing offering is very important for its business to stay competitive.\n",
    "Currently, InsaidTelecom is seeking to leverage behavioral data from more than 60% of the 50 million mobile devices active daily in India to help its clients better understand and interact with their audiences.\n",
    "\n",
    "In this consulting assignment, Insaidians are expected to build a dashboard to understand user's demographic characteristics based on their mobile usage, geolocation, and mobile device properties.\n",
    "\n",
    "Doing so will help millions of developers and brand advertisers around the world pursue data-driven marketing efforts which are relevant to their users and catered to their preferences."
   ]
  },
  {
   "cell_type": "markdown",
   "metadata": {},
   "source": [
    "---\n",
    "<a name = Section2></a>\n",
    "# **2. Problem Statement**\n",
    "---\n",
    "\n",
    "\n",
    "<center><img src=\"\" /></center>"
   ]
  },
  {
   "cell_type": "markdown",
   "metadata": {},
   "source": [
    "---\n",
    "<a name = Section3></a>\n",
    "# **3. Installing & Importing Libraries**\n",
    "---"
   ]
  },
  {
   "cell_type": "markdown",
   "metadata": {},
   "source": [
    "<a name = Section31></a>\n",
    "### **3.1 Installing Libraries**"
   ]
  },
  {
   "cell_type": "code",
   "execution_count": 1,
   "metadata": {
    "scrolled": true
   },
   "outputs": [
    {
     "name": "stderr",
     "output_type": "stream",
     "text": [
      "ERROR: pip's dependency resolver does not currently take into account all the packages that are installed. This behaviour is the source of the following dependency conflicts.\n",
      "anaconda-project 0.9.1 requires ruamel-yaml, which is not installed.\n",
      "pandas-profiling 3.1.0 requires markupsafe~=2.0.1, but you have markupsafe 1.1.1 which is incompatible.\n",
      "ERROR: pip's dependency resolver does not currently take into account all the packages that are installed. This behaviour is the source of the following dependency conflicts.\n",
      "anaconda-project 0.9.1 requires ruamel-yaml, which is not installed.\n",
      "sphinx 4.0.1 requires MarkupSafe<2.0, but you have markupsafe 2.0.1 which is incompatible.\n"
     ]
    },
    {
     "name": "stdout",
     "output_type": "stream",
     "text": [
      "Requirement already satisfied: mysql-connector-python in c:\\users\\supadhyaya8\\anaconda3\\lib\\site-packages (8.0.28)\n",
      "Requirement already satisfied: protobuf>=3.0.0 in c:\\users\\supadhyaya8\\anaconda3\\lib\\site-packages (from mysql-connector-python) (3.19.4)\n"
     ]
    }
   ],
   "source": [
    "!pip install -q --user datascience                   \n",
    "!pip install -q --user pandas-profiling              \n",
    "!pip install -q --user yellowbrick                   \n",
    "!pip install mysql-connector-python           "
   ]
  },
  {
   "cell_type": "markdown",
   "metadata": {},
   "source": [
    "<a name = Section32></a>\n",
    "### **3.2 Upgrading Libraries**\n",
    "\n",
    "- **After upgrading** the libraries, you need to **restart the runtime** to make the libraries in sync. \n",
    "\n",
    "- Make sure not to execute the cell above (3.1) and below (3.2) again after restarting the runtime."
   ]
  },
  {
   "cell_type": "code",
   "execution_count": 2,
   "metadata": {},
   "outputs": [],
   "source": [
    "!pip install -q --upgrade pandas-profiling\n",
    "!pip install -q --upgrade yellowbrick"
   ]
  },
  {
   "cell_type": "markdown",
   "metadata": {},
   "source": [
    "<a name = Section33></a>\n",
    "### **3.3 Importing Libraries**"
   ]
  },
  {
   "cell_type": "code",
   "execution_count": 3,
   "metadata": {},
   "outputs": [],
   "source": [
    "#-------------------------------------------------------------------------------------------------------------------------------\n",
    "import pandas as pd                                                 # Importing for panel data analysis\n",
    "from pandas_profiling import ProfileReport                          # Import Pandas Profiling (To generate Univariate Analysis) \n",
    "pd.set_option('display.max_columns', None)                          # Unfolding hidden features if the cardinality is high      \n",
    "pd.set_option('display.max_colwidth', None)                         # Unfolding the max feature width for better clearity      \n",
    "pd.set_option('display.max_rows', None)                             # Unfolding hidden data points if the cardinality is high\n",
    "pd.set_option('mode.chained_assignment', None)                      # Removing restriction over chained assignments operations\n",
    "pd.set_option('display.float_format', lambda x: '%.5f' % x)         # To suppress scientific notation over exponential values\n",
    "#-------------------------------------------------------------------------------------------------------------------------------\n",
    "import numpy as np                                                  # Importing package numpys (For Numerical Python)\n",
    "from scipy.stats import randint as sp_randint                       # for initializing random integer values\n",
    "#-------------------------------------------------------------------------------------------------------------------------------\n",
    "import matplotlib.pyplot as plt                                     # Importing pyplot interface using matplotlib\n",
    "from matplotlib.pylab import rcParams                               # Backend used for rendering and GUI integration                                               \n",
    "import seaborn as sns                                               # Importin seaborm library for interactive visualization\n",
    "%matplotlib inline\n",
    "#-------------------------------------------------------------------------------------------------------------------------------\n",
    "from sklearn.metrics import accuracy_score                          # For calculating the accuracy for the model\n",
    "from sklearn.metrics import precision_score                         # For calculating the Precision of the model\n",
    "from sklearn.metrics import recall_score                            # For calculating the recall of the model\n",
    "from sklearn.metrics import precision_recall_curve                  # For precision and recall metric estimation\n",
    "from sklearn.metrics import confusion_matrix                        # For verifying model performance using confusion matrix\n",
    "from sklearn.metrics import f1_score                                # For Checking the F1-Score of our model  \n",
    "from sklearn.metrics import roc_curve                               # For Roc-Auc metric estimation\n",
    "#-------------------------------------------------------------------------------------------------------------------------------\n",
    "from sklearn.model_selection import train_test_split                # To split the data in training and testing part     \n",
    "from sklearn.feature_selection import SelectFromModel               # To perform Feature Selection over model\n",
    "\n",
    "#-------------------------------------------------------------------------------------------------------------------------------\n",
    "import warnings                                                     # Importing warning to disable runtime warnings\n",
    "warnings.filterwarnings(\"ignore\")                                   # Warnings will appear only once\n",
    "#-------------------------------------------------------------------------------------------------------------------------------\n",
    "import mysql.connector as connection"
   ]
  },
  {
   "cell_type": "markdown",
   "metadata": {},
   "source": [
    "---\n",
    "<a name = Section4></a>\n",
    "# **4. Data Acquisition & Information**\n",
    "---"
   ]
  },
  {
   "cell_type": "markdown",
   "metadata": {},
   "source": [
    "<a name = Section41></a>\n",
    "### **4.1 Data Acquisition**\n",
    "\n",
    "- In this section we will read the datasets from the various sources available."
   ]
  },
  {
   "cell_type": "markdown",
   "metadata": {},
   "source": [
    "<a name = Section411></a>\n",
    "#### **4.1.1 Importing 1st dataset - 'events_data' from a csv file**\n",
    "\n",
    "- When a user uses mobile on INSAID Telecom network, the event gets logged in this data. Each event has an event id, location (lat/long), and the event corresponds to frequency of mobile usage. Timestamp tells when the user is using the mobile."
   ]
  },
  {
   "cell_type": "code",
   "execution_count": 4,
   "metadata": {},
   "outputs": [
    {
     "data": {
      "text/html": [
       "<div>\n",
       "<style scoped>\n",
       "    .dataframe tbody tr th:only-of-type {\n",
       "        vertical-align: middle;\n",
       "    }\n",
       "\n",
       "    .dataframe tbody tr th {\n",
       "        vertical-align: top;\n",
       "    }\n",
       "\n",
       "    .dataframe thead th {\n",
       "        text-align: right;\n",
       "    }\n",
       "</style>\n",
       "<table border=\"1\" class=\"dataframe\">\n",
       "  <thead>\n",
       "    <tr style=\"text-align: right;\">\n",
       "      <th></th>\n",
       "      <th>event_id</th>\n",
       "      <th>device_id</th>\n",
       "      <th>timestamp</th>\n",
       "      <th>longitude</th>\n",
       "      <th>latitude</th>\n",
       "      <th>city</th>\n",
       "      <th>state</th>\n",
       "    </tr>\n",
       "  </thead>\n",
       "  <tbody>\n",
       "    <tr>\n",
       "      <th>0</th>\n",
       "      <td>2765368</td>\n",
       "      <td>2973347786994914304.00000</td>\n",
       "      <td>2016-05-07 22:52:05</td>\n",
       "      <td>77.22568</td>\n",
       "      <td>28.73014</td>\n",
       "      <td>Delhi</td>\n",
       "      <td>Delhi</td>\n",
       "    </tr>\n",
       "    <tr>\n",
       "      <th>1</th>\n",
       "      <td>2955066</td>\n",
       "      <td>4734221357723754496.00000</td>\n",
       "      <td>2016-05-01 20:44:16</td>\n",
       "      <td>88.38836</td>\n",
       "      <td>22.66033</td>\n",
       "      <td>Calcutta</td>\n",
       "      <td>WestBengal</td>\n",
       "    </tr>\n",
       "    <tr>\n",
       "      <th>2</th>\n",
       "      <td>605968</td>\n",
       "      <td>-3264499652692492800.00000</td>\n",
       "      <td>2016-05-02 14:23:04</td>\n",
       "      <td>77.25681</td>\n",
       "      <td>28.75791</td>\n",
       "      <td>Delhi</td>\n",
       "      <td>Delhi</td>\n",
       "    </tr>\n",
       "    <tr>\n",
       "      <th>3</th>\n",
       "      <td>448114</td>\n",
       "      <td>5731369272434022400.00000</td>\n",
       "      <td>2016-05-03 13:21:16</td>\n",
       "      <td>80.34361</td>\n",
       "      <td>13.15333</td>\n",
       "      <td>Chennai</td>\n",
       "      <td>TamilNadu</td>\n",
       "    </tr>\n",
       "    <tr>\n",
       "      <th>4</th>\n",
       "      <td>665740</td>\n",
       "      <td>338888002570799936.00000</td>\n",
       "      <td>2016-05-06 03:51:05</td>\n",
       "      <td>85.99774</td>\n",
       "      <td>23.84261</td>\n",
       "      <td>Bokaro</td>\n",
       "      <td>Jharkhand</td>\n",
       "    </tr>\n",
       "  </tbody>\n",
       "</table>\n",
       "</div>"
      ],
      "text/plain": [
       "   event_id                  device_id            timestamp  longitude  \\\n",
       "0   2765368  2973347786994914304.00000  2016-05-07 22:52:05   77.22568   \n",
       "1   2955066  4734221357723754496.00000  2016-05-01 20:44:16   88.38836   \n",
       "2    605968 -3264499652692492800.00000  2016-05-02 14:23:04   77.25681   \n",
       "3    448114  5731369272434022400.00000  2016-05-03 13:21:16   80.34361   \n",
       "4    665740   338888002570799936.00000  2016-05-06 03:51:05   85.99774   \n",
       "\n",
       "   latitude      city       state  \n",
       "0  28.73014     Delhi       Delhi  \n",
       "1  22.66033  Calcutta  WestBengal  \n",
       "2  28.75791     Delhi       Delhi  \n",
       "3  13.15333   Chennai   TamilNadu  \n",
       "4  23.84261    Bokaro   Jharkhand  "
      ]
     },
     "execution_count": 4,
     "metadata": {},
     "output_type": "execute_result"
    }
   ],
   "source": [
    "# Reading the data from the events data csv file\n",
    "df_events_data = pd.read_csv('C:/Users/supadhyaya8/OneDrive - DXC Production/Documents/cdf/events_data.csv')\n",
    "df_events_data.head()"
   ]
  },
  {
   "cell_type": "code",
   "execution_count": 5,
   "metadata": {},
   "outputs": [
    {
     "data": {
      "text/plain": [
       "(3252950, 7)"
      ]
     },
     "execution_count": 5,
     "metadata": {},
     "output_type": "execute_result"
    }
   ],
   "source": [
    "#checking the shape of the dataset\n",
    "df_events_data.shape"
   ]
  },
  {
   "cell_type": "markdown",
   "metadata": {},
   "source": [
    "<a name = Section411></a>\n",
    "#### **4.1.2 Importing 2nd & 3rd dataset - 'gender_age_train' & 'phone_brand_device_model' from MySQL database**\n",
    "\n",
    "- gender_age_train           :- Device_ids and their respective user gender, age and age_group\n",
    "- phone_brand_device_model   :- device ids, brand, and device's model."
   ]
  },
  {
   "cell_type": "code",
   "execution_count": 6,
   "metadata": {},
   "outputs": [],
   "source": [
    "#Downloading the data from the MySQL database for gender_age_train & phone_brand_device_model onto Python by connecting to the below provided MySQL instance.\n",
    "try:\n",
    "    mydb = connection.connect(host=\"cpanel.insaid.co\", database = 'Capstone1',user=\"student\", passwd=\"student\",use_pure=True)\n",
    "    query1 = \"Select * from gender_age_train;\"\n",
    "    query2 = \"Select * from phone_brand_device_model;\"\n",
    "    df_gender_age = pd.read_sql(query1,mydb)\n",
    "    df_brand_model = pd.read_sql(query2,mydb)\n",
    "    mydb.close() #close the connection\n",
    "except Exception as e:\n",
    "    mydb.close()\n",
    "    print(str(e))"
   ]
  },
  {
   "cell_type": "markdown",
   "metadata": {},
   "source": [
    "- getting the head for the gender_age dataset"
   ]
  },
  {
   "cell_type": "code",
   "execution_count": 7,
   "metadata": {},
   "outputs": [
    {
     "data": {
      "text/html": [
       "<div>\n",
       "<style scoped>\n",
       "    .dataframe tbody tr th:only-of-type {\n",
       "        vertical-align: middle;\n",
       "    }\n",
       "\n",
       "    .dataframe tbody tr th {\n",
       "        vertical-align: top;\n",
       "    }\n",
       "\n",
       "    .dataframe thead th {\n",
       "        text-align: right;\n",
       "    }\n",
       "</style>\n",
       "<table border=\"1\" class=\"dataframe\">\n",
       "  <thead>\n",
       "    <tr style=\"text-align: right;\">\n",
       "      <th></th>\n",
       "      <th>device_id</th>\n",
       "      <th>gender</th>\n",
       "      <th>age</th>\n",
       "      <th>group</th>\n",
       "    </tr>\n",
       "  </thead>\n",
       "  <tbody>\n",
       "    <tr>\n",
       "      <th>0</th>\n",
       "      <td>-8076087639492063270</td>\n",
       "      <td>M</td>\n",
       "      <td>35</td>\n",
       "      <td>M32-38</td>\n",
       "    </tr>\n",
       "    <tr>\n",
       "      <th>1</th>\n",
       "      <td>-2897161552818060146</td>\n",
       "      <td>M</td>\n",
       "      <td>35</td>\n",
       "      <td>M32-38</td>\n",
       "    </tr>\n",
       "    <tr>\n",
       "      <th>2</th>\n",
       "      <td>-8260683887967679142</td>\n",
       "      <td>M</td>\n",
       "      <td>35</td>\n",
       "      <td>M32-38</td>\n",
       "    </tr>\n",
       "    <tr>\n",
       "      <th>3</th>\n",
       "      <td>-4938849341048082022</td>\n",
       "      <td>M</td>\n",
       "      <td>30</td>\n",
       "      <td>M29-31</td>\n",
       "    </tr>\n",
       "    <tr>\n",
       "      <th>4</th>\n",
       "      <td>245133531816851882</td>\n",
       "      <td>M</td>\n",
       "      <td>30</td>\n",
       "      <td>M29-31</td>\n",
       "    </tr>\n",
       "  </tbody>\n",
       "</table>\n",
       "</div>"
      ],
      "text/plain": [
       "             device_id gender  age   group\n",
       "0 -8076087639492063270      M   35  M32-38\n",
       "1 -2897161552818060146      M   35  M32-38\n",
       "2 -8260683887967679142      M   35  M32-38\n",
       "3 -4938849341048082022      M   30  M29-31\n",
       "4   245133531816851882      M   30  M29-31"
      ]
     },
     "execution_count": 7,
     "metadata": {},
     "output_type": "execute_result"
    }
   ],
   "source": [
    "df_gender_age.head()"
   ]
  },
  {
   "cell_type": "code",
   "execution_count": 8,
   "metadata": {},
   "outputs": [
    {
     "data": {
      "text/plain": [
       "(74645, 4)"
      ]
     },
     "execution_count": 8,
     "metadata": {},
     "output_type": "execute_result"
    }
   ],
   "source": [
    "df_gender_age.shape"
   ]
  },
  {
   "cell_type": "markdown",
   "metadata": {},
   "source": [
    "- getting the head for the brand_model dataset"
   ]
  },
  {
   "cell_type": "code",
   "execution_count": 9,
   "metadata": {},
   "outputs": [
    {
     "data": {
      "text/html": [
       "<div>\n",
       "<style scoped>\n",
       "    .dataframe tbody tr th:only-of-type {\n",
       "        vertical-align: middle;\n",
       "    }\n",
       "\n",
       "    .dataframe tbody tr th {\n",
       "        vertical-align: top;\n",
       "    }\n",
       "\n",
       "    .dataframe thead th {\n",
       "        text-align: right;\n",
       "    }\n",
       "</style>\n",
       "<table border=\"1\" class=\"dataframe\">\n",
       "  <thead>\n",
       "    <tr style=\"text-align: right;\">\n",
       "      <th></th>\n",
       "      <th>device_id</th>\n",
       "      <th>phone_brand</th>\n",
       "      <th>device_model</th>\n",
       "    </tr>\n",
       "  </thead>\n",
       "  <tbody>\n",
       "    <tr>\n",
       "      <th>0</th>\n",
       "      <td>1877775838486905855</td>\n",
       "      <td>vivo</td>\n",
       "      <td>Y13</td>\n",
       "    </tr>\n",
       "    <tr>\n",
       "      <th>1</th>\n",
       "      <td>-3766087376657242966</td>\n",
       "      <td>小米</td>\n",
       "      <td>V183</td>\n",
       "    </tr>\n",
       "    <tr>\n",
       "      <th>2</th>\n",
       "      <td>-6238937574958215831</td>\n",
       "      <td>OPPO</td>\n",
       "      <td>R7s</td>\n",
       "    </tr>\n",
       "    <tr>\n",
       "      <th>3</th>\n",
       "      <td>8973197758510677470</td>\n",
       "      <td>三星</td>\n",
       "      <td>A368t</td>\n",
       "    </tr>\n",
       "    <tr>\n",
       "      <th>4</th>\n",
       "      <td>-2015528097870762664</td>\n",
       "      <td>小米</td>\n",
       "      <td>红米Note2</td>\n",
       "    </tr>\n",
       "  </tbody>\n",
       "</table>\n",
       "</div>"
      ],
      "text/plain": [
       "             device_id phone_brand device_model\n",
       "0  1877775838486905855        vivo          Y13\n",
       "1 -3766087376657242966          小米         V183\n",
       "2 -6238937574958215831        OPPO          R7s\n",
       "3  8973197758510677470          三星        A368t\n",
       "4 -2015528097870762664          小米      红米Note2"
      ]
     },
     "execution_count": 9,
     "metadata": {},
     "output_type": "execute_result"
    }
   ],
   "source": [
    "df_brand_model.head()"
   ]
  },
  {
   "cell_type": "code",
   "execution_count": 10,
   "metadata": {},
   "outputs": [
    {
     "data": {
      "text/plain": [
       "(87726, 3)"
      ]
     },
     "execution_count": 10,
     "metadata": {},
     "output_type": "execute_result"
    }
   ],
   "source": [
    "df_brand_model.shape"
   ]
  },
  {
   "cell_type": "code",
   "execution_count": 11,
   "metadata": {},
   "outputs": [],
   "source": [
    "#df_gender_age.to_csv('gender_age_train.csv')"
   ]
  },
  {
   "cell_type": "code",
   "execution_count": 100,
   "metadata": {},
   "outputs": [],
   "source": [
    "df_brand_model.to_csv('phone_brand_device_model.csv')"
   ]
  },
  {
   "cell_type": "markdown",
   "metadata": {},
   "source": [
    "<a name = Section42></a>\n",
    "### **4.2 Data Information**\n",
    "\n",
    "- In this section we will see the **information about the types of features**."
   ]
  },
  {
   "cell_type": "markdown",
   "metadata": {},
   "source": [
    "<a name = Section421></a>\n",
    "#### **4.2.1 Data Information for Events Dataset**\n",
    "\n",
    "- In this section we will see the **information about the types of features for events dataset**."
   ]
  },
  {
   "cell_type": "code",
   "execution_count": 13,
   "metadata": {},
   "outputs": [
    {
     "name": "stdout",
     "output_type": "stream",
     "text": [
      "<class 'pandas.core.frame.DataFrame'>\n",
      "RangeIndex: 3252950 entries, 0 to 3252949\n",
      "Data columns (total 7 columns):\n",
      " #   Column     Dtype  \n",
      "---  ------     -----  \n",
      " 0   event_id   int64  \n",
      " 1   device_id  float64\n",
      " 2   timestamp  object \n",
      " 3   longitude  float64\n",
      " 4   latitude   float64\n",
      " 5   city       object \n",
      " 6   state      object \n",
      "dtypes: float64(3), int64(1), object(3)\n",
      "memory usage: 173.7+ MB\n"
     ]
    }
   ],
   "source": [
    "df_events_data.info()"
   ]
  },
  {
   "cell_type": "code",
   "execution_count": 14,
   "metadata": {},
   "outputs": [
    {
     "data": {
      "text/plain": [
       "event_id       0\n",
       "device_id    453\n",
       "timestamp      0\n",
       "longitude    423\n",
       "latitude     423\n",
       "city           0\n",
       "state        377\n",
       "dtype: int64"
      ]
     },
     "execution_count": 14,
     "metadata": {},
     "output_type": "execute_result"
    }
   ],
   "source": [
    "#Checking if null values are present in events dataset\n",
    "df_events_data.isnull().sum()"
   ]
  },
  {
   "cell_type": "markdown",
   "metadata": {},
   "source": [
    "**Observations for Events Dataset:**\n",
    "1. There are __3252950 records and 7 features__ in the events dataset.\n",
    "2. There are __453 missing values__ for deviec_id.\n",
    "3. Datatype of __device_id is float__\n",
    "4. __Timestamp__ is object to be converted __to datetime.__\n",
    "5. longitude and latitude have __423 missing values.__\n",
    "6. State has __377 missing values.__\n",
    "7. There are __4 numerical features, 2 categorical features and a timestamp.__"
   ]
  },
  {
   "cell_type": "markdown",
   "metadata": {},
   "source": [
    "<a name = Section422></a>\n",
    "#### **4.2.2 Data Information for Gender_age Dataset**\n",
    "\n",
    "- In this section we will see the **information about the types of features for gender_age dataset**."
   ]
  },
  {
   "cell_type": "code",
   "execution_count": 15,
   "metadata": {},
   "outputs": [
    {
     "name": "stdout",
     "output_type": "stream",
     "text": [
      "<class 'pandas.core.frame.DataFrame'>\n",
      "RangeIndex: 74645 entries, 0 to 74644\n",
      "Data columns (total 4 columns):\n",
      " #   Column     Non-Null Count  Dtype \n",
      "---  ------     --------------  ----- \n",
      " 0   device_id  74645 non-null  int64 \n",
      " 1   gender     74645 non-null  object\n",
      " 2   age        74645 non-null  int64 \n",
      " 3   group      74645 non-null  object\n",
      "dtypes: int64(2), object(2)\n",
      "memory usage: 2.3+ MB\n"
     ]
    }
   ],
   "source": [
    "df_gender_age.info()"
   ]
  },
  {
   "cell_type": "code",
   "execution_count": 16,
   "metadata": {},
   "outputs": [
    {
     "data": {
      "text/plain": [
       "74645"
      ]
     },
     "execution_count": 16,
     "metadata": {},
     "output_type": "execute_result"
    }
   ],
   "source": [
    "df_gender_age['device_id'].nunique()"
   ]
  },
  {
   "cell_type": "markdown",
   "metadata": {},
   "source": [
    "**Observations for Gender_age Dataset:**\n",
    "1. There are __74645 records and 4 features__.\n",
    "2. There are __no missing values__.\n",
    "3. __Correct Datatype__ of all the features.\n",
    "4. There are __2 numerical features, 2 categorical features.__"
   ]
  },
  {
   "cell_type": "markdown",
   "metadata": {},
   "source": [
    "<a name = Section423></a>\n",
    "#### **4.2.3 Data Information for Brand_Model Dataset**\n",
    "\n",
    "- In this section we will see the **information about the types of features for brand_model dataset**."
   ]
  },
  {
   "cell_type": "code",
   "execution_count": 17,
   "metadata": {},
   "outputs": [
    {
     "name": "stdout",
     "output_type": "stream",
     "text": [
      "<class 'pandas.core.frame.DataFrame'>\n",
      "RangeIndex: 87726 entries, 0 to 87725\n",
      "Data columns (total 3 columns):\n",
      " #   Column        Non-Null Count  Dtype \n",
      "---  ------        --------------  ----- \n",
      " 0   device_id     87726 non-null  int64 \n",
      " 1   phone_brand   87726 non-null  object\n",
      " 2   device_model  87726 non-null  object\n",
      "dtypes: int64(1), object(2)\n",
      "memory usage: 2.0+ MB\n"
     ]
    }
   ],
   "source": [
    "df_brand_model.info()"
   ]
  },
  {
   "cell_type": "code",
   "execution_count": 18,
   "metadata": {},
   "outputs": [
    {
     "data": {
      "text/plain": [
       "87726"
      ]
     },
     "execution_count": 18,
     "metadata": {},
     "output_type": "execute_result"
    }
   ],
   "source": [
    "df_brand_model['device_id'].nunique()"
   ]
  },
  {
   "cell_type": "markdown",
   "metadata": {},
   "source": [
    "**Observations for Brand_model Dataset:**\n",
    "1. There are __87726 records and 3 features__.\n",
    "2. There are __no missing values__.\n",
    "3. __Correct Datatype__ of all the features.\n",
    "4. There is __1 numerical feature, 2 categorical features.__"
   ]
  },
  {
   "cell_type": "markdown",
   "metadata": {},
   "source": [
    "<a name = Section5></a>\n",
    "\n",
    "---\n",
    "# **5. Data Pre-Processing**\n",
    "---"
   ]
  },
  {
   "cell_type": "markdown",
   "metadata": {},
   "source": [
    "<a name = Section51></a>\n",
    "### **5.1 Filtering the events dataset by states (WestBengal, Karnataka, Bihar, Punjab,Gujarat, Kerala)**\n"
   ]
  },
  {
   "cell_type": "markdown",
   "metadata": {},
   "source": [
    "- For consulting, team is to focus on 6 states: WestBengal, Karnataka, Bihar, Punjab,Gujarat and Kerala.\n",
    "- We observed that Events dataset has 377 missing values in 'state' column.\n",
    "- So, first we have to handle these missing values before we filter the dataset by states."
   ]
  },
  {
   "cell_type": "code",
   "execution_count": 19,
   "metadata": {},
   "outputs": [
    {
     "data": {
      "text/html": [
       "<div>\n",
       "<style scoped>\n",
       "    .dataframe tbody tr th:only-of-type {\n",
       "        vertical-align: middle;\n",
       "    }\n",
       "\n",
       "    .dataframe tbody tr th {\n",
       "        vertical-align: top;\n",
       "    }\n",
       "\n",
       "    .dataframe thead th {\n",
       "        text-align: right;\n",
       "    }\n",
       "</style>\n",
       "<table border=\"1\" class=\"dataframe\">\n",
       "  <thead>\n",
       "    <tr style=\"text-align: right;\">\n",
       "      <th></th>\n",
       "      <th>event_id</th>\n",
       "      <th>device_id</th>\n",
       "      <th>timestamp</th>\n",
       "      <th>longitude</th>\n",
       "      <th>latitude</th>\n",
       "      <th>city</th>\n",
       "      <th>state</th>\n",
       "    </tr>\n",
       "  </thead>\n",
       "  <tbody>\n",
       "    <tr>\n",
       "      <th>30889</th>\n",
       "      <td>2164200</td>\n",
       "      <td>-394582654031064128.00000</td>\n",
       "      <td>2016-05-04 19:33:09</td>\n",
       "      <td>83.36656</td>\n",
       "      <td>17.75719</td>\n",
       "      <td>Visakhapatnam</td>\n",
       "      <td>NaN</td>\n",
       "    </tr>\n",
       "    <tr>\n",
       "      <th>2497131</th>\n",
       "      <td>890098</td>\n",
       "      <td>4113023436861671424.00000</td>\n",
       "      <td>2016-05-02 00:52:39</td>\n",
       "      <td>75.90653</td>\n",
       "      <td>22.73251</td>\n",
       "      <td>Indore</td>\n",
       "      <td>NaN</td>\n",
       "    </tr>\n",
       "    <tr>\n",
       "      <th>2092410</th>\n",
       "      <td>2798389</td>\n",
       "      <td>4620270824872937472.00000</td>\n",
       "      <td>2016-05-04 08:13:34</td>\n",
       "      <td>87.81271</td>\n",
       "      <td>22.95798</td>\n",
       "      <td>Arambagh</td>\n",
       "      <td>NaN</td>\n",
       "    </tr>\n",
       "    <tr>\n",
       "      <th>520802</th>\n",
       "      <td>1880721</td>\n",
       "      <td>442842061129641600.00000</td>\n",
       "      <td>2016-05-02 12:25:51</td>\n",
       "      <td>73.92625</td>\n",
       "      <td>18.61613</td>\n",
       "      <td>Pune</td>\n",
       "      <td>NaN</td>\n",
       "    </tr>\n",
       "    <tr>\n",
       "      <th>3024207</th>\n",
       "      <td>1814157</td>\n",
       "      <td>4113023436861671424.00000</td>\n",
       "      <td>2016-05-06 22:20:25</td>\n",
       "      <td>75.90653</td>\n",
       "      <td>22.73251</td>\n",
       "      <td>Indore</td>\n",
       "      <td>NaN</td>\n",
       "    </tr>\n",
       "  </tbody>\n",
       "</table>\n",
       "</div>"
      ],
      "text/plain": [
       "         event_id                 device_id            timestamp  longitude  \\\n",
       "30889     2164200 -394582654031064128.00000  2016-05-04 19:33:09   83.36656   \n",
       "2497131    890098 4113023436861671424.00000  2016-05-02 00:52:39   75.90653   \n",
       "2092410   2798389 4620270824872937472.00000  2016-05-04 08:13:34   87.81271   \n",
       "520802    1880721  442842061129641600.00000  2016-05-02 12:25:51   73.92625   \n",
       "3024207   1814157 4113023436861671424.00000  2016-05-06 22:20:25   75.90653   \n",
       "\n",
       "         latitude           city state  \n",
       "30889    17.75719  Visakhapatnam   NaN  \n",
       "2497131  22.73251         Indore   NaN  \n",
       "2092410  22.95798       Arambagh   NaN  \n",
       "520802   18.61613           Pune   NaN  \n",
       "3024207  22.73251         Indore   NaN  "
      ]
     },
     "execution_count": 19,
     "metadata": {},
     "output_type": "execute_result"
    }
   ],
   "source": [
    "df_events_data[df_events_data['state'].isnull()].sample(5)"
   ]
  },
  {
   "cell_type": "markdown",
   "metadata": {},
   "source": [
    "- **Handling the missing value in 'state' column for WestBengal, Karnataka, Bihar, Punjab,Gujarat, Kerala**"
   ]
  },
  {
   "cell_type": "code",
   "execution_count": 20,
   "metadata": {},
   "outputs": [
    {
     "data": {
      "text/plain": [
       "array(['Delhi', 'WestBengal', 'TamilNadu', 'Jharkhand', 'AndhraPradesh',\n",
       "       'Maharashtra', 'Gujarat', 'Kerala', 'MadhyaPradesh', 'Karnataka',\n",
       "       'Rajasthan', 'Orissa', 'Punjab', 'UttarPradesh', 'Nagaland',\n",
       "       'Haryana', 'Telangana', 'Chhattisgarh', 'Bihar', 'JammuandKashmir',\n",
       "       'Assam', 'Goa', 'Mizoram', 'Tripura', 'Uttaranchal', nan,\n",
       "       'Pondicherry', 'Manipur', 'Meghalaya', 'ArunachalPradesh',\n",
       "       'HimachalPradesh', 'Chandigarh', 'AndamanandNicobarIslands'],\n",
       "      dtype=object)"
      ]
     },
     "execution_count": 20,
     "metadata": {},
     "output_type": "execute_result"
    }
   ],
   "source": [
    "# finding the unique states\n",
    "df_events_data['state'].unique()"
   ]
  },
  {
   "cell_type": "code",
   "execution_count": 21,
   "metadata": {},
   "outputs": [
    {
     "data": {
      "text/plain": [
       "array(['Pune', 'Visakhapatnam', 'Indore', 'Chennai', 'Delhi',\n",
       "       'Channapatna', 'Jaipur', 'Gangarampur', 'Arambagh'], dtype=object)"
      ]
     },
     "execution_count": 21,
     "metadata": {},
     "output_type": "execute_result"
    }
   ],
   "source": [
    "#finding out the cities for the missing state so that we can fill the missing states from the corresponding city.\n",
    "(df_events_data['city'][df_events_data['state'].isnull()]).unique()"
   ]
  },
  {
   "cell_type": "markdown",
   "metadata": {},
   "source": [
    " - We will fill the missing states for these 3 cities:\n",
    " - Channapatna -> Karnataka\n",
    " - Gangarampur -> WestBengal\n",
    " - Arambagh -> WestBengal"
   ]
  },
  {
   "cell_type": "markdown",
   "metadata": {},
   "source": [
    "- **Filling the missing values for the states**"
   ]
  },
  {
   "cell_type": "code",
   "execution_count": 22,
   "metadata": {},
   "outputs": [],
   "source": [
    "#Replacing the nan values in state with Karnataka where city is Channapatna\n",
    "df_events_data.loc[(df_events_data['city'] == 'Channapatna') & (df_events_data['state'].isnull()), 'state'] = 'Karnataka'"
   ]
  },
  {
   "cell_type": "code",
   "execution_count": 23,
   "metadata": {},
   "outputs": [],
   "source": [
    "#Replacing the nan values in state with WestBengal where city is Gangarampur\n",
    "df_events_data.loc[(df_events_data['city'] == 'Gangarampur') & (df_events_data['state'].isnull()), 'state'] = 'WestBengal'"
   ]
  },
  {
   "cell_type": "code",
   "execution_count": 24,
   "metadata": {},
   "outputs": [],
   "source": [
    "#Replacing the nan values in state with WestBengal where city is Arambagh\n",
    "df_events_data.loc[(df_events_data['city'] == 'Arambagh') & (df_events_data['state'].isnull()), 'state'] = 'WestBengal'"
   ]
  },
  {
   "cell_type": "code",
   "execution_count": 25,
   "metadata": {},
   "outputs": [
    {
     "data": {
      "text/plain": [
       "array(['Pune', 'Visakhapatnam', 'Indore', 'Chennai', 'Delhi', 'Jaipur'],\n",
       "      dtype=object)"
      ]
     },
     "execution_count": 25,
     "metadata": {},
     "output_type": "execute_result"
    }
   ],
   "source": [
    "#Re-checking if events dataset contains any missing states for WestBengal, Karnataka, Bihar, Punjab,Gujarat and Kerala \n",
    "#by checking the list of cities for the missing states.\n",
    "(df_events_data['city'][df_events_data['state'].isnull()]).unique()"
   ]
  },
  {
   "cell_type": "code",
   "execution_count": 26,
   "metadata": {},
   "outputs": [
    {
     "data": {
      "text/plain": [
       "321"
      ]
     },
     "execution_count": 26,
     "metadata": {},
     "output_type": "execute_result"
    }
   ],
   "source": [
    "df_events_data['state'].isnull().sum()"
   ]
  },
  {
   "cell_type": "markdown",
   "metadata": {},
   "source": [
    "- Only 56 missing states belonged to WestBengal, Karnataka, Bihar, Punjab,Gujarat, Kerala"
   ]
  },
  {
   "cell_type": "markdown",
   "metadata": {},
   "source": [
    "- **Filtering the events database by states (WestBengal, Karnataka, Bihar, Punjab,Gujarat, Kerala)**"
   ]
  },
  {
   "cell_type": "code",
   "execution_count": 27,
   "metadata": {},
   "outputs": [],
   "source": [
    "df_events_data_filtered = df_events_data[df_events_data['state'].isin(['WestBengal', 'Karnataka', 'Bihar', 'Punjab','Gujarat', 'Kerala'])]"
   ]
  },
  {
   "cell_type": "code",
   "execution_count": 28,
   "metadata": {},
   "outputs": [
    {
     "data": {
      "text/html": [
       "<div>\n",
       "<style scoped>\n",
       "    .dataframe tbody tr th:only-of-type {\n",
       "        vertical-align: middle;\n",
       "    }\n",
       "\n",
       "    .dataframe tbody tr th {\n",
       "        vertical-align: top;\n",
       "    }\n",
       "\n",
       "    .dataframe thead th {\n",
       "        text-align: right;\n",
       "    }\n",
       "</style>\n",
       "<table border=\"1\" class=\"dataframe\">\n",
       "  <thead>\n",
       "    <tr style=\"text-align: right;\">\n",
       "      <th></th>\n",
       "      <th>event_id</th>\n",
       "      <th>device_id</th>\n",
       "      <th>timestamp</th>\n",
       "      <th>longitude</th>\n",
       "      <th>latitude</th>\n",
       "      <th>city</th>\n",
       "      <th>state</th>\n",
       "    </tr>\n",
       "  </thead>\n",
       "  <tbody>\n",
       "    <tr>\n",
       "      <th>1</th>\n",
       "      <td>2955066</td>\n",
       "      <td>4734221357723754496.00000</td>\n",
       "      <td>2016-05-01 20:44:16</td>\n",
       "      <td>88.38836</td>\n",
       "      <td>22.66033</td>\n",
       "      <td>Calcutta</td>\n",
       "      <td>WestBengal</td>\n",
       "    </tr>\n",
       "    <tr>\n",
       "      <th>28</th>\n",
       "      <td>769546</td>\n",
       "      <td>-1817502319478569728.00000</td>\n",
       "      <td>2016-05-01 14:07:23</td>\n",
       "      <td>88.37181</td>\n",
       "      <td>22.66285</td>\n",
       "      <td>Calcutta</td>\n",
       "      <td>WestBengal</td>\n",
       "    </tr>\n",
       "    <tr>\n",
       "      <th>30</th>\n",
       "      <td>1750603</td>\n",
       "      <td>-5598137337131307008.00000</td>\n",
       "      <td>2016-05-05 15:47:03</td>\n",
       "      <td>70.21268</td>\n",
       "      <td>23.11837</td>\n",
       "      <td>Gandhidham</td>\n",
       "      <td>Gujarat</td>\n",
       "    </tr>\n",
       "    <tr>\n",
       "      <th>31</th>\n",
       "      <td>3085968</td>\n",
       "      <td>-3808296883972395520.00000</td>\n",
       "      <td>2016-05-07 01:25:47</td>\n",
       "      <td>75.51302</td>\n",
       "      <td>11.81237</td>\n",
       "      <td>Thalassery</td>\n",
       "      <td>Kerala</td>\n",
       "    </tr>\n",
       "    <tr>\n",
       "      <th>39</th>\n",
       "      <td>1407594</td>\n",
       "      <td>-2995507760806350336.00000</td>\n",
       "      <td>2016-05-03 20:01:35</td>\n",
       "      <td>77.80519</td>\n",
       "      <td>13.53330</td>\n",
       "      <td>ChikBallapur</td>\n",
       "      <td>Karnataka</td>\n",
       "    </tr>\n",
       "  </tbody>\n",
       "</table>\n",
       "</div>"
      ],
      "text/plain": [
       "    event_id                  device_id            timestamp  longitude  \\\n",
       "1    2955066  4734221357723754496.00000  2016-05-01 20:44:16   88.38836   \n",
       "28    769546 -1817502319478569728.00000  2016-05-01 14:07:23   88.37181   \n",
       "30   1750603 -5598137337131307008.00000  2016-05-05 15:47:03   70.21268   \n",
       "31   3085968 -3808296883972395520.00000  2016-05-07 01:25:47   75.51302   \n",
       "39   1407594 -2995507760806350336.00000  2016-05-03 20:01:35   77.80519   \n",
       "\n",
       "    latitude          city       state  \n",
       "1   22.66033      Calcutta  WestBengal  \n",
       "28  22.66285      Calcutta  WestBengal  \n",
       "30  23.11837    Gandhidham     Gujarat  \n",
       "31  11.81237    Thalassery      Kerala  \n",
       "39  13.53330  ChikBallapur   Karnataka  "
      ]
     },
     "execution_count": 28,
     "metadata": {},
     "output_type": "execute_result"
    }
   ],
   "source": [
    "df_events_data_filtered.head()"
   ]
  },
  {
   "cell_type": "code",
   "execution_count": 29,
   "metadata": {},
   "outputs": [
    {
     "name": "stdout",
     "output_type": "stream",
     "text": [
      "<class 'pandas.core.frame.DataFrame'>\n",
      "Int64Index: 422971 entries, 1 to 3252921\n",
      "Data columns (total 7 columns):\n",
      " #   Column     Non-Null Count   Dtype  \n",
      "---  ------     --------------   -----  \n",
      " 0   event_id   422971 non-null  int64  \n",
      " 1   device_id  422923 non-null  float64\n",
      " 2   timestamp  422971 non-null  object \n",
      " 3   longitude  422929 non-null  float64\n",
      " 4   latitude   422929 non-null  float64\n",
      " 5   city       422971 non-null  object \n",
      " 6   state      422971 non-null  object \n",
      "dtypes: float64(3), int64(1), object(3)\n",
      "memory usage: 25.8+ MB\n"
     ]
    }
   ],
   "source": [
    "df_events_data_filtered.info()"
   ]
  },
  {
   "cell_type": "code",
   "execution_count": 30,
   "metadata": {},
   "outputs": [
    {
     "data": {
      "text/plain": [
       "event_id      0\n",
       "device_id    48\n",
       "timestamp     0\n",
       "longitude    42\n",
       "latitude     42\n",
       "city          0\n",
       "state         0\n",
       "dtype: int64"
      ]
     },
     "execution_count": 30,
     "metadata": {},
     "output_type": "execute_result"
    }
   ],
   "source": [
    "#checking null values in the filtered dataset\n",
    "df_events_data_filtered.isnull().sum()"
   ]
  },
  {
   "cell_type": "markdown",
   "metadata": {},
   "source": [
    "**Observations for the filtered event dataset:**\n",
    "- There are __422971 records and 7 features__ in the filtered events dataset.\n",
    "- __event_id, timestamp, city and state__ columns have __no missing values.__\n",
    "- __device_id__ has __48 missing values__\n",
    "- __longitude and latitude__ have __42missing values.__\n",
    "- __Data types__ for all the columns are correct."
   ]
  },
  {
   "cell_type": "markdown",
   "metadata": {},
   "source": [
    "<a name = Section52></a>\n",
    "### **5.2 Merging the filtered events dataset with gender_age and brand_model datasets**\n",
    "\n",
    "- Here, we will map all the records of **_events_** dataset with **_gender_age_** and **_brand_model_** datasets to get the demographic details and the brand model details of the users.\n",
    "- We will create a new merged dataframe which will be used for further analysis.\n",
    "- Merging of the datasets will happen on the common column _device id_.\n",
    "- So, first we need to fill in the missing values for the _device id_ in the filtered events dataset."
   ]
  },
  {
   "cell_type": "markdown",
   "metadata": {},
   "source": [
    "- **Handling missing device_ids in the filtered dataset**"
   ]
  },
  {
   "cell_type": "code",
   "execution_count": 31,
   "metadata": {},
   "outputs": [
    {
     "data": {
      "text/html": [
       "<div>\n",
       "<style scoped>\n",
       "    .dataframe tbody tr th:only-of-type {\n",
       "        vertical-align: middle;\n",
       "    }\n",
       "\n",
       "    .dataframe tbody tr th {\n",
       "        vertical-align: top;\n",
       "    }\n",
       "\n",
       "    .dataframe thead th {\n",
       "        text-align: right;\n",
       "    }\n",
       "</style>\n",
       "<table border=\"1\" class=\"dataframe\">\n",
       "  <thead>\n",
       "    <tr style=\"text-align: right;\">\n",
       "      <th></th>\n",
       "      <th></th>\n",
       "      <th></th>\n",
       "      <th></th>\n",
       "      <th>event_id</th>\n",
       "      <th>device_id</th>\n",
       "      <th>timestamp</th>\n",
       "    </tr>\n",
       "    <tr>\n",
       "      <th>longitude</th>\n",
       "      <th>latitude</th>\n",
       "      <th>city</th>\n",
       "      <th>state</th>\n",
       "      <th></th>\n",
       "      <th></th>\n",
       "      <th></th>\n",
       "    </tr>\n",
       "  </thead>\n",
       "  <tbody>\n",
       "    <tr>\n",
       "      <th>70.68639</th>\n",
       "      <th>21.79069</th>\n",
       "      <th>Jetpur</th>\n",
       "      <th>Gujarat</th>\n",
       "      <td>16</td>\n",
       "      <td>0</td>\n",
       "      <td>16</td>\n",
       "    </tr>\n",
       "    <tr>\n",
       "      <th>73.16934</th>\n",
       "      <th>21.19428</th>\n",
       "      <th>Bardoli</th>\n",
       "      <th>Gujarat</th>\n",
       "      <td>16</td>\n",
       "      <td>0</td>\n",
       "      <td>16</td>\n",
       "    </tr>\n",
       "    <tr>\n",
       "      <th>75.99255</th>\n",
       "      <th>31.56175</th>\n",
       "      <th>Hoshiarpur</th>\n",
       "      <th>Punjab</th>\n",
       "      <td>16</td>\n",
       "      <td>0</td>\n",
       "      <td>16</td>\n",
       "    </tr>\n",
       "  </tbody>\n",
       "</table>\n",
       "</div>"
      ],
      "text/plain": [
       "                                       event_id  device_id  timestamp\n",
       "longitude latitude city       state                                  \n",
       "70.68639  21.79069 Jetpur     Gujarat        16          0         16\n",
       "73.16934  21.19428 Bardoli    Gujarat        16          0         16\n",
       "75.99255  31.56175 Hoshiarpur Punjab         16          0         16"
      ]
     },
     "execution_count": 31,
     "metadata": {},
     "output_type": "execute_result"
    }
   ],
   "source": [
    "df_events_data_filtered[df_events_data_filtered['device_id'].isnull()].groupby(['longitude', 'latitude','city','state']).count() #sort_values(['state','city'])"
   ]
  },
  {
   "cell_type": "markdown",
   "metadata": {},
   "source": [
    "- We see that there are 3 device_ids whose values are missing:\n",
    "- They can be mapped as:\n",
    "  - 1st device id where longitude = 73.16934, latitude = 21.19428, city= Bardoli , state=Gujarat\n",
    "  - 2nd device id where longitude = 70.68639, latitude = 21.79069, city= Jetpur, state=Gujarat\n",
    "  - 3rd device id where longitude = 75.99255, latitude = 31.56175, city= Hoshiarpur, state=Punjab"
   ]
  },
  {
   "cell_type": "code",
   "execution_count": 32,
   "metadata": {},
   "outputs": [
    {
     "data": {
      "text/html": [
       "<div>\n",
       "<style scoped>\n",
       "    .dataframe tbody tr th:only-of-type {\n",
       "        vertical-align: middle;\n",
       "    }\n",
       "\n",
       "    .dataframe tbody tr th {\n",
       "        vertical-align: top;\n",
       "    }\n",
       "\n",
       "    .dataframe thead th {\n",
       "        text-align: right;\n",
       "    }\n",
       "</style>\n",
       "<table border=\"1\" class=\"dataframe\">\n",
       "  <thead>\n",
       "    <tr style=\"text-align: right;\">\n",
       "      <th></th>\n",
       "      <th>event_id</th>\n",
       "      <th>device_id</th>\n",
       "      <th>timestamp</th>\n",
       "      <th>longitude</th>\n",
       "      <th>latitude</th>\n",
       "      <th>city</th>\n",
       "      <th>state</th>\n",
       "    </tr>\n",
       "  </thead>\n",
       "  <tbody>\n",
       "  </tbody>\n",
       "</table>\n",
       "</div>"
      ],
      "text/plain": [
       "Empty DataFrame\n",
       "Columns: [event_id, device_id, timestamp, longitude, latitude, city, state]\n",
       "Index: []"
      ]
     },
     "execution_count": 32,
     "metadata": {},
     "output_type": "execute_result"
    }
   ],
   "source": [
    "# get the 1st device id\n",
    "df_events_data_filtered[(df_events_data_filtered['longitude'] == 73.16934) & (df_events_data_filtered['latitude'] == 21.19428)]"
   ]
  },
  {
   "cell_type": "code",
   "execution_count": 33,
   "metadata": {},
   "outputs": [
    {
     "data": {
      "text/html": [
       "<div>\n",
       "<style scoped>\n",
       "    .dataframe tbody tr th:only-of-type {\n",
       "        vertical-align: middle;\n",
       "    }\n",
       "\n",
       "    .dataframe tbody tr th {\n",
       "        vertical-align: top;\n",
       "    }\n",
       "\n",
       "    .dataframe thead th {\n",
       "        text-align: right;\n",
       "    }\n",
       "</style>\n",
       "<table border=\"1\" class=\"dataframe\">\n",
       "  <thead>\n",
       "    <tr style=\"text-align: right;\">\n",
       "      <th></th>\n",
       "      <th></th>\n",
       "      <th></th>\n",
       "      <th></th>\n",
       "      <th></th>\n",
       "      <th>event_id</th>\n",
       "      <th>timestamp</th>\n",
       "    </tr>\n",
       "    <tr>\n",
       "      <th>device_id</th>\n",
       "      <th>longitude</th>\n",
       "      <th>latitude</th>\n",
       "      <th>city</th>\n",
       "      <th>state</th>\n",
       "      <th></th>\n",
       "      <th></th>\n",
       "    </tr>\n",
       "  </thead>\n",
       "  <tbody>\n",
       "    <tr>\n",
       "      <th>-8939375088504041472.00000</th>\n",
       "      <th>73.20107</th>\n",
       "      <th>21.17746</th>\n",
       "      <th>Bardoli</th>\n",
       "      <th>Gujarat</th>\n",
       "      <td>15</td>\n",
       "      <td>15</td>\n",
       "    </tr>\n",
       "    <tr>\n",
       "      <th>-8245807954961570816.00000</th>\n",
       "      <th>73.15158</th>\n",
       "      <th>21.19418</th>\n",
       "      <th>Bardoli</th>\n",
       "      <th>Gujarat</th>\n",
       "      <td>1</td>\n",
       "      <td>1</td>\n",
       "    </tr>\n",
       "    <tr>\n",
       "      <th>-8215770519233685504.00000</th>\n",
       "      <th>73.16934</th>\n",
       "      <th>21.19428</th>\n",
       "      <th>Bardoli</th>\n",
       "      <th>Gujarat</th>\n",
       "      <td>381</td>\n",
       "      <td>381</td>\n",
       "    </tr>\n",
       "    <tr>\n",
       "      <th>-8101478099587991552.00000</th>\n",
       "      <th>73.16179</th>\n",
       "      <th>21.20450</th>\n",
       "      <th>Bardoli</th>\n",
       "      <th>Gujarat</th>\n",
       "      <td>5</td>\n",
       "      <td>5</td>\n",
       "    </tr>\n",
       "    <tr>\n",
       "      <th>-8022320605308700672.00000</th>\n",
       "      <th>73.20153</th>\n",
       "      <th>21.19053</th>\n",
       "      <th>Bardoli</th>\n",
       "      <th>Gujarat</th>\n",
       "      <td>18</td>\n",
       "      <td>18</td>\n",
       "    </tr>\n",
       "    <tr>\n",
       "      <th>-7629548547563755520.00000</th>\n",
       "      <th>73.20758</th>\n",
       "      <th>21.15599</th>\n",
       "      <th>Bardoli</th>\n",
       "      <th>Gujarat</th>\n",
       "      <td>8</td>\n",
       "      <td>8</td>\n",
       "    </tr>\n",
       "    <tr>\n",
       "      <th>-7046882659286756352.00000</th>\n",
       "      <th>73.21763</th>\n",
       "      <th>21.14622</th>\n",
       "      <th>Bardoli</th>\n",
       "      <th>Gujarat</th>\n",
       "      <td>1</td>\n",
       "      <td>1</td>\n",
       "    </tr>\n",
       "    <tr>\n",
       "      <th>-6624996692128278528.00000</th>\n",
       "      <th>73.15566</th>\n",
       "      <th>21.18198</th>\n",
       "      <th>Bardoli</th>\n",
       "      <th>Gujarat</th>\n",
       "      <td>13</td>\n",
       "      <td>13</td>\n",
       "    </tr>\n",
       "    <tr>\n",
       "      <th>-6313122852748910592.00000</th>\n",
       "      <th>73.13923</th>\n",
       "      <th>21.20802</th>\n",
       "      <th>Bardoli</th>\n",
       "      <th>Gujarat</th>\n",
       "      <td>84</td>\n",
       "      <td>84</td>\n",
       "    </tr>\n",
       "    <tr>\n",
       "      <th>-5509893450287350784.00000</th>\n",
       "      <th>73.13438</th>\n",
       "      <th>21.18972</th>\n",
       "      <th>Bardoli</th>\n",
       "      <th>Gujarat</th>\n",
       "      <td>20</td>\n",
       "      <td>20</td>\n",
       "    </tr>\n",
       "    <tr>\n",
       "      <th>-4352251841106825216.00000</th>\n",
       "      <th>73.21277</th>\n",
       "      <th>21.16131</th>\n",
       "      <th>Bardoli</th>\n",
       "      <th>Gujarat</th>\n",
       "      <td>7</td>\n",
       "      <td>7</td>\n",
       "    </tr>\n",
       "    <tr>\n",
       "      <th>-2268060737149578496.00000</th>\n",
       "      <th>73.14531</th>\n",
       "      <th>21.19555</th>\n",
       "      <th>Bardoli</th>\n",
       "      <th>Gujarat</th>\n",
       "      <td>19</td>\n",
       "      <td>19</td>\n",
       "    </tr>\n",
       "    <tr>\n",
       "      <th>-850801614656444416.00000</th>\n",
       "      <th>73.16794</th>\n",
       "      <th>21.17659</th>\n",
       "      <th>Bardoli</th>\n",
       "      <th>Gujarat</th>\n",
       "      <td>89</td>\n",
       "      <td>89</td>\n",
       "    </tr>\n",
       "    <tr>\n",
       "      <th>-241399354951308736.00000</th>\n",
       "      <th>73.17951</th>\n",
       "      <th>21.16689</th>\n",
       "      <th>Bardoli</th>\n",
       "      <th>Gujarat</th>\n",
       "      <td>3</td>\n",
       "      <td>3</td>\n",
       "    </tr>\n",
       "    <tr>\n",
       "      <th>-201115372206950336.00000</th>\n",
       "      <th>73.15841</th>\n",
       "      <th>21.16943</th>\n",
       "      <th>Bardoli</th>\n",
       "      <th>Gujarat</th>\n",
       "      <td>3</td>\n",
       "      <td>3</td>\n",
       "    </tr>\n",
       "    <tr>\n",
       "      <th>127432819487013968.00000</th>\n",
       "      <th>73.13984</th>\n",
       "      <th>21.17294</th>\n",
       "      <th>Bardoli</th>\n",
       "      <th>Gujarat</th>\n",
       "      <td>285</td>\n",
       "      <td>285</td>\n",
       "    </tr>\n",
       "    <tr>\n",
       "      <th>2890524540862737408.00000</th>\n",
       "      <th>73.15736</th>\n",
       "      <th>21.16170</th>\n",
       "      <th>Bardoli</th>\n",
       "      <th>Gujarat</th>\n",
       "      <td>3</td>\n",
       "      <td>3</td>\n",
       "    </tr>\n",
       "    <tr>\n",
       "      <th>3161915645479610368.00000</th>\n",
       "      <th>73.14196</th>\n",
       "      <th>21.16395</th>\n",
       "      <th>Bardoli</th>\n",
       "      <th>Gujarat</th>\n",
       "      <td>12</td>\n",
       "      <td>12</td>\n",
       "    </tr>\n",
       "    <tr>\n",
       "      <th>3788608858206865408.00000</th>\n",
       "      <th>73.13727</th>\n",
       "      <th>21.14516</th>\n",
       "      <th>Bardoli</th>\n",
       "      <th>Gujarat</th>\n",
       "      <td>342</td>\n",
       "      <td>342</td>\n",
       "    </tr>\n",
       "    <tr>\n",
       "      <th>4185679919376708096.00000</th>\n",
       "      <th>73.16705</th>\n",
       "      <th>21.20083</th>\n",
       "      <th>Bardoli</th>\n",
       "      <th>Gujarat</th>\n",
       "      <td>42</td>\n",
       "      <td>42</td>\n",
       "    </tr>\n",
       "    <tr>\n",
       "      <th>4721834275902653440.00000</th>\n",
       "      <th>73.17406</th>\n",
       "      <th>21.17608</th>\n",
       "      <th>Bardoli</th>\n",
       "      <th>Gujarat</th>\n",
       "      <td>18</td>\n",
       "      <td>18</td>\n",
       "    </tr>\n",
       "    <tr>\n",
       "      <th>5511151815004635136.00000</th>\n",
       "      <th>73.15274</th>\n",
       "      <th>21.21867</th>\n",
       "      <th>Bardoli</th>\n",
       "      <th>Gujarat</th>\n",
       "      <td>13</td>\n",
       "      <td>13</td>\n",
       "    </tr>\n",
       "    <tr>\n",
       "      <th>6078292970897166336.00000</th>\n",
       "      <th>73.19015</th>\n",
       "      <th>21.21973</th>\n",
       "      <th>Bardoli</th>\n",
       "      <th>Gujarat</th>\n",
       "      <td>2</td>\n",
       "      <td>2</td>\n",
       "    </tr>\n",
       "    <tr>\n",
       "      <th>6967290745489095680.00000</th>\n",
       "      <th>73.13014</th>\n",
       "      <th>21.15401</th>\n",
       "      <th>Bardoli</th>\n",
       "      <th>Gujarat</th>\n",
       "      <td>35</td>\n",
       "      <td>35</td>\n",
       "    </tr>\n",
       "    <tr>\n",
       "      <th>6996624532747952128.00000</th>\n",
       "      <th>73.20892</th>\n",
       "      <th>21.15398</th>\n",
       "      <th>Bardoli</th>\n",
       "      <th>Gujarat</th>\n",
       "      <td>4</td>\n",
       "      <td>4</td>\n",
       "    </tr>\n",
       "    <tr>\n",
       "      <th>8969188838373352448.00000</th>\n",
       "      <th>73.13086</th>\n",
       "      <th>21.16180</th>\n",
       "      <th>Bardoli</th>\n",
       "      <th>Gujarat</th>\n",
       "      <td>26</td>\n",
       "      <td>26</td>\n",
       "    </tr>\n",
       "    <tr>\n",
       "      <th>9039443923969360896.00000</th>\n",
       "      <th>73.16305</th>\n",
       "      <th>21.16610</th>\n",
       "      <th>Bardoli</th>\n",
       "      <th>Gujarat</th>\n",
       "      <td>10</td>\n",
       "      <td>10</td>\n",
       "    </tr>\n",
       "  </tbody>\n",
       "</table>\n",
       "</div>"
      ],
      "text/plain": [
       "                                                               event_id  \\\n",
       "device_id                  longitude latitude city    state               \n",
       "-8939375088504041472.00000 73.20107  21.17746 Bardoli Gujarat        15   \n",
       "-8245807954961570816.00000 73.15158  21.19418 Bardoli Gujarat         1   \n",
       "-8215770519233685504.00000 73.16934  21.19428 Bardoli Gujarat       381   \n",
       "-8101478099587991552.00000 73.16179  21.20450 Bardoli Gujarat         5   \n",
       "-8022320605308700672.00000 73.20153  21.19053 Bardoli Gujarat        18   \n",
       "-7629548547563755520.00000 73.20758  21.15599 Bardoli Gujarat         8   \n",
       "-7046882659286756352.00000 73.21763  21.14622 Bardoli Gujarat         1   \n",
       "-6624996692128278528.00000 73.15566  21.18198 Bardoli Gujarat        13   \n",
       "-6313122852748910592.00000 73.13923  21.20802 Bardoli Gujarat        84   \n",
       "-5509893450287350784.00000 73.13438  21.18972 Bardoli Gujarat        20   \n",
       "-4352251841106825216.00000 73.21277  21.16131 Bardoli Gujarat         7   \n",
       "-2268060737149578496.00000 73.14531  21.19555 Bardoli Gujarat        19   \n",
       "-850801614656444416.00000  73.16794  21.17659 Bardoli Gujarat        89   \n",
       "-241399354951308736.00000  73.17951  21.16689 Bardoli Gujarat         3   \n",
       "-201115372206950336.00000  73.15841  21.16943 Bardoli Gujarat         3   \n",
       "127432819487013968.00000   73.13984  21.17294 Bardoli Gujarat       285   \n",
       "2890524540862737408.00000  73.15736  21.16170 Bardoli Gujarat         3   \n",
       "3161915645479610368.00000  73.14196  21.16395 Bardoli Gujarat        12   \n",
       "3788608858206865408.00000  73.13727  21.14516 Bardoli Gujarat       342   \n",
       "4185679919376708096.00000  73.16705  21.20083 Bardoli Gujarat        42   \n",
       "4721834275902653440.00000  73.17406  21.17608 Bardoli Gujarat        18   \n",
       "5511151815004635136.00000  73.15274  21.21867 Bardoli Gujarat        13   \n",
       "6078292970897166336.00000  73.19015  21.21973 Bardoli Gujarat         2   \n",
       "6967290745489095680.00000  73.13014  21.15401 Bardoli Gujarat        35   \n",
       "6996624532747952128.00000  73.20892  21.15398 Bardoli Gujarat         4   \n",
       "8969188838373352448.00000  73.13086  21.16180 Bardoli Gujarat        26   \n",
       "9039443923969360896.00000  73.16305  21.16610 Bardoli Gujarat        10   \n",
       "\n",
       "                                                               timestamp  \n",
       "device_id                  longitude latitude city    state               \n",
       "-8939375088504041472.00000 73.20107  21.17746 Bardoli Gujarat         15  \n",
       "-8245807954961570816.00000 73.15158  21.19418 Bardoli Gujarat          1  \n",
       "-8215770519233685504.00000 73.16934  21.19428 Bardoli Gujarat        381  \n",
       "-8101478099587991552.00000 73.16179  21.20450 Bardoli Gujarat          5  \n",
       "-8022320605308700672.00000 73.20153  21.19053 Bardoli Gujarat         18  \n",
       "-7629548547563755520.00000 73.20758  21.15599 Bardoli Gujarat          8  \n",
       "-7046882659286756352.00000 73.21763  21.14622 Bardoli Gujarat          1  \n",
       "-6624996692128278528.00000 73.15566  21.18198 Bardoli Gujarat         13  \n",
       "-6313122852748910592.00000 73.13923  21.20802 Bardoli Gujarat         84  \n",
       "-5509893450287350784.00000 73.13438  21.18972 Bardoli Gujarat         20  \n",
       "-4352251841106825216.00000 73.21277  21.16131 Bardoli Gujarat          7  \n",
       "-2268060737149578496.00000 73.14531  21.19555 Bardoli Gujarat         19  \n",
       "-850801614656444416.00000  73.16794  21.17659 Bardoli Gujarat         89  \n",
       "-241399354951308736.00000  73.17951  21.16689 Bardoli Gujarat          3  \n",
       "-201115372206950336.00000  73.15841  21.16943 Bardoli Gujarat          3  \n",
       "127432819487013968.00000   73.13984  21.17294 Bardoli Gujarat        285  \n",
       "2890524540862737408.00000  73.15736  21.16170 Bardoli Gujarat          3  \n",
       "3161915645479610368.00000  73.14196  21.16395 Bardoli Gujarat         12  \n",
       "3788608858206865408.00000  73.13727  21.14516 Bardoli Gujarat        342  \n",
       "4185679919376708096.00000  73.16705  21.20083 Bardoli Gujarat         42  \n",
       "4721834275902653440.00000  73.17406  21.17608 Bardoli Gujarat         18  \n",
       "5511151815004635136.00000  73.15274  21.21867 Bardoli Gujarat         13  \n",
       "6078292970897166336.00000  73.19015  21.21973 Bardoli Gujarat          2  \n",
       "6967290745489095680.00000  73.13014  21.15401 Bardoli Gujarat         35  \n",
       "6996624532747952128.00000  73.20892  21.15398 Bardoli Gujarat          4  \n",
       "8969188838373352448.00000  73.13086  21.16180 Bardoli Gujarat         26  \n",
       "9039443923969360896.00000  73.16305  21.16610 Bardoli Gujarat         10  "
      ]
     },
     "execution_count": 33,
     "metadata": {},
     "output_type": "execute_result"
    }
   ],
   "source": [
    "# get the 1st device id where longitude = 73.16934, latitude = 21.19428, city= Bardoli , state=Gujarat\n",
    "df_events_data_filtered[(df_events_data_filtered['city'] == 'Bardoli') & (df_events_data_filtered['state'] == 'Gujarat')].groupby(['device_id','longitude', 'latitude','city','state']).count()"
   ]
  },
  {
   "cell_type": "markdown",
   "metadata": {},
   "source": [
    "- 1st device id is -8215770519233685504 where longitude = 73.16934, latitude = 21.19428, city= Bardoli , state=Gujarat"
   ]
  },
  {
   "cell_type": "code",
   "execution_count": 34,
   "metadata": {},
   "outputs": [
    {
     "data": {
      "text/html": [
       "<div>\n",
       "<style scoped>\n",
       "    .dataframe tbody tr th:only-of-type {\n",
       "        vertical-align: middle;\n",
       "    }\n",
       "\n",
       "    .dataframe tbody tr th {\n",
       "        vertical-align: top;\n",
       "    }\n",
       "\n",
       "    .dataframe thead th {\n",
       "        text-align: right;\n",
       "    }\n",
       "</style>\n",
       "<table border=\"1\" class=\"dataframe\">\n",
       "  <thead>\n",
       "    <tr style=\"text-align: right;\">\n",
       "      <th></th>\n",
       "      <th></th>\n",
       "      <th></th>\n",
       "      <th></th>\n",
       "      <th></th>\n",
       "      <th>event_id</th>\n",
       "      <th>timestamp</th>\n",
       "    </tr>\n",
       "    <tr>\n",
       "      <th>device_id</th>\n",
       "      <th>longitude</th>\n",
       "      <th>latitude</th>\n",
       "      <th>city</th>\n",
       "      <th>state</th>\n",
       "      <th></th>\n",
       "      <th></th>\n",
       "    </tr>\n",
       "  </thead>\n",
       "  <tbody>\n",
       "    <tr>\n",
       "      <th>-9100626844458295296.00000</th>\n",
       "      <th>70.68467</th>\n",
       "      <th>21.79341</th>\n",
       "      <th>Jetpur</th>\n",
       "      <th>Gujarat</th>\n",
       "      <td>32</td>\n",
       "      <td>32</td>\n",
       "    </tr>\n",
       "    <tr>\n",
       "      <th>-7864383677585044480.00000</th>\n",
       "      <th>70.62907</th>\n",
       "      <th>21.82055</th>\n",
       "      <th>Jetpur</th>\n",
       "      <th>Gujarat</th>\n",
       "      <td>95</td>\n",
       "      <td>95</td>\n",
       "    </tr>\n",
       "    <tr>\n",
       "      <th>-7356791296642819072.00000</th>\n",
       "      <th>70.68620</th>\n",
       "      <th>21.80623</th>\n",
       "      <th>Jetpur</th>\n",
       "      <th>Gujarat</th>\n",
       "      <td>1</td>\n",
       "      <td>1</td>\n",
       "    </tr>\n",
       "    <tr>\n",
       "      <th>-6941872424033244160.00000</th>\n",
       "      <th>70.62482</th>\n",
       "      <th>21.80541</th>\n",
       "      <th>Jetpur</th>\n",
       "      <th>Gujarat</th>\n",
       "      <td>4</td>\n",
       "      <td>4</td>\n",
       "    </tr>\n",
       "    <tr>\n",
       "      <th>-4748170714083747840.00000</th>\n",
       "      <th>70.62804</th>\n",
       "      <th>21.76449</th>\n",
       "      <th>Jetpur</th>\n",
       "      <th>Gujarat</th>\n",
       "      <td>9</td>\n",
       "      <td>9</td>\n",
       "    </tr>\n",
       "    <tr>\n",
       "      <th>-4619283383535598592.00000</th>\n",
       "      <th>70.68497</th>\n",
       "      <th>21.78174</th>\n",
       "      <th>Jetpur</th>\n",
       "      <th>Gujarat</th>\n",
       "      <td>17</td>\n",
       "      <td>17</td>\n",
       "    </tr>\n",
       "    <tr>\n",
       "      <th>-4161076139992630784.00000</th>\n",
       "      <th>70.63390</th>\n",
       "      <th>21.82504</th>\n",
       "      <th>Jetpur</th>\n",
       "      <th>Gujarat</th>\n",
       "      <td>26</td>\n",
       "      <td>26</td>\n",
       "    </tr>\n",
       "    <tr>\n",
       "      <th>-4109861778213652480.00000</th>\n",
       "      <th>70.64444</th>\n",
       "      <th>21.81232</th>\n",
       "      <th>Jetpur</th>\n",
       "      <th>Gujarat</th>\n",
       "      <td>2</td>\n",
       "      <td>2</td>\n",
       "    </tr>\n",
       "    <tr>\n",
       "      <th>-3642392870862093312.00000</th>\n",
       "      <th>70.67585</th>\n",
       "      <th>21.82392</th>\n",
       "      <th>Jetpur</th>\n",
       "      <th>Gujarat</th>\n",
       "      <td>22</td>\n",
       "      <td>22</td>\n",
       "    </tr>\n",
       "    <tr>\n",
       "      <th>-3594624024428926464.00000</th>\n",
       "      <th>70.66528</th>\n",
       "      <th>21.79814</th>\n",
       "      <th>Jetpur</th>\n",
       "      <th>Gujarat</th>\n",
       "      <td>54</td>\n",
       "      <td>54</td>\n",
       "    </tr>\n",
       "    <tr>\n",
       "      <th>-2175970584729524224.00000</th>\n",
       "      <th>70.62613</th>\n",
       "      <th>21.80273</th>\n",
       "      <th>Jetpur</th>\n",
       "      <th>Gujarat</th>\n",
       "      <td>66</td>\n",
       "      <td>66</td>\n",
       "    </tr>\n",
       "    <tr>\n",
       "      <th>-1688015122502424064.00000</th>\n",
       "      <th>70.68639</th>\n",
       "      <th>21.79069</th>\n",
       "      <th>Jetpur</th>\n",
       "      <th>Gujarat</th>\n",
       "      <td>428</td>\n",
       "      <td>428</td>\n",
       "    </tr>\n",
       "    <tr>\n",
       "      <th>-1539579805873659136.00000</th>\n",
       "      <th>70.68739</th>\n",
       "      <th>21.76234</th>\n",
       "      <th>Jetpur</th>\n",
       "      <th>Gujarat</th>\n",
       "      <td>15</td>\n",
       "      <td>15</td>\n",
       "    </tr>\n",
       "    <tr>\n",
       "      <th>-1175161657674430208.00000</th>\n",
       "      <th>70.66602</th>\n",
       "      <th>21.78184</th>\n",
       "      <th>Jetpur</th>\n",
       "      <th>Gujarat</th>\n",
       "      <td>5</td>\n",
       "      <td>5</td>\n",
       "    </tr>\n",
       "    <tr>\n",
       "      <th>-913931673945064960.00000</th>\n",
       "      <th>70.70997</th>\n",
       "      <th>21.78773</th>\n",
       "      <th>Jetpur</th>\n",
       "      <th>Gujarat</th>\n",
       "      <td>3</td>\n",
       "      <td>3</td>\n",
       "    </tr>\n",
       "    <tr>\n",
       "      <th>300930182267191424.00000</th>\n",
       "      <th>70.66383</th>\n",
       "      <th>21.79935</th>\n",
       "      <th>Jetpur</th>\n",
       "      <th>Gujarat</th>\n",
       "      <td>50</td>\n",
       "      <td>50</td>\n",
       "    </tr>\n",
       "    <tr>\n",
       "      <th>352055554969358016.00000</th>\n",
       "      <th>70.65829</th>\n",
       "      <th>21.79621</th>\n",
       "      <th>Jetpur</th>\n",
       "      <th>Gujarat</th>\n",
       "      <td>188</td>\n",
       "      <td>188</td>\n",
       "    </tr>\n",
       "    <tr>\n",
       "      <th>2154044300502066432.00000</th>\n",
       "      <th>70.66374</th>\n",
       "      <th>21.78366</th>\n",
       "      <th>Jetpur</th>\n",
       "      <th>Gujarat</th>\n",
       "      <td>2</td>\n",
       "      <td>2</td>\n",
       "    </tr>\n",
       "    <tr>\n",
       "      <th>2262915043198698496.00000</th>\n",
       "      <th>70.70500</th>\n",
       "      <th>21.80192</th>\n",
       "      <th>Jetpur</th>\n",
       "      <th>Gujarat</th>\n",
       "      <td>103</td>\n",
       "      <td>103</td>\n",
       "    </tr>\n",
       "    <tr>\n",
       "      <th>2326941342989287936.00000</th>\n",
       "      <th>70.64123</th>\n",
       "      <th>21.76605</th>\n",
       "      <th>Jetpur</th>\n",
       "      <th>Gujarat</th>\n",
       "      <td>85</td>\n",
       "      <td>85</td>\n",
       "    </tr>\n",
       "    <tr>\n",
       "      <th>4959516886988744704.00000</th>\n",
       "      <th>70.69112</th>\n",
       "      <th>21.80289</th>\n",
       "      <th>Jetpur</th>\n",
       "      <th>Gujarat</th>\n",
       "      <td>97</td>\n",
       "      <td>97</td>\n",
       "    </tr>\n",
       "    <tr>\n",
       "      <th>6063231590006155264.00000</th>\n",
       "      <th>70.67900</th>\n",
       "      <th>21.84886</th>\n",
       "      <th>Jetpur</th>\n",
       "      <th>Gujarat</th>\n",
       "      <td>29</td>\n",
       "      <td>29</td>\n",
       "    </tr>\n",
       "    <tr>\n",
       "      <th>6315669044065566720.00000</th>\n",
       "      <th>70.63060</th>\n",
       "      <th>21.83611</th>\n",
       "      <th>Jetpur</th>\n",
       "      <th>Gujarat</th>\n",
       "      <td>1</td>\n",
       "      <td>1</td>\n",
       "    </tr>\n",
       "    <tr>\n",
       "      <th>6487172381337831424.00000</th>\n",
       "      <th>70.68949</th>\n",
       "      <th>21.84860</th>\n",
       "      <th>Jetpur</th>\n",
       "      <th>Gujarat</th>\n",
       "      <td>7</td>\n",
       "      <td>7</td>\n",
       "    </tr>\n",
       "    <tr>\n",
       "      <th>6955552901770654720.00000</th>\n",
       "      <th>70.62982</th>\n",
       "      <th>21.77951</th>\n",
       "      <th>Jetpur</th>\n",
       "      <th>Gujarat</th>\n",
       "      <td>90</td>\n",
       "      <td>90</td>\n",
       "    </tr>\n",
       "    <tr>\n",
       "      <th>7106646913148384256.00000</th>\n",
       "      <th>70.67946</th>\n",
       "      <th>21.78104</th>\n",
       "      <th>Jetpur</th>\n",
       "      <th>Gujarat</th>\n",
       "      <td>2</td>\n",
       "      <td>2</td>\n",
       "    </tr>\n",
       "    <tr>\n",
       "      <th>8523554745109410816.00000</th>\n",
       "      <th>70.62466</th>\n",
       "      <th>21.83767</th>\n",
       "      <th>Jetpur</th>\n",
       "      <th>Gujarat</th>\n",
       "      <td>20</td>\n",
       "      <td>20</td>\n",
       "    </tr>\n",
       "    <tr>\n",
       "      <th>8632587132210233344.00000</th>\n",
       "      <th>70.69703</th>\n",
       "      <th>21.77504</th>\n",
       "      <th>Jetpur</th>\n",
       "      <th>Gujarat</th>\n",
       "      <td>9</td>\n",
       "      <td>9</td>\n",
       "    </tr>\n",
       "    <tr>\n",
       "      <th>9101302779373031424.00000</th>\n",
       "      <th>70.66464</th>\n",
       "      <th>21.81383</th>\n",
       "      <th>Jetpur</th>\n",
       "      <th>Gujarat</th>\n",
       "      <td>1</td>\n",
       "      <td>1</td>\n",
       "    </tr>\n",
       "  </tbody>\n",
       "</table>\n",
       "</div>"
      ],
      "text/plain": [
       "                                                              event_id  \\\n",
       "device_id                  longitude latitude city   state               \n",
       "-9100626844458295296.00000 70.68467  21.79341 Jetpur Gujarat        32   \n",
       "-7864383677585044480.00000 70.62907  21.82055 Jetpur Gujarat        95   \n",
       "-7356791296642819072.00000 70.68620  21.80623 Jetpur Gujarat         1   \n",
       "-6941872424033244160.00000 70.62482  21.80541 Jetpur Gujarat         4   \n",
       "-4748170714083747840.00000 70.62804  21.76449 Jetpur Gujarat         9   \n",
       "-4619283383535598592.00000 70.68497  21.78174 Jetpur Gujarat        17   \n",
       "-4161076139992630784.00000 70.63390  21.82504 Jetpur Gujarat        26   \n",
       "-4109861778213652480.00000 70.64444  21.81232 Jetpur Gujarat         2   \n",
       "-3642392870862093312.00000 70.67585  21.82392 Jetpur Gujarat        22   \n",
       "-3594624024428926464.00000 70.66528  21.79814 Jetpur Gujarat        54   \n",
       "-2175970584729524224.00000 70.62613  21.80273 Jetpur Gujarat        66   \n",
       "-1688015122502424064.00000 70.68639  21.79069 Jetpur Gujarat       428   \n",
       "-1539579805873659136.00000 70.68739  21.76234 Jetpur Gujarat        15   \n",
       "-1175161657674430208.00000 70.66602  21.78184 Jetpur Gujarat         5   \n",
       "-913931673945064960.00000  70.70997  21.78773 Jetpur Gujarat         3   \n",
       "300930182267191424.00000   70.66383  21.79935 Jetpur Gujarat        50   \n",
       "352055554969358016.00000   70.65829  21.79621 Jetpur Gujarat       188   \n",
       "2154044300502066432.00000  70.66374  21.78366 Jetpur Gujarat         2   \n",
       "2262915043198698496.00000  70.70500  21.80192 Jetpur Gujarat       103   \n",
       "2326941342989287936.00000  70.64123  21.76605 Jetpur Gujarat        85   \n",
       "4959516886988744704.00000  70.69112  21.80289 Jetpur Gujarat        97   \n",
       "6063231590006155264.00000  70.67900  21.84886 Jetpur Gujarat        29   \n",
       "6315669044065566720.00000  70.63060  21.83611 Jetpur Gujarat         1   \n",
       "6487172381337831424.00000  70.68949  21.84860 Jetpur Gujarat         7   \n",
       "6955552901770654720.00000  70.62982  21.77951 Jetpur Gujarat        90   \n",
       "7106646913148384256.00000  70.67946  21.78104 Jetpur Gujarat         2   \n",
       "8523554745109410816.00000  70.62466  21.83767 Jetpur Gujarat        20   \n",
       "8632587132210233344.00000  70.69703  21.77504 Jetpur Gujarat         9   \n",
       "9101302779373031424.00000  70.66464  21.81383 Jetpur Gujarat         1   \n",
       "\n",
       "                                                              timestamp  \n",
       "device_id                  longitude latitude city   state               \n",
       "-9100626844458295296.00000 70.68467  21.79341 Jetpur Gujarat         32  \n",
       "-7864383677585044480.00000 70.62907  21.82055 Jetpur Gujarat         95  \n",
       "-7356791296642819072.00000 70.68620  21.80623 Jetpur Gujarat          1  \n",
       "-6941872424033244160.00000 70.62482  21.80541 Jetpur Gujarat          4  \n",
       "-4748170714083747840.00000 70.62804  21.76449 Jetpur Gujarat          9  \n",
       "-4619283383535598592.00000 70.68497  21.78174 Jetpur Gujarat         17  \n",
       "-4161076139992630784.00000 70.63390  21.82504 Jetpur Gujarat         26  \n",
       "-4109861778213652480.00000 70.64444  21.81232 Jetpur Gujarat          2  \n",
       "-3642392870862093312.00000 70.67585  21.82392 Jetpur Gujarat         22  \n",
       "-3594624024428926464.00000 70.66528  21.79814 Jetpur Gujarat         54  \n",
       "-2175970584729524224.00000 70.62613  21.80273 Jetpur Gujarat         66  \n",
       "-1688015122502424064.00000 70.68639  21.79069 Jetpur Gujarat        428  \n",
       "-1539579805873659136.00000 70.68739  21.76234 Jetpur Gujarat         15  \n",
       "-1175161657674430208.00000 70.66602  21.78184 Jetpur Gujarat          5  \n",
       "-913931673945064960.00000  70.70997  21.78773 Jetpur Gujarat          3  \n",
       "300930182267191424.00000   70.66383  21.79935 Jetpur Gujarat         50  \n",
       "352055554969358016.00000   70.65829  21.79621 Jetpur Gujarat        188  \n",
       "2154044300502066432.00000  70.66374  21.78366 Jetpur Gujarat          2  \n",
       "2262915043198698496.00000  70.70500  21.80192 Jetpur Gujarat        103  \n",
       "2326941342989287936.00000  70.64123  21.76605 Jetpur Gujarat         85  \n",
       "4959516886988744704.00000  70.69112  21.80289 Jetpur Gujarat         97  \n",
       "6063231590006155264.00000  70.67900  21.84886 Jetpur Gujarat         29  \n",
       "6315669044065566720.00000  70.63060  21.83611 Jetpur Gujarat          1  \n",
       "6487172381337831424.00000  70.68949  21.84860 Jetpur Gujarat          7  \n",
       "6955552901770654720.00000  70.62982  21.77951 Jetpur Gujarat         90  \n",
       "7106646913148384256.00000  70.67946  21.78104 Jetpur Gujarat          2  \n",
       "8523554745109410816.00000  70.62466  21.83767 Jetpur Gujarat         20  \n",
       "8632587132210233344.00000  70.69703  21.77504 Jetpur Gujarat          9  \n",
       "9101302779373031424.00000  70.66464  21.81383 Jetpur Gujarat          1  "
      ]
     },
     "execution_count": 34,
     "metadata": {},
     "output_type": "execute_result"
    }
   ],
   "source": [
    "# get the 2nd device id where longitude = 70.68639, latitude = 21.79069, city= Jetpur, state=Gujarat\n",
    "df_events_data_filtered[(df_events_data_filtered['city'] == 'Jetpur') & (df_events_data_filtered['state'] == 'Gujarat')].groupby(['device_id','longitude', 'latitude','city','state']).count()"
   ]
  },
  {
   "cell_type": "markdown",
   "metadata": {},
   "source": [
    " - 2nd device id is -1688015122502424064 where longitude = 70.68639, latitude = 21.79069, city= Jetpur, state=Gujarat"
   ]
  },
  {
   "cell_type": "code",
   "execution_count": 35,
   "metadata": {},
   "outputs": [
    {
     "data": {
      "text/html": [
       "<div>\n",
       "<style scoped>\n",
       "    .dataframe tbody tr th:only-of-type {\n",
       "        vertical-align: middle;\n",
       "    }\n",
       "\n",
       "    .dataframe tbody tr th {\n",
       "        vertical-align: top;\n",
       "    }\n",
       "\n",
       "    .dataframe thead th {\n",
       "        text-align: right;\n",
       "    }\n",
       "</style>\n",
       "<table border=\"1\" class=\"dataframe\">\n",
       "  <thead>\n",
       "    <tr style=\"text-align: right;\">\n",
       "      <th></th>\n",
       "      <th></th>\n",
       "      <th></th>\n",
       "      <th></th>\n",
       "      <th></th>\n",
       "      <th>event_id</th>\n",
       "      <th>timestamp</th>\n",
       "    </tr>\n",
       "    <tr>\n",
       "      <th>device_id</th>\n",
       "      <th>longitude</th>\n",
       "      <th>latitude</th>\n",
       "      <th>city</th>\n",
       "      <th>state</th>\n",
       "      <th></th>\n",
       "      <th></th>\n",
       "    </tr>\n",
       "  </thead>\n",
       "  <tbody>\n",
       "    <tr>\n",
       "      <th>-9179704438540888064.00000</th>\n",
       "      <th>76.00749</th>\n",
       "      <th>31.56383</th>\n",
       "      <th>Hoshiarpur</th>\n",
       "      <th>Punjab</th>\n",
       "      <td>5</td>\n",
       "      <td>5</td>\n",
       "    </tr>\n",
       "    <tr>\n",
       "      <th>-9003299201851031552.00000</th>\n",
       "      <th>75.96806</th>\n",
       "      <th>31.57004</th>\n",
       "      <th>Hoshiarpur</th>\n",
       "      <th>Punjab</th>\n",
       "      <td>1</td>\n",
       "      <td>1</td>\n",
       "    </tr>\n",
       "    <tr>\n",
       "      <th>-7959352580287944704.00000</th>\n",
       "      <th>75.97433</th>\n",
       "      <th>31.60916</th>\n",
       "      <th>Hoshiarpur</th>\n",
       "      <th>Punjab</th>\n",
       "      <td>12</td>\n",
       "      <td>12</td>\n",
       "    </tr>\n",
       "    <tr>\n",
       "      <th>-7516713034711112704.00000</th>\n",
       "      <th>75.92446</th>\n",
       "      <th>31.60512</th>\n",
       "      <th>Hoshiarpur</th>\n",
       "      <th>Punjab</th>\n",
       "      <td>16</td>\n",
       "      <td>16</td>\n",
       "    </tr>\n",
       "    <tr>\n",
       "      <th>-6314072935617405952.00000</th>\n",
       "      <th>75.93961</th>\n",
       "      <th>31.55397</th>\n",
       "      <th>Hoshiarpur</th>\n",
       "      <th>Punjab</th>\n",
       "      <td>31</td>\n",
       "      <td>31</td>\n",
       "    </tr>\n",
       "    <tr>\n",
       "      <th>-6016575845341766656.00000</th>\n",
       "      <th>75.95764</th>\n",
       "      <th>31.60668</th>\n",
       "      <th>Hoshiarpur</th>\n",
       "      <th>Punjab</th>\n",
       "      <td>11</td>\n",
       "      <td>11</td>\n",
       "    </tr>\n",
       "    <tr>\n",
       "      <th>-5583822054383365120.00000</th>\n",
       "      <th>75.95360</th>\n",
       "      <th>31.60232</th>\n",
       "      <th>Hoshiarpur</th>\n",
       "      <th>Punjab</th>\n",
       "      <td>2</td>\n",
       "      <td>2</td>\n",
       "    </tr>\n",
       "    <tr>\n",
       "      <th>-4252602101177080320.00000</th>\n",
       "      <th>75.99204</th>\n",
       "      <th>31.62383</th>\n",
       "      <th>Hoshiarpur</th>\n",
       "      <th>Punjab</th>\n",
       "      <td>10</td>\n",
       "      <td>10</td>\n",
       "    </tr>\n",
       "    <tr>\n",
       "      <th>-3923551471103946240.00000</th>\n",
       "      <th>75.96350</th>\n",
       "      <th>31.61652</th>\n",
       "      <th>Hoshiarpur</th>\n",
       "      <th>Punjab</th>\n",
       "      <td>113</td>\n",
       "      <td>113</td>\n",
       "    </tr>\n",
       "    <tr>\n",
       "      <th>-1414777074007975680.00000</th>\n",
       "      <th>75.92175</th>\n",
       "      <th>31.57198</th>\n",
       "      <th>Hoshiarpur</th>\n",
       "      <th>Punjab</th>\n",
       "      <td>4</td>\n",
       "      <td>4</td>\n",
       "    </tr>\n",
       "    <tr>\n",
       "      <th>-1029625144954893824.00000</th>\n",
       "      <th>75.99473</th>\n",
       "      <th>31.54972</th>\n",
       "      <th>Hoshiarpur</th>\n",
       "      <th>Punjab</th>\n",
       "      <td>1</td>\n",
       "      <td>1</td>\n",
       "    </tr>\n",
       "    <tr>\n",
       "      <th>381599521315656192.00000</th>\n",
       "      <th>75.95781</th>\n",
       "      <th>31.62342</th>\n",
       "      <th>Hoshiarpur</th>\n",
       "      <th>Punjab</th>\n",
       "      <td>1</td>\n",
       "      <td>1</td>\n",
       "    </tr>\n",
       "    <tr>\n",
       "      <th>1429018082331612416.00000</th>\n",
       "      <th>75.92528</th>\n",
       "      <th>31.61358</th>\n",
       "      <th>Hoshiarpur</th>\n",
       "      <th>Punjab</th>\n",
       "      <td>7</td>\n",
       "      <td>7</td>\n",
       "    </tr>\n",
       "    <tr>\n",
       "      <th>1522014039166375168.00000</th>\n",
       "      <th>75.92759</th>\n",
       "      <th>31.54795</th>\n",
       "      <th>Hoshiarpur</th>\n",
       "      <th>Punjab</th>\n",
       "      <td>36</td>\n",
       "      <td>36</td>\n",
       "    </tr>\n",
       "    <tr>\n",
       "      <th>1707891325312195584.00000</th>\n",
       "      <th>75.99659</th>\n",
       "      <th>31.58359</th>\n",
       "      <th>Hoshiarpur</th>\n",
       "      <th>Punjab</th>\n",
       "      <td>1</td>\n",
       "      <td>1</td>\n",
       "    </tr>\n",
       "    <tr>\n",
       "      <th>1750778632182066944.00000</th>\n",
       "      <th>75.99255</th>\n",
       "      <th>31.56175</th>\n",
       "      <th>Hoshiarpur</th>\n",
       "      <th>Punjab</th>\n",
       "      <td>413</td>\n",
       "      <td>413</td>\n",
       "    </tr>\n",
       "    <tr>\n",
       "      <th>2062737921368467712.00000</th>\n",
       "      <th>75.96166</th>\n",
       "      <th>31.57611</th>\n",
       "      <th>Hoshiarpur</th>\n",
       "      <th>Punjab</th>\n",
       "      <td>37</td>\n",
       "      <td>37</td>\n",
       "    </tr>\n",
       "    <tr>\n",
       "      <th>2584994870226834944.00000</th>\n",
       "      <th>75.93136</th>\n",
       "      <th>31.62812</th>\n",
       "      <th>Hoshiarpur</th>\n",
       "      <th>Punjab</th>\n",
       "      <td>3</td>\n",
       "      <td>3</td>\n",
       "    </tr>\n",
       "    <tr>\n",
       "      <th>2852472547631088128.00000</th>\n",
       "      <th>75.92318</th>\n",
       "      <th>31.58096</th>\n",
       "      <th>Hoshiarpur</th>\n",
       "      <th>Punjab</th>\n",
       "      <td>4</td>\n",
       "      <td>4</td>\n",
       "    </tr>\n",
       "    <tr>\n",
       "      <th>3691762732518833664.00000</th>\n",
       "      <th>75.99831</th>\n",
       "      <th>31.55899</th>\n",
       "      <th>Hoshiarpur</th>\n",
       "      <th>Punjab</th>\n",
       "      <td>29</td>\n",
       "      <td>29</td>\n",
       "    </tr>\n",
       "    <tr>\n",
       "      <th>3866728065138125824.00000</th>\n",
       "      <th>75.93946</th>\n",
       "      <th>31.56839</th>\n",
       "      <th>Hoshiarpur</th>\n",
       "      <th>Punjab</th>\n",
       "      <td>21</td>\n",
       "      <td>21</td>\n",
       "    </tr>\n",
       "    <tr>\n",
       "      <th>4133369824860669952.00000</th>\n",
       "      <th>75.94333</th>\n",
       "      <th>31.58222</th>\n",
       "      <th>Hoshiarpur</th>\n",
       "      <th>Punjab</th>\n",
       "      <td>4</td>\n",
       "      <td>4</td>\n",
       "    </tr>\n",
       "    <tr>\n",
       "      <th>5630876571139945472.00000</th>\n",
       "      <th>75.94777</th>\n",
       "      <th>31.58940</th>\n",
       "      <th>Hoshiarpur</th>\n",
       "      <th>Punjab</th>\n",
       "      <td>92</td>\n",
       "      <td>92</td>\n",
       "    </tr>\n",
       "    <tr>\n",
       "      <th>6155220548944227328.00000</th>\n",
       "      <th>76.00660</th>\n",
       "      <th>31.58846</th>\n",
       "      <th>Hoshiarpur</th>\n",
       "      <th>Punjab</th>\n",
       "      <td>11</td>\n",
       "      <td>11</td>\n",
       "    </tr>\n",
       "    <tr>\n",
       "      <th>6340348982990358528.00000</th>\n",
       "      <th>75.94327</th>\n",
       "      <th>31.57743</th>\n",
       "      <th>Hoshiarpur</th>\n",
       "      <th>Punjab</th>\n",
       "      <td>6</td>\n",
       "      <td>6</td>\n",
       "    </tr>\n",
       "    <tr>\n",
       "      <th>6808186066228961280.00000</th>\n",
       "      <th>75.97536</th>\n",
       "      <th>31.62267</th>\n",
       "      <th>Hoshiarpur</th>\n",
       "      <th>Punjab</th>\n",
       "      <td>1</td>\n",
       "      <td>1</td>\n",
       "    </tr>\n",
       "    <tr>\n",
       "      <th>7741713525724194816.00000</th>\n",
       "      <th>75.92731</th>\n",
       "      <th>31.60114</th>\n",
       "      <th>Hoshiarpur</th>\n",
       "      <th>Punjab</th>\n",
       "      <td>6</td>\n",
       "      <td>6</td>\n",
       "    </tr>\n",
       "    <tr>\n",
       "      <th>8628162665647340544.00000</th>\n",
       "      <th>76.00513</th>\n",
       "      <th>31.55941</th>\n",
       "      <th>Hoshiarpur</th>\n",
       "      <th>Punjab</th>\n",
       "      <td>20</td>\n",
       "      <td>20</td>\n",
       "    </tr>\n",
       "  </tbody>\n",
       "</table>\n",
       "</div>"
      ],
      "text/plain": [
       "                                                                 event_id  \\\n",
       "device_id                  longitude latitude city       state              \n",
       "-9179704438540888064.00000 76.00749  31.56383 Hoshiarpur Punjab         5   \n",
       "-9003299201851031552.00000 75.96806  31.57004 Hoshiarpur Punjab         1   \n",
       "-7959352580287944704.00000 75.97433  31.60916 Hoshiarpur Punjab        12   \n",
       "-7516713034711112704.00000 75.92446  31.60512 Hoshiarpur Punjab        16   \n",
       "-6314072935617405952.00000 75.93961  31.55397 Hoshiarpur Punjab        31   \n",
       "-6016575845341766656.00000 75.95764  31.60668 Hoshiarpur Punjab        11   \n",
       "-5583822054383365120.00000 75.95360  31.60232 Hoshiarpur Punjab         2   \n",
       "-4252602101177080320.00000 75.99204  31.62383 Hoshiarpur Punjab        10   \n",
       "-3923551471103946240.00000 75.96350  31.61652 Hoshiarpur Punjab       113   \n",
       "-1414777074007975680.00000 75.92175  31.57198 Hoshiarpur Punjab         4   \n",
       "-1029625144954893824.00000 75.99473  31.54972 Hoshiarpur Punjab         1   \n",
       "381599521315656192.00000   75.95781  31.62342 Hoshiarpur Punjab         1   \n",
       "1429018082331612416.00000  75.92528  31.61358 Hoshiarpur Punjab         7   \n",
       "1522014039166375168.00000  75.92759  31.54795 Hoshiarpur Punjab        36   \n",
       "1707891325312195584.00000  75.99659  31.58359 Hoshiarpur Punjab         1   \n",
       "1750778632182066944.00000  75.99255  31.56175 Hoshiarpur Punjab       413   \n",
       "2062737921368467712.00000  75.96166  31.57611 Hoshiarpur Punjab        37   \n",
       "2584994870226834944.00000  75.93136  31.62812 Hoshiarpur Punjab         3   \n",
       "2852472547631088128.00000  75.92318  31.58096 Hoshiarpur Punjab         4   \n",
       "3691762732518833664.00000  75.99831  31.55899 Hoshiarpur Punjab        29   \n",
       "3866728065138125824.00000  75.93946  31.56839 Hoshiarpur Punjab        21   \n",
       "4133369824860669952.00000  75.94333  31.58222 Hoshiarpur Punjab         4   \n",
       "5630876571139945472.00000  75.94777  31.58940 Hoshiarpur Punjab        92   \n",
       "6155220548944227328.00000  76.00660  31.58846 Hoshiarpur Punjab        11   \n",
       "6340348982990358528.00000  75.94327  31.57743 Hoshiarpur Punjab         6   \n",
       "6808186066228961280.00000  75.97536  31.62267 Hoshiarpur Punjab         1   \n",
       "7741713525724194816.00000  75.92731  31.60114 Hoshiarpur Punjab         6   \n",
       "8628162665647340544.00000  76.00513  31.55941 Hoshiarpur Punjab        20   \n",
       "\n",
       "                                                                 timestamp  \n",
       "device_id                  longitude latitude city       state              \n",
       "-9179704438540888064.00000 76.00749  31.56383 Hoshiarpur Punjab          5  \n",
       "-9003299201851031552.00000 75.96806  31.57004 Hoshiarpur Punjab          1  \n",
       "-7959352580287944704.00000 75.97433  31.60916 Hoshiarpur Punjab         12  \n",
       "-7516713034711112704.00000 75.92446  31.60512 Hoshiarpur Punjab         16  \n",
       "-6314072935617405952.00000 75.93961  31.55397 Hoshiarpur Punjab         31  \n",
       "-6016575845341766656.00000 75.95764  31.60668 Hoshiarpur Punjab         11  \n",
       "-5583822054383365120.00000 75.95360  31.60232 Hoshiarpur Punjab          2  \n",
       "-4252602101177080320.00000 75.99204  31.62383 Hoshiarpur Punjab         10  \n",
       "-3923551471103946240.00000 75.96350  31.61652 Hoshiarpur Punjab        113  \n",
       "-1414777074007975680.00000 75.92175  31.57198 Hoshiarpur Punjab          4  \n",
       "-1029625144954893824.00000 75.99473  31.54972 Hoshiarpur Punjab          1  \n",
       "381599521315656192.00000   75.95781  31.62342 Hoshiarpur Punjab          1  \n",
       "1429018082331612416.00000  75.92528  31.61358 Hoshiarpur Punjab          7  \n",
       "1522014039166375168.00000  75.92759  31.54795 Hoshiarpur Punjab         36  \n",
       "1707891325312195584.00000  75.99659  31.58359 Hoshiarpur Punjab          1  \n",
       "1750778632182066944.00000  75.99255  31.56175 Hoshiarpur Punjab        413  \n",
       "2062737921368467712.00000  75.96166  31.57611 Hoshiarpur Punjab         37  \n",
       "2584994870226834944.00000  75.93136  31.62812 Hoshiarpur Punjab          3  \n",
       "2852472547631088128.00000  75.92318  31.58096 Hoshiarpur Punjab          4  \n",
       "3691762732518833664.00000  75.99831  31.55899 Hoshiarpur Punjab         29  \n",
       "3866728065138125824.00000  75.93946  31.56839 Hoshiarpur Punjab         21  \n",
       "4133369824860669952.00000  75.94333  31.58222 Hoshiarpur Punjab          4  \n",
       "5630876571139945472.00000  75.94777  31.58940 Hoshiarpur Punjab         92  \n",
       "6155220548944227328.00000  76.00660  31.58846 Hoshiarpur Punjab         11  \n",
       "6340348982990358528.00000  75.94327  31.57743 Hoshiarpur Punjab          6  \n",
       "6808186066228961280.00000  75.97536  31.62267 Hoshiarpur Punjab          1  \n",
       "7741713525724194816.00000  75.92731  31.60114 Hoshiarpur Punjab          6  \n",
       "8628162665647340544.00000  76.00513  31.55941 Hoshiarpur Punjab         20  "
      ]
     },
     "execution_count": 35,
     "metadata": {},
     "output_type": "execute_result"
    }
   ],
   "source": [
    "df_events_data_filtered[(df_events_data_filtered['city'] == 'Hoshiarpur') & (df_events_data_filtered['state'] == 'Punjab')].groupby(['device_id','longitude', 'latitude','city','state']).count()"
   ]
  },
  {
   "cell_type": "markdown",
   "metadata": {},
   "source": [
    "- 3rd device id is 1750778632182066944 where longitude = 75.99255, latitude = 31.56175, city= Hoshiarpur, state=Punjab"
   ]
  },
  {
   "cell_type": "markdown",
   "metadata": {},
   "source": [
    "- **Filling the missing values for device ids**"
   ]
  },
  {
   "cell_type": "code",
   "execution_count": 36,
   "metadata": {},
   "outputs": [],
   "source": [
    "#Replacing the missing device id for 1st missing device\n",
    "df_events_data_filtered.loc[((df_events_data_filtered['city'] == 'Bardoli') & (df_events_data_filtered['state'] == 'Gujarat')) & (df_events_data['device_id'].isnull()), 'device_id'] = -8215770519233685504"
   ]
  },
  {
   "cell_type": "code",
   "execution_count": 37,
   "metadata": {},
   "outputs": [],
   "source": [
    "#Replacing the missing device id for 2nd missing device\n",
    "df_events_data_filtered.loc[((df_events_data_filtered['city'] == 'Jetpur') & (df_events_data_filtered['state'] == 'Gujarat')) & (df_events_data['device_id'].isnull()), 'device_id'] = -1688015122502424064"
   ]
  },
  {
   "cell_type": "code",
   "execution_count": 38,
   "metadata": {},
   "outputs": [],
   "source": [
    "#Replacing the missing device id for 3rd missing device\n",
    "df_events_data_filtered.loc[((df_events_data_filtered['city'] == 'Hoshiarpur') & (df_events_data_filtered['state'] == 'Punjab')) & (df_events_data['device_id'].isnull()), 'device_id'] = 1750778632182066944"
   ]
  },
  {
   "cell_type": "code",
   "execution_count": 39,
   "metadata": {},
   "outputs": [
    {
     "data": {
      "text/plain": [
       "event_id      0\n",
       "device_id     0\n",
       "timestamp     0\n",
       "longitude    42\n",
       "latitude     42\n",
       "city          0\n",
       "state         0\n",
       "dtype: int64"
      ]
     },
     "execution_count": 39,
     "metadata": {},
     "output_type": "execute_result"
    }
   ],
   "source": [
    "df_events_data_filtered.isnull().sum()"
   ]
  },
  {
   "cell_type": "code",
   "execution_count": 40,
   "metadata": {},
   "outputs": [
    {
     "name": "stdout",
     "output_type": "stream",
     "text": [
      "<class 'pandas.core.frame.DataFrame'>\n",
      "Int64Index: 422971 entries, 1 to 3252921\n",
      "Data columns (total 7 columns):\n",
      " #   Column     Non-Null Count   Dtype  \n",
      "---  ------     --------------   -----  \n",
      " 0   event_id   422971 non-null  int64  \n",
      " 1   device_id  422971 non-null  float64\n",
      " 2   timestamp  422971 non-null  object \n",
      " 3   longitude  422929 non-null  float64\n",
      " 4   latitude   422929 non-null  float64\n",
      " 5   city       422971 non-null  object \n",
      " 6   state      422971 non-null  object \n",
      "dtypes: float64(3), int64(1), object(3)\n",
      "memory usage: 41.9+ MB\n"
     ]
    }
   ],
   "source": [
    "df_events_data_filtered.info()"
   ]
  },
  {
   "cell_type": "markdown",
   "metadata": {},
   "source": [
    "- **1st Merging the filtered event dataset with gender_age dataset on** _device_id_\n",
    "   - First, we need to convert the data type of __device_id__ in gender_age dataset to __float__"
   ]
  },
  {
   "cell_type": "code",
   "execution_count": 41,
   "metadata": {},
   "outputs": [],
   "source": [
    "df_gender_age['device_id'] = df_gender_age['device_id'].astype(df_events_data_filtered['device_id'].dtype)"
   ]
  },
  {
   "cell_type": "code",
   "execution_count": 42,
   "metadata": {},
   "outputs": [
    {
     "name": "stdout",
     "output_type": "stream",
     "text": [
      "<class 'pandas.core.frame.DataFrame'>\n",
      "RangeIndex: 74645 entries, 0 to 74644\n",
      "Data columns (total 4 columns):\n",
      " #   Column     Non-Null Count  Dtype  \n",
      "---  ------     --------------  -----  \n",
      " 0   device_id  74645 non-null  float64\n",
      " 1   gender     74645 non-null  object \n",
      " 2   age        74645 non-null  int64  \n",
      " 3   group      74645 non-null  object \n",
      "dtypes: float64(1), int64(1), object(2)\n",
      "memory usage: 2.3+ MB\n"
     ]
    }
   ],
   "source": [
    "df_gender_age.info()"
   ]
  },
  {
   "cell_type": "markdown",
   "metadata": {},
   "source": [
    "- **Merging the two datasets**"
   ]
  },
  {
   "cell_type": "code",
   "execution_count": 43,
   "metadata": {},
   "outputs": [
    {
     "name": "stdout",
     "output_type": "stream",
     "text": [
      "<class 'pandas.core.frame.DataFrame'>\n",
      "Int64Index: 422971 entries, 0 to 422970\n",
      "Data columns (total 10 columns):\n",
      " #   Column     Non-Null Count   Dtype  \n",
      "---  ------     --------------   -----  \n",
      " 0   event_id   422971 non-null  int64  \n",
      " 1   device_id  422971 non-null  float64\n",
      " 2   timestamp  422971 non-null  object \n",
      " 3   longitude  422929 non-null  float64\n",
      " 4   latitude   422929 non-null  float64\n",
      " 5   city       422971 non-null  object \n",
      " 6   state      422971 non-null  object \n",
      " 7   gender     422971 non-null  object \n",
      " 8   age        422971 non-null  int64  \n",
      " 9   group      422971 non-null  object \n",
      "dtypes: float64(3), int64(2), object(5)\n",
      "memory usage: 35.5+ MB\n"
     ]
    }
   ],
   "source": [
    "df_events_gender = pd.merge(df_events_data_filtered, df_gender_age, on='device_id', how='left')\n",
    "df_events_gender.info()"
   ]
  },
  {
   "cell_type": "code",
   "execution_count": 44,
   "metadata": {},
   "outputs": [
    {
     "data": {
      "text/plain": [
       "event_id      0\n",
       "device_id     0\n",
       "timestamp     0\n",
       "longitude    42\n",
       "latitude     42\n",
       "city          0\n",
       "state         0\n",
       "gender        0\n",
       "age           0\n",
       "group         0\n",
       "dtype: int64"
      ]
     },
     "execution_count": 44,
     "metadata": {},
     "output_type": "execute_result"
    }
   ],
   "source": [
    "df_events_gender.isnull().sum()"
   ]
  },
  {
   "cell_type": "code",
   "execution_count": 45,
   "metadata": {},
   "outputs": [
    {
     "data": {
      "text/html": [
       "<div>\n",
       "<style scoped>\n",
       "    .dataframe tbody tr th:only-of-type {\n",
       "        vertical-align: middle;\n",
       "    }\n",
       "\n",
       "    .dataframe tbody tr th {\n",
       "        vertical-align: top;\n",
       "    }\n",
       "\n",
       "    .dataframe thead th {\n",
       "        text-align: right;\n",
       "    }\n",
       "</style>\n",
       "<table border=\"1\" class=\"dataframe\">\n",
       "  <thead>\n",
       "    <tr style=\"text-align: right;\">\n",
       "      <th></th>\n",
       "      <th>event_id</th>\n",
       "      <th>device_id</th>\n",
       "      <th>timestamp</th>\n",
       "      <th>longitude</th>\n",
       "      <th>latitude</th>\n",
       "      <th>city</th>\n",
       "      <th>state</th>\n",
       "      <th>gender</th>\n",
       "      <th>age</th>\n",
       "      <th>group</th>\n",
       "    </tr>\n",
       "  </thead>\n",
       "  <tbody>\n",
       "    <tr>\n",
       "      <th>0</th>\n",
       "      <td>2955066</td>\n",
       "      <td>4734221357723754496.00000</td>\n",
       "      <td>2016-05-01 20:44:16</td>\n",
       "      <td>88.38836</td>\n",
       "      <td>22.66033</td>\n",
       "      <td>Calcutta</td>\n",
       "      <td>WestBengal</td>\n",
       "      <td>M</td>\n",
       "      <td>30</td>\n",
       "      <td>M29-31</td>\n",
       "    </tr>\n",
       "    <tr>\n",
       "      <th>1</th>\n",
       "      <td>769546</td>\n",
       "      <td>-1817502319478569728.00000</td>\n",
       "      <td>2016-05-01 14:07:23</td>\n",
       "      <td>88.37181</td>\n",
       "      <td>22.66285</td>\n",
       "      <td>Calcutta</td>\n",
       "      <td>WestBengal</td>\n",
       "      <td>F</td>\n",
       "      <td>43</td>\n",
       "      <td>F43+</td>\n",
       "    </tr>\n",
       "    <tr>\n",
       "      <th>2</th>\n",
       "      <td>1750603</td>\n",
       "      <td>-5598137337131307008.00000</td>\n",
       "      <td>2016-05-05 15:47:03</td>\n",
       "      <td>70.21268</td>\n",
       "      <td>23.11837</td>\n",
       "      <td>Gandhidham</td>\n",
       "      <td>Gujarat</td>\n",
       "      <td>M</td>\n",
       "      <td>23</td>\n",
       "      <td>M23-26</td>\n",
       "    </tr>\n",
       "    <tr>\n",
       "      <th>3</th>\n",
       "      <td>3085968</td>\n",
       "      <td>-3808296883972395520.00000</td>\n",
       "      <td>2016-05-07 01:25:47</td>\n",
       "      <td>75.51302</td>\n",
       "      <td>11.81237</td>\n",
       "      <td>Thalassery</td>\n",
       "      <td>Kerala</td>\n",
       "      <td>M</td>\n",
       "      <td>24</td>\n",
       "      <td>M23-26</td>\n",
       "    </tr>\n",
       "    <tr>\n",
       "      <th>4</th>\n",
       "      <td>1407594</td>\n",
       "      <td>-2995507760806350336.00000</td>\n",
       "      <td>2016-05-03 20:01:35</td>\n",
       "      <td>77.80519</td>\n",
       "      <td>13.53330</td>\n",
       "      <td>ChikBallapur</td>\n",
       "      <td>Karnataka</td>\n",
       "      <td>M</td>\n",
       "      <td>29</td>\n",
       "      <td>M29-31</td>\n",
       "    </tr>\n",
       "  </tbody>\n",
       "</table>\n",
       "</div>"
      ],
      "text/plain": [
       "   event_id                  device_id            timestamp  longitude  \\\n",
       "0   2955066  4734221357723754496.00000  2016-05-01 20:44:16   88.38836   \n",
       "1    769546 -1817502319478569728.00000  2016-05-01 14:07:23   88.37181   \n",
       "2   1750603 -5598137337131307008.00000  2016-05-05 15:47:03   70.21268   \n",
       "3   3085968 -3808296883972395520.00000  2016-05-07 01:25:47   75.51302   \n",
       "4   1407594 -2995507760806350336.00000  2016-05-03 20:01:35   77.80519   \n",
       "\n",
       "   latitude          city       state gender  age   group  \n",
       "0  22.66033      Calcutta  WestBengal      M   30  M29-31  \n",
       "1  22.66285      Calcutta  WestBengal      F   43    F43+  \n",
       "2  23.11837    Gandhidham     Gujarat      M   23  M23-26  \n",
       "3  11.81237    Thalassery      Kerala      M   24  M23-26  \n",
       "4  13.53330  ChikBallapur   Karnataka      M   29  M29-31  "
      ]
     },
     "execution_count": 45,
     "metadata": {},
     "output_type": "execute_result"
    }
   ],
   "source": [
    "df_events_gender.head()"
   ]
  },
  {
   "cell_type": "code",
   "execution_count": 46,
   "metadata": {},
   "outputs": [
    {
     "data": {
      "text/plain": [
       "19032"
      ]
     },
     "execution_count": 46,
     "metadata": {},
     "output_type": "execute_result"
    }
   ],
   "source": [
    "df_events_gender['device_id'].nunique()"
   ]
  },
  {
   "cell_type": "markdown",
   "metadata": {},
   "source": [
    "- **2nd Merging the event_gender dataset with brand_model dataset on** _device_id_.\n",
    "   - First, we need to convert the data type of __device_id__ in brand_model dataset to __float__"
   ]
  },
  {
   "cell_type": "code",
   "execution_count": 47,
   "metadata": {},
   "outputs": [],
   "source": [
    "df_brand_model['device_id'] = df_brand_model['device_id'].astype(df_events_gender['device_id'].dtype)"
   ]
  },
  {
   "cell_type": "code",
   "execution_count": 48,
   "metadata": {},
   "outputs": [
    {
     "name": "stdout",
     "output_type": "stream",
     "text": [
      "<class 'pandas.core.frame.DataFrame'>\n",
      "RangeIndex: 87726 entries, 0 to 87725\n",
      "Data columns (total 3 columns):\n",
      " #   Column        Non-Null Count  Dtype  \n",
      "---  ------        --------------  -----  \n",
      " 0   device_id     87726 non-null  float64\n",
      " 1   phone_brand   87726 non-null  object \n",
      " 2   device_model  87726 non-null  object \n",
      "dtypes: float64(1), object(2)\n",
      "memory usage: 2.0+ MB\n"
     ]
    }
   ],
   "source": [
    "df_brand_model.info()"
   ]
  },
  {
   "cell_type": "markdown",
   "metadata": {},
   "source": [
    "- **Merging the two datasets to get final merged dataset**"
   ]
  },
  {
   "cell_type": "code",
   "execution_count": 49,
   "metadata": {},
   "outputs": [
    {
     "data": {
      "text/html": [
       "<div>\n",
       "<style scoped>\n",
       "    .dataframe tbody tr th:only-of-type {\n",
       "        vertical-align: middle;\n",
       "    }\n",
       "\n",
       "    .dataframe tbody tr th {\n",
       "        vertical-align: top;\n",
       "    }\n",
       "\n",
       "    .dataframe thead th {\n",
       "        text-align: right;\n",
       "    }\n",
       "</style>\n",
       "<table border=\"1\" class=\"dataframe\">\n",
       "  <thead>\n",
       "    <tr style=\"text-align: right;\">\n",
       "      <th></th>\n",
       "      <th>event_id</th>\n",
       "      <th>device_id</th>\n",
       "      <th>timestamp</th>\n",
       "      <th>longitude</th>\n",
       "      <th>latitude</th>\n",
       "      <th>city</th>\n",
       "      <th>state</th>\n",
       "      <th>gender</th>\n",
       "      <th>age</th>\n",
       "      <th>group</th>\n",
       "      <th>phone_brand</th>\n",
       "      <th>device_model</th>\n",
       "    </tr>\n",
       "  </thead>\n",
       "  <tbody>\n",
       "    <tr>\n",
       "      <th>0</th>\n",
       "      <td>2955066</td>\n",
       "      <td>4734221357723754496.00000</td>\n",
       "      <td>2016-05-01 20:44:16</td>\n",
       "      <td>88.38836</td>\n",
       "      <td>22.66033</td>\n",
       "      <td>Calcutta</td>\n",
       "      <td>WestBengal</td>\n",
       "      <td>M</td>\n",
       "      <td>30</td>\n",
       "      <td>M29-31</td>\n",
       "      <td>vivo</td>\n",
       "      <td>X5M</td>\n",
       "    </tr>\n",
       "    <tr>\n",
       "      <th>1</th>\n",
       "      <td>769546</td>\n",
       "      <td>-1817502319478569728.00000</td>\n",
       "      <td>2016-05-01 14:07:23</td>\n",
       "      <td>88.37181</td>\n",
       "      <td>22.66285</td>\n",
       "      <td>Calcutta</td>\n",
       "      <td>WestBengal</td>\n",
       "      <td>F</td>\n",
       "      <td>43</td>\n",
       "      <td>F43+</td>\n",
       "      <td>OPPO</td>\n",
       "      <td>R819T</td>\n",
       "    </tr>\n",
       "    <tr>\n",
       "      <th>2</th>\n",
       "      <td>1750603</td>\n",
       "      <td>-5598137337131307008.00000</td>\n",
       "      <td>2016-05-05 15:47:03</td>\n",
       "      <td>70.21268</td>\n",
       "      <td>23.11837</td>\n",
       "      <td>Gandhidham</td>\n",
       "      <td>Gujarat</td>\n",
       "      <td>M</td>\n",
       "      <td>23</td>\n",
       "      <td>M23-26</td>\n",
       "      <td>魅族</td>\n",
       "      <td>MX3</td>\n",
       "    </tr>\n",
       "    <tr>\n",
       "      <th>3</th>\n",
       "      <td>3085968</td>\n",
       "      <td>-3808296883972395520.00000</td>\n",
       "      <td>2016-05-07 01:25:47</td>\n",
       "      <td>75.51302</td>\n",
       "      <td>11.81237</td>\n",
       "      <td>Thalassery</td>\n",
       "      <td>Kerala</td>\n",
       "      <td>M</td>\n",
       "      <td>24</td>\n",
       "      <td>M23-26</td>\n",
       "      <td>vivo</td>\n",
       "      <td>X5L</td>\n",
       "    </tr>\n",
       "    <tr>\n",
       "      <th>4</th>\n",
       "      <td>1407594</td>\n",
       "      <td>-2995507760806350336.00000</td>\n",
       "      <td>2016-05-03 20:01:35</td>\n",
       "      <td>77.80519</td>\n",
       "      <td>13.53330</td>\n",
       "      <td>ChikBallapur</td>\n",
       "      <td>Karnataka</td>\n",
       "      <td>M</td>\n",
       "      <td>29</td>\n",
       "      <td>M29-31</td>\n",
       "      <td>OPPO</td>\n",
       "      <td>R7 Plus</td>\n",
       "    </tr>\n",
       "  </tbody>\n",
       "</table>\n",
       "</div>"
      ],
      "text/plain": [
       "   event_id                  device_id            timestamp  longitude  \\\n",
       "0   2955066  4734221357723754496.00000  2016-05-01 20:44:16   88.38836   \n",
       "1    769546 -1817502319478569728.00000  2016-05-01 14:07:23   88.37181   \n",
       "2   1750603 -5598137337131307008.00000  2016-05-05 15:47:03   70.21268   \n",
       "3   3085968 -3808296883972395520.00000  2016-05-07 01:25:47   75.51302   \n",
       "4   1407594 -2995507760806350336.00000  2016-05-03 20:01:35   77.80519   \n",
       "\n",
       "   latitude          city       state gender  age   group phone_brand  \\\n",
       "0  22.66033      Calcutta  WestBengal      M   30  M29-31        vivo   \n",
       "1  22.66285      Calcutta  WestBengal      F   43    F43+        OPPO   \n",
       "2  23.11837    Gandhidham     Gujarat      M   23  M23-26          魅族   \n",
       "3  11.81237    Thalassery      Kerala      M   24  M23-26        vivo   \n",
       "4  13.53330  ChikBallapur   Karnataka      M   29  M29-31        OPPO   \n",
       "\n",
       "  device_model  \n",
       "0          X5M  \n",
       "1        R819T  \n",
       "2          MX3  \n",
       "3          X5L  \n",
       "4      R7 Plus  "
      ]
     },
     "execution_count": 49,
     "metadata": {},
     "output_type": "execute_result"
    }
   ],
   "source": [
    "df_final_merged = pd.merge(df_events_gender, df_brand_model, on='device_id', how='left')\n",
    "df_final_merged.head()"
   ]
  },
  {
   "cell_type": "code",
   "execution_count": 50,
   "metadata": {},
   "outputs": [
    {
     "name": "stdout",
     "output_type": "stream",
     "text": [
      "<class 'pandas.core.frame.DataFrame'>\n",
      "Int64Index: 422971 entries, 0 to 422970\n",
      "Data columns (total 12 columns):\n",
      " #   Column        Non-Null Count   Dtype  \n",
      "---  ------        --------------   -----  \n",
      " 0   event_id      422971 non-null  int64  \n",
      " 1   device_id     422971 non-null  float64\n",
      " 2   timestamp     422971 non-null  object \n",
      " 3   longitude     422929 non-null  float64\n",
      " 4   latitude      422929 non-null  float64\n",
      " 5   city          422971 non-null  object \n",
      " 6   state         422971 non-null  object \n",
      " 7   gender        422971 non-null  object \n",
      " 8   age           422971 non-null  int64  \n",
      " 9   group         422971 non-null  object \n",
      " 10  phone_brand   422971 non-null  object \n",
      " 11  device_model  422971 non-null  object \n",
      "dtypes: float64(3), int64(2), object(7)\n",
      "memory usage: 42.0+ MB\n"
     ]
    }
   ],
   "source": [
    "df_final_merged.info()"
   ]
  },
  {
   "cell_type": "code",
   "execution_count": 51,
   "metadata": {},
   "outputs": [
    {
     "data": {
      "text/plain": [
       "event_id         0\n",
       "device_id        0\n",
       "timestamp        0\n",
       "longitude       42\n",
       "latitude        42\n",
       "city             0\n",
       "state            0\n",
       "gender           0\n",
       "age              0\n",
       "group            0\n",
       "phone_brand      0\n",
       "device_model     0\n",
       "dtype: int64"
      ]
     },
     "execution_count": 51,
     "metadata": {},
     "output_type": "execute_result"
    }
   ],
   "source": [
    "df_final_merged.isnull().sum()"
   ]
  },
  {
   "cell_type": "markdown",
   "metadata": {},
   "source": [
    "**Observations of the final merged dataset:**\n",
    "- There are __422971 records and 12 features.__\n",
    "- __longitude and latitude__ columns have 42 missing values each. There are __84 missing cells.__\n",
    "- __Timestamp is object__ type needs to be converted __to datetime.__\n",
    "- Data types for all other columns are correct.\n",
    "- There are __6 categorical columns, 5 numerical columns and a timestamp.__"
   ]
  },
  {
   "cell_type": "code",
   "execution_count": 52,
   "metadata": {},
   "outputs": [
    {
     "data": {
      "text/html": [
       "<div>\n",
       "<style scoped>\n",
       "    .dataframe tbody tr th:only-of-type {\n",
       "        vertical-align: middle;\n",
       "    }\n",
       "\n",
       "    .dataframe tbody tr th {\n",
       "        vertical-align: top;\n",
       "    }\n",
       "\n",
       "    .dataframe thead th {\n",
       "        text-align: right;\n",
       "    }\n",
       "</style>\n",
       "<table border=\"1\" class=\"dataframe\">\n",
       "  <thead>\n",
       "    <tr style=\"text-align: right;\">\n",
       "      <th></th>\n",
       "      <th>event_id</th>\n",
       "      <th>device_id</th>\n",
       "      <th>longitude</th>\n",
       "      <th>latitude</th>\n",
       "      <th>age</th>\n",
       "    </tr>\n",
       "  </thead>\n",
       "  <tbody>\n",
       "    <tr>\n",
       "      <th>count</th>\n",
       "      <td>422971.00000</td>\n",
       "      <td>422971.00000</td>\n",
       "      <td>422929.00000</td>\n",
       "      <td>422929.00000</td>\n",
       "      <td>422971.00000</td>\n",
       "    </tr>\n",
       "    <tr>\n",
       "      <th>mean</th>\n",
       "      <td>1635553.21051</td>\n",
       "      <td>54332593871695992.00000</td>\n",
       "      <td>82.33530</td>\n",
       "      <td>20.79314</td>\n",
       "      <td>31.44556</td>\n",
       "    </tr>\n",
       "    <tr>\n",
       "      <th>std</th>\n",
       "      <td>930915.34686</td>\n",
       "      <td>5330461509042279424.00000</td>\n",
       "      <td>6.38155</td>\n",
       "      <td>5.42450</td>\n",
       "      <td>9.78804</td>\n",
       "    </tr>\n",
       "    <tr>\n",
       "      <th>min</th>\n",
       "      <td>20881.00000</td>\n",
       "      <td>-9221066489596332032.00000</td>\n",
       "      <td>12.56740</td>\n",
       "      <td>8.41244</td>\n",
       "      <td>11.00000</td>\n",
       "    </tr>\n",
       "    <tr>\n",
       "      <th>25%</th>\n",
       "      <td>822921.00000</td>\n",
       "      <td>-4582571963008606720.00000</td>\n",
       "      <td>76.55060</td>\n",
       "      <td>15.20491</td>\n",
       "      <td>25.00000</td>\n",
       "    </tr>\n",
       "    <tr>\n",
       "      <th>50%</th>\n",
       "      <td>1632956.00000</td>\n",
       "      <td>124460672713006880.00000</td>\n",
       "      <td>85.51903</td>\n",
       "      <td>22.62057</td>\n",
       "      <td>29.00000</td>\n",
       "    </tr>\n",
       "    <tr>\n",
       "      <th>75%</th>\n",
       "      <td>2443386.00000</td>\n",
       "      <td>4703286051045099520.00000</td>\n",
       "      <td>88.40805</td>\n",
       "      <td>23.10415</td>\n",
       "      <td>36.00000</td>\n",
       "    </tr>\n",
       "    <tr>\n",
       "      <th>max</th>\n",
       "      <td>3252946.00000</td>\n",
       "      <td>9222849349208140800.00000</td>\n",
       "      <td>89.62207</td>\n",
       "      <td>41.87190</td>\n",
       "      <td>88.00000</td>\n",
       "    </tr>\n",
       "  </tbody>\n",
       "</table>\n",
       "</div>"
      ],
      "text/plain": [
       "           event_id                  device_id    longitude     latitude  \\\n",
       "count  422971.00000               422971.00000 422929.00000 422929.00000   \n",
       "mean  1635553.21051    54332593871695992.00000     82.33530     20.79314   \n",
       "std    930915.34686  5330461509042279424.00000      6.38155      5.42450   \n",
       "min     20881.00000 -9221066489596332032.00000     12.56740      8.41244   \n",
       "25%    822921.00000 -4582571963008606720.00000     76.55060     15.20491   \n",
       "50%   1632956.00000   124460672713006880.00000     85.51903     22.62057   \n",
       "75%   2443386.00000  4703286051045099520.00000     88.40805     23.10415   \n",
       "max   3252946.00000  9222849349208140800.00000     89.62207     41.87190   \n",
       "\n",
       "               age  \n",
       "count 422971.00000  \n",
       "mean      31.44556  \n",
       "std        9.78804  \n",
       "min       11.00000  \n",
       "25%       25.00000  \n",
       "50%       29.00000  \n",
       "75%       36.00000  \n",
       "max       88.00000  "
      ]
     },
     "execution_count": 52,
     "metadata": {},
     "output_type": "execute_result"
    }
   ],
   "source": [
    "df_final_merged.describe()"
   ]
  },
  {
   "cell_type": "code",
   "execution_count": 53,
   "metadata": {},
   "outputs": [
    {
     "data": {
      "text/html": [
       "<div>\n",
       "<style scoped>\n",
       "    .dataframe tbody tr th:only-of-type {\n",
       "        vertical-align: middle;\n",
       "    }\n",
       "\n",
       "    .dataframe tbody tr th {\n",
       "        vertical-align: top;\n",
       "    }\n",
       "\n",
       "    .dataframe thead th {\n",
       "        text-align: right;\n",
       "    }\n",
       "</style>\n",
       "<table border=\"1\" class=\"dataframe\">\n",
       "  <thead>\n",
       "    <tr style=\"text-align: right;\">\n",
       "      <th></th>\n",
       "      <th>timestamp</th>\n",
       "      <th>city</th>\n",
       "      <th>state</th>\n",
       "      <th>gender</th>\n",
       "      <th>group</th>\n",
       "      <th>phone_brand</th>\n",
       "      <th>device_model</th>\n",
       "    </tr>\n",
       "  </thead>\n",
       "  <tbody>\n",
       "    <tr>\n",
       "      <th>count</th>\n",
       "      <td>422971</td>\n",
       "      <td>422971</td>\n",
       "      <td>422971</td>\n",
       "      <td>422971</td>\n",
       "      <td>422971</td>\n",
       "      <td>422971</td>\n",
       "      <td>422971</td>\n",
       "    </tr>\n",
       "    <tr>\n",
       "      <th>unique</th>\n",
       "      <td>290235</td>\n",
       "      <td>311</td>\n",
       "      <td>6</td>\n",
       "      <td>2</td>\n",
       "      <td>12</td>\n",
       "      <td>91</td>\n",
       "      <td>1092</td>\n",
       "    </tr>\n",
       "    <tr>\n",
       "      <th>top</th>\n",
       "      <td>2016-05-05 10:39:01</td>\n",
       "      <td>Calcutta</td>\n",
       "      <td>WestBengal</td>\n",
       "      <td>M</td>\n",
       "      <td>M32-38</td>\n",
       "      <td>小米</td>\n",
       "      <td>红米note</td>\n",
       "    </tr>\n",
       "    <tr>\n",
       "      <th>freq</th>\n",
       "      <td>15</td>\n",
       "      <td>122381</td>\n",
       "      <td>196203</td>\n",
       "      <td>272093</td>\n",
       "      <td>54822</td>\n",
       "      <td>108188</td>\n",
       "      <td>17759</td>\n",
       "    </tr>\n",
       "  </tbody>\n",
       "</table>\n",
       "</div>"
      ],
      "text/plain": [
       "                  timestamp      city       state  gender   group phone_brand  \\\n",
       "count                422971    422971      422971  422971  422971      422971   \n",
       "unique               290235       311           6       2      12          91   \n",
       "top     2016-05-05 10:39:01  Calcutta  WestBengal       M  M32-38          小米   \n",
       "freq                     15    122381      196203  272093   54822      108188   \n",
       "\n",
       "       device_model  \n",
       "count        422971  \n",
       "unique         1092  \n",
       "top          红米note  \n",
       "freq          17759  "
      ]
     },
     "execution_count": 53,
     "metadata": {},
     "output_type": "execute_result"
    }
   ],
   "source": [
    "df_final_merged.describe(include=['object'])"
   ]
  },
  {
   "cell_type": "markdown",
   "metadata": {},
   "source": [
    "**Observations:**\n",
    "- __event id is unique as expected.__\n",
    "- __device id has 19032 distinct values__ and no missing or zero values present.\n",
    "- __Age: Minimum age is 11 and maximum age is 88.__ \n",
    "- __Age distribution is right skewed__ since the mean is to the right of median.\n",
    "- __50 % of the users are between the age 25-36 years. 75% of the users are less than 36 years of age.__ \n",
    "- From 75% (36 yrs) to max age (88) the distribution is widely spread out. There seems to be outliers here.\n",
    "- __Timestamp is highly cardinal as expected.__\n",
    "- __City__ has 311 unique values and __Calcutta__ tops the list in network usauge.\n",
    "- __State__ has 6 unique values and __West Bengal__ tops the list.\n",
    "- __There are 2 gender types. Male users are more than Female users, approximately 64:36 ratio respectively.__\n",
    "- There are __12 age groups__. Most of the users are Males in age group of 32-38 years.\n",
    "- There are __91 phone brands__ used in these 6 states and __小米 (Xiaomi)__ is the highly used phone brand.\n",
    "- There are __1092 device models__ used in these 6 states and __红米note (Redmi Note)__ is the highly used phone model."
   ]
  },
  {
   "cell_type": "markdown",
   "metadata": {},
   "source": [
    "<a name = Section53></a>\n",
    "### **5.3 Pre-Profiling Report**\n",
    "\n",
    "- For **quick analysis** pandas profiling is very handy.\n",
    "\n",
    "- Generates profile reports from a pandas DataFrame.\n",
    "\n",
    "- For each column **statistics** are presented in an interactive HTML report."
   ]
  },
  {
   "cell_type": "code",
   "execution_count": 54,
   "metadata": {},
   "outputs": [
    {
     "data": {
      "application/vnd.jupyter.widget-view+json": {
       "model_id": "11ecadc83cb143ba8947305b272cceed",
       "version_major": 2,
       "version_minor": 0
      },
      "text/plain": [
       "Summarize dataset:   0%|          | 0/5 [00:00<?, ?it/s]"
      ]
     },
     "metadata": {},
     "output_type": "display_data"
    },
    {
     "data": {
      "application/vnd.jupyter.widget-view+json": {
       "model_id": "70759d1041814dd0a47f95f6dc47987e",
       "version_major": 2,
       "version_minor": 0
      },
      "text/plain": [
       "Generate report structure:   0%|          | 0/1 [00:00<?, ?it/s]"
      ]
     },
     "metadata": {},
     "output_type": "display_data"
    },
    {
     "data": {
      "application/vnd.jupyter.widget-view+json": {
       "model_id": "bfa4ab12f97e40f18b0c59ebbd3492e9",
       "version_major": 2,
       "version_minor": 0
      },
      "text/plain": [
       "Render HTML:   0%|          | 0/1 [00:00<?, ?it/s]"
      ]
     },
     "metadata": {},
     "output_type": "display_data"
    },
    {
     "data": {
      "application/vnd.jupyter.widget-view+json": {
       "model_id": "9385914fea694612aef385a11a4b9953",
       "version_major": 2,
       "version_minor": 0
      },
      "text/plain": [
       "Export report to file:   0%|          | 0/1 [00:00<?, ?it/s]"
      ]
     },
     "metadata": {},
     "output_type": "display_data"
    },
    {
     "name": "stdout",
     "output_type": "stream",
     "text": [
      "Accomplished!\n"
     ]
    }
   ],
   "source": [
    "profile = ProfileReport(df = df_final_merged)\n",
    "profile.to_file(output_file = 'CDF Capstone Pre Profiling Report.html')\n",
    "print('Accomplished!')"
   ]
  },
  {
   "cell_type": "markdown",
   "metadata": {},
   "source": [
    "__Observations from Pandas Profiling before Data Processing__<br><br>\n",
    "__Dataset info__:\n",
    "- Number of variables: 12\n",
    "- Number of observations: 422971\n",
    "- Missing cells: 84\n",
    "- No duplicate rows:0\n",
    "\n",
    "__Variables types__: \n",
    "- Numeric = 5\n",
    "- Categorical = 7\n",
    "\n",
    "\n",
    "<br>  \n",
    "\n",
    "- event id is unique as expected.\n",
    "- device id has 19032 distinct values (4.5%) and no missing or zero values present.\n",
    "- Timestamp is highly cardinal and uniform. It has 68.6% distinct values.\n",
    "- longitude and latitude have 42 missing values each which is < 0.1%\n",
    "- City has 311 distinct values. Calcutta with highest frequency 28.9% followwed by Bangalore 11.8%. Rest other cities are <0.5%\n",
    "- State has 6 distinct values. WestBengal with highest frequency 46.4% followwed by Karnataka 23.4%. Rest other states are <10%\n",
    "- Gender has 2 distinct values. Male is 64.3% and Female 35.7%. It is highly correlated with group column.\n",
    "- Age distribution is right skewed. Mean age is 31.4.\n",
    "- For full details check out the report.\n",
    "\n"
   ]
  },
  {
   "cell_type": "markdown",
   "metadata": {},
   "source": [
    "<a name = Section54></a>\n",
    "### **5.4 Handling of Missing Data**\n",
    "\n",
    "- In this section we will **handle** **missing information** such as **null data** and **zero data**."
   ]
  },
  {
   "cell_type": "markdown",
   "metadata": {},
   "source": [
    "- **Handling the missing values for longitude and latitude**"
   ]
  },
  {
   "cell_type": "code",
   "execution_count": 66,
   "metadata": {},
   "outputs": [
    {
     "data": {
      "text/html": [
       "<div>\n",
       "<style scoped>\n",
       "    .dataframe tbody tr th:only-of-type {\n",
       "        vertical-align: middle;\n",
       "    }\n",
       "\n",
       "    .dataframe tbody tr th {\n",
       "        vertical-align: top;\n",
       "    }\n",
       "\n",
       "    .dataframe thead th {\n",
       "        text-align: right;\n",
       "    }\n",
       "</style>\n",
       "<table border=\"1\" class=\"dataframe\">\n",
       "  <thead>\n",
       "    <tr style=\"text-align: right;\">\n",
       "      <th></th>\n",
       "      <th>event_id</th>\n",
       "      <th>timestamp</th>\n",
       "      <th>longitude</th>\n",
       "      <th>latitude</th>\n",
       "      <th>city</th>\n",
       "      <th>state</th>\n",
       "    </tr>\n",
       "    <tr>\n",
       "      <th>device_id</th>\n",
       "      <th></th>\n",
       "      <th></th>\n",
       "      <th></th>\n",
       "      <th></th>\n",
       "      <th></th>\n",
       "      <th></th>\n",
       "    </tr>\n",
       "  </thead>\n",
       "  <tbody>\n",
       "    <tr>\n",
       "      <th>1320050977019711232.00000</th>\n",
       "      <td>14</td>\n",
       "      <td>14</td>\n",
       "      <td>0</td>\n",
       "      <td>0</td>\n",
       "      <td>14</td>\n",
       "      <td>14</td>\n",
       "    </tr>\n",
       "    <tr>\n",
       "      <th>3099168546198768640.00000</th>\n",
       "      <td>14</td>\n",
       "      <td>14</td>\n",
       "      <td>0</td>\n",
       "      <td>0</td>\n",
       "      <td>14</td>\n",
       "      <td>14</td>\n",
       "    </tr>\n",
       "    <tr>\n",
       "      <th>6774071338248978432.00000</th>\n",
       "      <td>14</td>\n",
       "      <td>14</td>\n",
       "      <td>0</td>\n",
       "      <td>0</td>\n",
       "      <td>14</td>\n",
       "      <td>14</td>\n",
       "    </tr>\n",
       "  </tbody>\n",
       "</table>\n",
       "</div>"
      ],
      "text/plain": [
       "                           event_id  timestamp  longitude  latitude  city  \\\n",
       "device_id                                                                   \n",
       "1320050977019711232.00000        14         14          0         0    14   \n",
       "3099168546198768640.00000        14         14          0         0    14   \n",
       "6774071338248978432.00000        14         14          0         0    14   \n",
       "\n",
       "                           state  \n",
       "device_id                         \n",
       "1320050977019711232.00000     14  \n",
       "3099168546198768640.00000     14  \n",
       "6774071338248978432.00000     14  "
      ]
     },
     "execution_count": 66,
     "metadata": {},
     "output_type": "execute_result"
    }
   ],
   "source": [
    "df_final_merged[df_final_merged['longitude'].isnull()].groupby('device_id').count()"
   ]
  },
  {
   "cell_type": "code",
   "execution_count": 85,
   "metadata": {},
   "outputs": [
    {
     "data": {
      "text/html": [
       "<div>\n",
       "<style scoped>\n",
       "    .dataframe tbody tr th:only-of-type {\n",
       "        vertical-align: middle;\n",
       "    }\n",
       "\n",
       "    .dataframe tbody tr th {\n",
       "        vertical-align: top;\n",
       "    }\n",
       "\n",
       "    .dataframe thead th {\n",
       "        text-align: right;\n",
       "    }\n",
       "</style>\n",
       "<table border=\"1\" class=\"dataframe\">\n",
       "  <thead>\n",
       "    <tr style=\"text-align: right;\">\n",
       "      <th></th>\n",
       "      <th>event_id</th>\n",
       "      <th>device_id</th>\n",
       "      <th>timestamp</th>\n",
       "      <th>longitude</th>\n",
       "      <th>latitude</th>\n",
       "      <th>city</th>\n",
       "      <th>state</th>\n",
       "      <th>gender</th>\n",
       "      <th>age</th>\n",
       "      <th>group</th>\n",
       "      <th>phone_brand</th>\n",
       "      <th>device_model</th>\n",
       "    </tr>\n",
       "  </thead>\n",
       "  <tbody>\n",
       "    <tr>\n",
       "      <th>328782</th>\n",
       "      <td>330457</td>\n",
       "      <td>1320050977019711232.00000</td>\n",
       "      <td>2016-05-02 08:29:17</td>\n",
       "      <td>87.57074</td>\n",
       "      <td>26.21192</td>\n",
       "      <td>Araria</td>\n",
       "      <td>Bihar</td>\n",
       "      <td>F</td>\n",
       "      <td>36</td>\n",
       "      <td>F33-42</td>\n",
       "      <td>vivo</td>\n",
       "      <td>X1ST</td>\n",
       "    </tr>\n",
       "  </tbody>\n",
       "</table>\n",
       "</div>"
      ],
      "text/plain": [
       "        event_id                 device_id            timestamp  longitude  \\\n",
       "328782    330457 1320050977019711232.00000  2016-05-02 08:29:17   87.57074   \n",
       "\n",
       "        latitude    city  state gender  age   group phone_brand device_model  \n",
       "328782  26.21192  Araria  Bihar      F   36  F33-42        vivo         X1ST  "
      ]
     },
     "execution_count": 85,
     "metadata": {},
     "output_type": "execute_result"
    }
   ],
   "source": [
    "df_final_merged[df_final_merged['device_id'] == 1320050977019711232].sample()"
   ]
  },
  {
   "cell_type": "code",
   "execution_count": 86,
   "metadata": {},
   "outputs": [
    {
     "data": {
      "text/html": [
       "<div>\n",
       "<style scoped>\n",
       "    .dataframe tbody tr th:only-of-type {\n",
       "        vertical-align: middle;\n",
       "    }\n",
       "\n",
       "    .dataframe tbody tr th {\n",
       "        vertical-align: top;\n",
       "    }\n",
       "\n",
       "    .dataframe thead th {\n",
       "        text-align: right;\n",
       "    }\n",
       "</style>\n",
       "<table border=\"1\" class=\"dataframe\">\n",
       "  <thead>\n",
       "    <tr style=\"text-align: right;\">\n",
       "      <th></th>\n",
       "      <th></th>\n",
       "      <th></th>\n",
       "      <th></th>\n",
       "      <th></th>\n",
       "      <th>event_id</th>\n",
       "      <th>timestamp</th>\n",
       "      <th>gender</th>\n",
       "      <th>age</th>\n",
       "      <th>group</th>\n",
       "      <th>phone_brand</th>\n",
       "      <th>device_model</th>\n",
       "    </tr>\n",
       "    <tr>\n",
       "      <th>device_id</th>\n",
       "      <th>city</th>\n",
       "      <th>state</th>\n",
       "      <th>longitude</th>\n",
       "      <th>latitude</th>\n",
       "      <th></th>\n",
       "      <th></th>\n",
       "      <th></th>\n",
       "      <th></th>\n",
       "      <th></th>\n",
       "      <th></th>\n",
       "      <th></th>\n",
       "    </tr>\n",
       "  </thead>\n",
       "  <tbody>\n",
       "    <tr>\n",
       "      <th>1320050977019711232.00000</th>\n",
       "      <th>Araria</th>\n",
       "      <th>Bihar</th>\n",
       "      <th>87.57074</th>\n",
       "      <th>26.21192</th>\n",
       "      <td>482</td>\n",
       "      <td>482</td>\n",
       "      <td>482</td>\n",
       "      <td>482</td>\n",
       "      <td>482</td>\n",
       "      <td>482</td>\n",
       "      <td>482</td>\n",
       "    </tr>\n",
       "  </tbody>\n",
       "</table>\n",
       "</div>"
      ],
      "text/plain": [
       "                                                           event_id  \\\n",
       "device_id                 city   state longitude latitude             \n",
       "1320050977019711232.00000 Araria Bihar 87.57074  26.21192       482   \n",
       "\n",
       "                                                           timestamp  gender  \\\n",
       "device_id                 city   state longitude latitude                      \n",
       "1320050977019711232.00000 Araria Bihar 87.57074  26.21192        482     482   \n",
       "\n",
       "                                                           age  group  \\\n",
       "device_id                 city   state longitude latitude               \n",
       "1320050977019711232.00000 Araria Bihar 87.57074  26.21192  482    482   \n",
       "\n",
       "                                                           phone_brand  \\\n",
       "device_id                 city   state longitude latitude                \n",
       "1320050977019711232.00000 Araria Bihar 87.57074  26.21192          482   \n",
       "\n",
       "                                                           device_model  \n",
       "device_id                 city   state longitude latitude                \n",
       "1320050977019711232.00000 Araria Bihar 87.57074  26.21192           482  "
      ]
     },
     "execution_count": 86,
     "metadata": {},
     "output_type": "execute_result"
    }
   ],
   "source": [
    "\n",
    "#df_final_merged[(df_final_merged['device_id'] == 1320050977019711232) & (df_final_merged['longitude'].isnull())].groupby(['device_id','city','state']).count()\n",
    "df_final_merged[(df_final_merged['device_id'] == 1320050977019711232)].groupby(['device_id','city','state','longitude','latitude']).count()\n",
    "#df_final_merged[df_final_merged['device_id'] == 1320050977019711232].groupby(['device_id','city','state']).count()"
   ]
  },
  {
   "cell_type": "markdown",
   "metadata": {},
   "source": [
    "**There is only 1 longitude & latitude for device id 1320050977019711232 for 482 records and rest of 14 records are null. So we can fill this logitude 87.57074 & latitude 26.21192 for this device id's missing longitude and latitude.** "
   ]
  },
  {
   "cell_type": "code",
   "execution_count": 87,
   "metadata": {},
   "outputs": [],
   "source": [
    "df_final_merged.loc[((df_final_merged['city'] == 'Araria') & (df_final_merged['state'] == 'Bihar') & (df_final_merged['device_id'] == 1320050977019711232)) & (df_final_merged['longitude'].isnull()), 'longitude'] = 87.57074\n",
    "df_final_merged.loc[((df_final_merged['city'] == 'Araria') & (df_final_merged['state'] == 'Bihar') & (df_final_merged['device_id'] == 1320050977019711232)) & (df_final_merged['latitude'].isnull()), 'latitude'] = 26.21192"
   ]
  },
  {
   "cell_type": "code",
   "execution_count": 88,
   "metadata": {},
   "outputs": [
    {
     "data": {
      "text/html": [
       "<div>\n",
       "<style scoped>\n",
       "    .dataframe tbody tr th:only-of-type {\n",
       "        vertical-align: middle;\n",
       "    }\n",
       "\n",
       "    .dataframe tbody tr th {\n",
       "        vertical-align: top;\n",
       "    }\n",
       "\n",
       "    .dataframe thead th {\n",
       "        text-align: right;\n",
       "    }\n",
       "</style>\n",
       "<table border=\"1\" class=\"dataframe\">\n",
       "  <thead>\n",
       "    <tr style=\"text-align: right;\">\n",
       "      <th></th>\n",
       "      <th>event_id</th>\n",
       "      <th>timestamp</th>\n",
       "      <th>longitude</th>\n",
       "      <th>latitude</th>\n",
       "      <th>city</th>\n",
       "      <th>state</th>\n",
       "      <th>gender</th>\n",
       "      <th>age</th>\n",
       "      <th>group</th>\n",
       "      <th>phone_brand</th>\n",
       "      <th>device_model</th>\n",
       "    </tr>\n",
       "    <tr>\n",
       "      <th>device_id</th>\n",
       "      <th></th>\n",
       "      <th></th>\n",
       "      <th></th>\n",
       "      <th></th>\n",
       "      <th></th>\n",
       "      <th></th>\n",
       "      <th></th>\n",
       "      <th></th>\n",
       "      <th></th>\n",
       "      <th></th>\n",
       "      <th></th>\n",
       "    </tr>\n",
       "  </thead>\n",
       "  <tbody>\n",
       "    <tr>\n",
       "      <th>3099168546198768640.00000</th>\n",
       "      <td>14</td>\n",
       "      <td>14</td>\n",
       "      <td>0</td>\n",
       "      <td>0</td>\n",
       "      <td>14</td>\n",
       "      <td>14</td>\n",
       "      <td>14</td>\n",
       "      <td>14</td>\n",
       "      <td>14</td>\n",
       "      <td>14</td>\n",
       "      <td>14</td>\n",
       "    </tr>\n",
       "    <tr>\n",
       "      <th>6774071338248978432.00000</th>\n",
       "      <td>14</td>\n",
       "      <td>14</td>\n",
       "      <td>0</td>\n",
       "      <td>0</td>\n",
       "      <td>14</td>\n",
       "      <td>14</td>\n",
       "      <td>14</td>\n",
       "      <td>14</td>\n",
       "      <td>14</td>\n",
       "      <td>14</td>\n",
       "      <td>14</td>\n",
       "    </tr>\n",
       "  </tbody>\n",
       "</table>\n",
       "</div>"
      ],
      "text/plain": [
       "                           event_id  timestamp  longitude  latitude  city  \\\n",
       "device_id                                                                   \n",
       "3099168546198768640.00000        14         14          0         0    14   \n",
       "6774071338248978432.00000        14         14          0         0    14   \n",
       "\n",
       "                           state  gender  age  group  phone_brand  \\\n",
       "device_id                                                           \n",
       "3099168546198768640.00000     14      14   14     14           14   \n",
       "6774071338248978432.00000     14      14   14     14           14   \n",
       "\n",
       "                           device_model  \n",
       "device_id                                \n",
       "3099168546198768640.00000            14  \n",
       "6774071338248978432.00000            14  "
      ]
     },
     "execution_count": 88,
     "metadata": {},
     "output_type": "execute_result"
    }
   ],
   "source": [
    "df_final_merged[df_final_merged['longitude'].isnull()].groupby('device_id').count()"
   ]
  },
  {
   "cell_type": "code",
   "execution_count": 89,
   "metadata": {},
   "outputs": [
    {
     "data": {
      "text/html": [
       "<div>\n",
       "<style scoped>\n",
       "    .dataframe tbody tr th:only-of-type {\n",
       "        vertical-align: middle;\n",
       "    }\n",
       "\n",
       "    .dataframe tbody tr th {\n",
       "        vertical-align: top;\n",
       "    }\n",
       "\n",
       "    .dataframe thead th {\n",
       "        text-align: right;\n",
       "    }\n",
       "</style>\n",
       "<table border=\"1\" class=\"dataframe\">\n",
       "  <thead>\n",
       "    <tr style=\"text-align: right;\">\n",
       "      <th></th>\n",
       "      <th>event_id</th>\n",
       "      <th>device_id</th>\n",
       "      <th>timestamp</th>\n",
       "      <th>longitude</th>\n",
       "      <th>latitude</th>\n",
       "      <th>city</th>\n",
       "      <th>state</th>\n",
       "      <th>gender</th>\n",
       "      <th>age</th>\n",
       "      <th>group</th>\n",
       "      <th>phone_brand</th>\n",
       "      <th>device_model</th>\n",
       "    </tr>\n",
       "  </thead>\n",
       "  <tbody>\n",
       "    <tr>\n",
       "      <th>422673</th>\n",
       "      <td>1027767</td>\n",
       "      <td>3099168546198768640.00000</td>\n",
       "      <td>2016-05-05 01:39:44</td>\n",
       "      <td>84.14090</td>\n",
       "      <td>27.17740</td>\n",
       "      <td>Bagaha</td>\n",
       "      <td>Bihar</td>\n",
       "      <td>M</td>\n",
       "      <td>37</td>\n",
       "      <td>M32-38</td>\n",
       "      <td>语信</td>\n",
       "      <td>小辣椒 M2</td>\n",
       "    </tr>\n",
       "  </tbody>\n",
       "</table>\n",
       "</div>"
      ],
      "text/plain": [
       "        event_id                 device_id            timestamp  longitude  \\\n",
       "422673   1027767 3099168546198768640.00000  2016-05-05 01:39:44   84.14090   \n",
       "\n",
       "        latitude    city  state gender  age   group phone_brand device_model  \n",
       "422673  27.17740  Bagaha  Bihar      M   37  M32-38          语信       小辣椒 M2  "
      ]
     },
     "execution_count": 89,
     "metadata": {},
     "output_type": "execute_result"
    }
   ],
   "source": [
    "df_final_merged[df_final_merged['device_id'] == 3099168546198768640].sample()"
   ]
  },
  {
   "cell_type": "code",
   "execution_count": 90,
   "metadata": {},
   "outputs": [
    {
     "data": {
      "text/html": [
       "<div>\n",
       "<style scoped>\n",
       "    .dataframe tbody tr th:only-of-type {\n",
       "        vertical-align: middle;\n",
       "    }\n",
       "\n",
       "    .dataframe tbody tr th {\n",
       "        vertical-align: top;\n",
       "    }\n",
       "\n",
       "    .dataframe thead th {\n",
       "        text-align: right;\n",
       "    }\n",
       "</style>\n",
       "<table border=\"1\" class=\"dataframe\">\n",
       "  <thead>\n",
       "    <tr style=\"text-align: right;\">\n",
       "      <th></th>\n",
       "      <th></th>\n",
       "      <th></th>\n",
       "      <th></th>\n",
       "      <th></th>\n",
       "      <th>event_id</th>\n",
       "      <th>timestamp</th>\n",
       "      <th>gender</th>\n",
       "      <th>age</th>\n",
       "      <th>group</th>\n",
       "      <th>phone_brand</th>\n",
       "      <th>device_model</th>\n",
       "    </tr>\n",
       "    <tr>\n",
       "      <th>device_id</th>\n",
       "      <th>city</th>\n",
       "      <th>state</th>\n",
       "      <th>longitude</th>\n",
       "      <th>latitude</th>\n",
       "      <th></th>\n",
       "      <th></th>\n",
       "      <th></th>\n",
       "      <th></th>\n",
       "      <th></th>\n",
       "      <th></th>\n",
       "      <th></th>\n",
       "    </tr>\n",
       "  </thead>\n",
       "  <tbody>\n",
       "    <tr>\n",
       "      <th>3099168546198768640.00000</th>\n",
       "      <th>Bagaha</th>\n",
       "      <th>Bihar</th>\n",
       "      <th>84.14090</th>\n",
       "      <th>27.17740</th>\n",
       "      <td>533</td>\n",
       "      <td>533</td>\n",
       "      <td>533</td>\n",
       "      <td>533</td>\n",
       "      <td>533</td>\n",
       "      <td>533</td>\n",
       "      <td>533</td>\n",
       "    </tr>\n",
       "  </tbody>\n",
       "</table>\n",
       "</div>"
      ],
      "text/plain": [
       "                                                           event_id  \\\n",
       "device_id                 city   state longitude latitude             \n",
       "3099168546198768640.00000 Bagaha Bihar 84.14090  27.17740       533   \n",
       "\n",
       "                                                           timestamp  gender  \\\n",
       "device_id                 city   state longitude latitude                      \n",
       "3099168546198768640.00000 Bagaha Bihar 84.14090  27.17740        533     533   \n",
       "\n",
       "                                                           age  group  \\\n",
       "device_id                 city   state longitude latitude               \n",
       "3099168546198768640.00000 Bagaha Bihar 84.14090  27.17740  533    533   \n",
       "\n",
       "                                                           phone_brand  \\\n",
       "device_id                 city   state longitude latitude                \n",
       "3099168546198768640.00000 Bagaha Bihar 84.14090  27.17740          533   \n",
       "\n",
       "                                                           device_model  \n",
       "device_id                 city   state longitude latitude                \n",
       "3099168546198768640.00000 Bagaha Bihar 84.14090  27.17740           533  "
      ]
     },
     "execution_count": 90,
     "metadata": {},
     "output_type": "execute_result"
    }
   ],
   "source": [
    "df_final_merged[(df_final_merged['device_id'] == 3099168546198768640)].groupby(['device_id','city','state','longitude','latitude']).count()"
   ]
  },
  {
   "cell_type": "markdown",
   "metadata": {},
   "source": [
    "**There is only 1 longitude & latitude for device id 3099168546198768640 for 533 records and rest of 14 records are null. So we can fill this logitude 84.14090 & latitude 27.17740 for this device id's missing longitude and latitude.** "
   ]
  },
  {
   "cell_type": "code",
   "execution_count": 91,
   "metadata": {},
   "outputs": [],
   "source": [
    "df_final_merged.loc[((df_final_merged['city'] == 'Bagaha') & (df_final_merged['state'] == 'Bihar') & (df_final_merged['device_id'] == 3099168546198768640)) & (df_final_merged['longitude'].isnull()), 'longitude'] = 84.14090\n",
    "df_final_merged.loc[((df_final_merged['city'] == 'Bagaha') & (df_final_merged['state'] == 'Bihar') & (df_final_merged['device_id'] == 3099168546198768640)) & (df_final_merged['latitude'].isnull()), 'latitude'] = 27.17740"
   ]
  },
  {
   "cell_type": "code",
   "execution_count": 92,
   "metadata": {},
   "outputs": [
    {
     "data": {
      "text/html": [
       "<div>\n",
       "<style scoped>\n",
       "    .dataframe tbody tr th:only-of-type {\n",
       "        vertical-align: middle;\n",
       "    }\n",
       "\n",
       "    .dataframe tbody tr th {\n",
       "        vertical-align: top;\n",
       "    }\n",
       "\n",
       "    .dataframe thead th {\n",
       "        text-align: right;\n",
       "    }\n",
       "</style>\n",
       "<table border=\"1\" class=\"dataframe\">\n",
       "  <thead>\n",
       "    <tr style=\"text-align: right;\">\n",
       "      <th></th>\n",
       "      <th>event_id</th>\n",
       "      <th>timestamp</th>\n",
       "      <th>longitude</th>\n",
       "      <th>latitude</th>\n",
       "      <th>city</th>\n",
       "      <th>state</th>\n",
       "      <th>gender</th>\n",
       "      <th>age</th>\n",
       "      <th>group</th>\n",
       "      <th>phone_brand</th>\n",
       "      <th>device_model</th>\n",
       "    </tr>\n",
       "    <tr>\n",
       "      <th>device_id</th>\n",
       "      <th></th>\n",
       "      <th></th>\n",
       "      <th></th>\n",
       "      <th></th>\n",
       "      <th></th>\n",
       "      <th></th>\n",
       "      <th></th>\n",
       "      <th></th>\n",
       "      <th></th>\n",
       "      <th></th>\n",
       "      <th></th>\n",
       "    </tr>\n",
       "  </thead>\n",
       "  <tbody>\n",
       "    <tr>\n",
       "      <th>6774071338248978432.00000</th>\n",
       "      <td>14</td>\n",
       "      <td>14</td>\n",
       "      <td>0</td>\n",
       "      <td>0</td>\n",
       "      <td>14</td>\n",
       "      <td>14</td>\n",
       "      <td>14</td>\n",
       "      <td>14</td>\n",
       "      <td>14</td>\n",
       "      <td>14</td>\n",
       "      <td>14</td>\n",
       "    </tr>\n",
       "  </tbody>\n",
       "</table>\n",
       "</div>"
      ],
      "text/plain": [
       "                           event_id  timestamp  longitude  latitude  city  \\\n",
       "device_id                                                                   \n",
       "6774071338248978432.00000        14         14          0         0    14   \n",
       "\n",
       "                           state  gender  age  group  phone_brand  \\\n",
       "device_id                                                           \n",
       "6774071338248978432.00000     14      14   14     14           14   \n",
       "\n",
       "                           device_model  \n",
       "device_id                                \n",
       "6774071338248978432.00000            14  "
      ]
     },
     "execution_count": 92,
     "metadata": {},
     "output_type": "execute_result"
    }
   ],
   "source": [
    "df_final_merged[df_final_merged['longitude'].isnull()].groupby('device_id').count()"
   ]
  },
  {
   "cell_type": "code",
   "execution_count": 93,
   "metadata": {},
   "outputs": [
    {
     "data": {
      "text/html": [
       "<div>\n",
       "<style scoped>\n",
       "    .dataframe tbody tr th:only-of-type {\n",
       "        vertical-align: middle;\n",
       "    }\n",
       "\n",
       "    .dataframe tbody tr th {\n",
       "        vertical-align: top;\n",
       "    }\n",
       "\n",
       "    .dataframe thead th {\n",
       "        text-align: right;\n",
       "    }\n",
       "</style>\n",
       "<table border=\"1\" class=\"dataframe\">\n",
       "  <thead>\n",
       "    <tr style=\"text-align: right;\">\n",
       "      <th></th>\n",
       "      <th>event_id</th>\n",
       "      <th>device_id</th>\n",
       "      <th>timestamp</th>\n",
       "      <th>longitude</th>\n",
       "      <th>latitude</th>\n",
       "      <th>city</th>\n",
       "      <th>state</th>\n",
       "      <th>gender</th>\n",
       "      <th>age</th>\n",
       "      <th>group</th>\n",
       "      <th>phone_brand</th>\n",
       "      <th>device_model</th>\n",
       "    </tr>\n",
       "  </thead>\n",
       "  <tbody>\n",
       "    <tr>\n",
       "      <th>156005</th>\n",
       "      <td>730212</td>\n",
       "      <td>6774071338248978432.00000</td>\n",
       "      <td>2016-05-03 09:30:14</td>\n",
       "      <td>75.26875</td>\n",
       "      <td>30.90418</td>\n",
       "      <td>Moga</td>\n",
       "      <td>Punjab</td>\n",
       "      <td>M</td>\n",
       "      <td>21</td>\n",
       "      <td>M22-</td>\n",
       "      <td>魅族</td>\n",
       "      <td>MX4</td>\n",
       "    </tr>\n",
       "  </tbody>\n",
       "</table>\n",
       "</div>"
      ],
      "text/plain": [
       "        event_id                 device_id            timestamp  longitude  \\\n",
       "156005    730212 6774071338248978432.00000  2016-05-03 09:30:14   75.26875   \n",
       "\n",
       "        latitude  city   state gender  age group phone_brand device_model  \n",
       "156005  30.90418  Moga  Punjab      M   21  M22-          魅族          MX4  "
      ]
     },
     "execution_count": 93,
     "metadata": {},
     "output_type": "execute_result"
    }
   ],
   "source": [
    "df_final_merged[df_final_merged['device_id'] == 6774071338248978432].sample()"
   ]
  },
  {
   "cell_type": "code",
   "execution_count": 94,
   "metadata": {},
   "outputs": [
    {
     "data": {
      "text/html": [
       "<div>\n",
       "<style scoped>\n",
       "    .dataframe tbody tr th:only-of-type {\n",
       "        vertical-align: middle;\n",
       "    }\n",
       "\n",
       "    .dataframe tbody tr th {\n",
       "        vertical-align: top;\n",
       "    }\n",
       "\n",
       "    .dataframe thead th {\n",
       "        text-align: right;\n",
       "    }\n",
       "</style>\n",
       "<table border=\"1\" class=\"dataframe\">\n",
       "  <thead>\n",
       "    <tr style=\"text-align: right;\">\n",
       "      <th></th>\n",
       "      <th></th>\n",
       "      <th></th>\n",
       "      <th></th>\n",
       "      <th></th>\n",
       "      <th>event_id</th>\n",
       "      <th>timestamp</th>\n",
       "      <th>gender</th>\n",
       "      <th>age</th>\n",
       "      <th>group</th>\n",
       "      <th>phone_brand</th>\n",
       "      <th>device_model</th>\n",
       "    </tr>\n",
       "    <tr>\n",
       "      <th>device_id</th>\n",
       "      <th>city</th>\n",
       "      <th>state</th>\n",
       "      <th>longitude</th>\n",
       "      <th>latitude</th>\n",
       "      <th></th>\n",
       "      <th></th>\n",
       "      <th></th>\n",
       "      <th></th>\n",
       "      <th></th>\n",
       "      <th></th>\n",
       "      <th></th>\n",
       "    </tr>\n",
       "  </thead>\n",
       "  <tbody>\n",
       "    <tr>\n",
       "      <th>6774071338248978432.00000</th>\n",
       "      <th>Moga</th>\n",
       "      <th>Punjab</th>\n",
       "      <th>75.26875</th>\n",
       "      <th>30.90418</th>\n",
       "      <td>444</td>\n",
       "      <td>444</td>\n",
       "      <td>444</td>\n",
       "      <td>444</td>\n",
       "      <td>444</td>\n",
       "      <td>444</td>\n",
       "      <td>444</td>\n",
       "    </tr>\n",
       "  </tbody>\n",
       "</table>\n",
       "</div>"
      ],
      "text/plain": [
       "                                                          event_id  timestamp  \\\n",
       "device_id                 city state  longitude latitude                        \n",
       "6774071338248978432.00000 Moga Punjab 75.26875  30.90418       444        444   \n",
       "\n",
       "                                                          gender  age  group  \\\n",
       "device_id                 city state  longitude latitude                       \n",
       "6774071338248978432.00000 Moga Punjab 75.26875  30.90418     444  444    444   \n",
       "\n",
       "                                                          phone_brand  \\\n",
       "device_id                 city state  longitude latitude                \n",
       "6774071338248978432.00000 Moga Punjab 75.26875  30.90418          444   \n",
       "\n",
       "                                                          device_model  \n",
       "device_id                 city state  longitude latitude                \n",
       "6774071338248978432.00000 Moga Punjab 75.26875  30.90418           444  "
      ]
     },
     "execution_count": 94,
     "metadata": {},
     "output_type": "execute_result"
    }
   ],
   "source": [
    "df_final_merged[(df_final_merged['device_id'] == 6774071338248978432)].groupby(['device_id','city','state','longitude','latitude']).count()"
   ]
  },
  {
   "cell_type": "markdown",
   "metadata": {},
   "source": [
    "**There is only 1 longitude & latitude for device id 6774071338248978432 for 444 records and rest of 14 records are null. So we can fill this logitude 75.26875 & latitude 30.90418 for this device id's missing longitude and latitude.** "
   ]
  },
  {
   "cell_type": "code",
   "execution_count": 95,
   "metadata": {},
   "outputs": [],
   "source": [
    "#filling missing values\n",
    "df_final_merged.loc[((df_final_merged['city'] == 'Moga') & (df_final_merged['state'] == 'Punjab') & (df_final_merged['device_id'] == 6774071338248978432)) & (df_final_merged['longitude'].isnull()), 'longitude'] = 75.26875\n",
    "df_final_merged.loc[((df_final_merged['city'] == 'Moga') & (df_final_merged['state'] == 'Punjab') & (df_final_merged['device_id'] == 6774071338248978432)) & (df_final_merged['latitude'].isnull()), 'latitude'] = 30.90418\t"
   ]
  },
  {
   "cell_type": "code",
   "execution_count": 96,
   "metadata": {},
   "outputs": [
    {
     "data": {
      "text/html": [
       "<div>\n",
       "<style scoped>\n",
       "    .dataframe tbody tr th:only-of-type {\n",
       "        vertical-align: middle;\n",
       "    }\n",
       "\n",
       "    .dataframe tbody tr th {\n",
       "        vertical-align: top;\n",
       "    }\n",
       "\n",
       "    .dataframe thead th {\n",
       "        text-align: right;\n",
       "    }\n",
       "</style>\n",
       "<table border=\"1\" class=\"dataframe\">\n",
       "  <thead>\n",
       "    <tr style=\"text-align: right;\">\n",
       "      <th></th>\n",
       "      <th>event_id</th>\n",
       "      <th>timestamp</th>\n",
       "      <th>longitude</th>\n",
       "      <th>latitude</th>\n",
       "      <th>city</th>\n",
       "      <th>state</th>\n",
       "      <th>gender</th>\n",
       "      <th>age</th>\n",
       "      <th>group</th>\n",
       "      <th>phone_brand</th>\n",
       "      <th>device_model</th>\n",
       "    </tr>\n",
       "    <tr>\n",
       "      <th>device_id</th>\n",
       "      <th></th>\n",
       "      <th></th>\n",
       "      <th></th>\n",
       "      <th></th>\n",
       "      <th></th>\n",
       "      <th></th>\n",
       "      <th></th>\n",
       "      <th></th>\n",
       "      <th></th>\n",
       "      <th></th>\n",
       "      <th></th>\n",
       "    </tr>\n",
       "  </thead>\n",
       "  <tbody>\n",
       "  </tbody>\n",
       "</table>\n",
       "</div>"
      ],
      "text/plain": [
       "Empty DataFrame\n",
       "Columns: [event_id, timestamp, longitude, latitude, city, state, gender, age, group, phone_brand, device_model]\n",
       "Index: []"
      ]
     },
     "execution_count": 96,
     "metadata": {},
     "output_type": "execute_result"
    }
   ],
   "source": [
    "df_final_merged[df_final_merged['longitude'].isnull()].groupby('device_id').count()"
   ]
  },
  {
   "cell_type": "code",
   "execution_count": 97,
   "metadata": {},
   "outputs": [
    {
     "name": "stdout",
     "output_type": "stream",
     "text": [
      "<class 'pandas.core.frame.DataFrame'>\n",
      "Int64Index: 422971 entries, 0 to 422970\n",
      "Data columns (total 12 columns):\n",
      " #   Column        Non-Null Count   Dtype  \n",
      "---  ------        --------------   -----  \n",
      " 0   event_id      422971 non-null  int64  \n",
      " 1   device_id     422971 non-null  float64\n",
      " 2   timestamp     422971 non-null  object \n",
      " 3   longitude     422971 non-null  float64\n",
      " 4   latitude      422971 non-null  float64\n",
      " 5   city          422971 non-null  object \n",
      " 6   state         422971 non-null  object \n",
      " 7   gender        422971 non-null  object \n",
      " 8   age           422971 non-null  int64  \n",
      " 9   group         422971 non-null  object \n",
      " 10  phone_brand   422971 non-null  object \n",
      " 11  device_model  422971 non-null  object \n",
      "dtypes: float64(3), int64(2), object(7)\n",
      "memory usage: 42.0+ MB\n"
     ]
    }
   ],
   "source": [
    "df_final_merged.info()"
   ]
  },
  {
   "cell_type": "markdown",
   "metadata": {},
   "source": [
    "** Phone brand name conversion** "
   ]
  },
  {
   "cell_type": "code",
   "execution_count": 99,
   "metadata": {},
   "outputs": [
    {
     "data": {
      "text/plain": [
       "array(['vivo', 'OPPO', '魅族', '三星', '努比亚', '小米', '华为', '酷派', '华硕', '锤子',\n",
       "       '乐视', 'HTC', '海信', 'TCL', '天语', '中国移动', 'ZUK', 'LG', '联想 ', '优米',\n",
       "       '一加', '语信', '美图', '朵唯', '斐讯', '奇酷', '唯米', '酷比魔方', '富可视', '摩托罗拉',\n",
       "       '神舟', '昂达', '青橙', '凯利通', '乡米', 'LOGO', '梦米', '青葱', '聆韵', '维图',\n",
       "       '亿通', '波导', '海尔', '至尊宝', '优购', '艾优尼', '康佳', 'Lovme', '易派', '百立丰',\n",
       "       '诺基亚', '欧博信', '纽曼', '酷珀', '先锋', '邦华', '宝捷讯', '酷比', '小杨树', '糯米',\n",
       "       '鲜米', '沃普丰', '台电', '黑米', '优语', '米歌', '夏新', '广信', '欧新', '惠普', '虾米',\n",
       "       '贝尔丰', '谷歌', '白米', '大可乐', '爱派尔', '蓝魔', '果米', '大Q', '长虹', '欧奇',\n",
       "       '西米', '尼比鲁', '糖葫芦', 'E派', '飞利浦', '诺亚信', 'PPTV', '德赛', '普耐尔', '欧比'],\n",
       "      dtype=object)"
      ]
     },
     "execution_count": 99,
     "metadata": {},
     "output_type": "execute_result"
    }
   ],
   "source": [
    "# finding the unique phone brands\n",
    "df_final_merged['phone_brand'].unique()"
   ]
  },
  {
   "cell_type": "code",
   "execution_count": null,
   "metadata": {},
   "outputs": [],
   "source": []
  },
  {
   "cell_type": "markdown",
   "metadata": {},
   "source": [
    "<a name = Section54></a>\n",
    "### **5.4 Feature Engineering.**"
   ]
  },
  {
   "cell_type": "markdown",
   "metadata": {},
   "source": [
    "<a name = Section55></a>\n",
    "### **5.5 Post Processing Report**\n",
    "\n",
    "- After doing **missing value Imputation**, **feature engineering**, **Removing unwanted features** we will now look at the report again."
   ]
  },
  {
   "cell_type": "markdown",
   "metadata": {},
   "source": [
    "**Observation:**"
   ]
  },
  {
   "cell_type": "markdown",
   "metadata": {},
   "source": [
    "<a name = Section6></a>\n",
    "\n",
    "---\n",
    "# **6. Exploratory Data Analysis**\n",
    "---"
   ]
  },
  {
   "cell_type": "markdown",
   "metadata": {},
   "source": [
    "**<h4>Question: </h4>**"
   ]
  },
  {
   "cell_type": "markdown",
   "metadata": {},
   "source": [
    "<a name = Section7></a>\n",
    "\n",
    "---\n",
    "# **7. Post Data Processing & Feature Selection**\n",
    "---"
   ]
  },
  {
   "cell_type": "markdown",
   "metadata": {},
   "source": [
    "<a name = Section71></a>\n",
    "### **7.1 Feature Selection**\n"
   ]
  },
  {
   "cell_type": "markdown",
   "metadata": {},
   "source": [
    "<a name = Section72></a>\n",
    "### **7.2 Encoding Categorical Features**"
   ]
  },
  {
   "cell_type": "markdown",
   "metadata": {},
   "source": [
    "<a name = Section73></a>\n",
    "### **7.3 Data Preparation**\n",
    "\n",
    "- Now we will **split** our **data** in **training** and **testing** part for further development."
   ]
  },
  {
   "cell_type": "markdown",
   "metadata": {},
   "source": [
    "<a name = Section8></a>\n",
    "\n",
    "---\n",
    "# **8. Model Development & Evaluation**\n",
    "---\n",
    "\n",
    "- In this section we will **develop xxModel namexxx using input features** and **tune** our **model if required**.\n",
    "\n",
    "- Then we will **analyze the results** obtained and **make our observation**.\n",
    "\n",
    "- For **evaluation purpose** we will **focus** on **Accuracy**, Also we will check for **Precision**,**Recall**,**F1-Score**,**Roc-Auc-Curve** and **Precision-Recall Curve**."
   ]
  },
  {
   "cell_type": "markdown",
   "metadata": {},
   "source": [
    "<a name = Section81></a>\n",
    "\n",
    "## **8.1 Model Name - Baseline Model**"
   ]
  },
  {
   "cell_type": "markdown",
   "metadata": {},
   "source": [
    "<a name = Section82></a>\n",
    "\n",
    "## **8.2 Using Trained Model for Prediction**"
   ]
  },
  {
   "cell_type": "markdown",
   "metadata": {},
   "source": [
    "<a name = Section83></a>\n",
    "\n",
    "## **8.3 Model Name  Model Evaluation**"
   ]
  },
  {
   "cell_type": "markdown",
   "metadata": {},
   "source": [
    "<a name = Section9></a>\n",
    "\n",
    "---\n",
    "# **9. Conclusion**\n",
    "---"
   ]
  },
  {
   "cell_type": "markdown",
   "metadata": {},
   "source": [
    "<a name = Section91></a>\n",
    "### **9.1 Conclusion**"
   ]
  },
  {
   "cell_type": "markdown",
   "metadata": {},
   "source": [
    "<a name = Section92></a>\n",
    "### **9.2 Actionable Insights**"
   ]
  }
 ],
 "metadata": {
  "kernelspec": {
   "display_name": "Python 3",
   "language": "python",
   "name": "python3"
  },
  "language_info": {
   "codemirror_mode": {
    "name": "ipython",
    "version": 3
   },
   "file_extension": ".py",
   "mimetype": "text/x-python",
   "name": "python",
   "nbconvert_exporter": "python",
   "pygments_lexer": "ipython3",
   "version": "3.8.8"
  },
  "toc": {
   "base_numbering": 1,
   "nav_menu": {},
   "number_sections": false,
   "sideBar": true,
   "skip_h1_title": false,
   "title_cell": "Table of Contents",
   "title_sidebar": "Contents",
   "toc_cell": false,
   "toc_position": {
    "height": "calc(100% - 180px)",
    "left": "10px",
    "top": "150px",
    "width": "451.825px"
   },
   "toc_section_display": true,
   "toc_window_display": true
  }
 },
 "nbformat": 4,
 "nbformat_minor": 4
}
