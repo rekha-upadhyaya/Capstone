{
 "cells": [
  {
   "cell_type": "markdown",
   "metadata": {},
   "source": [
    "<center><img src=\"https://github.com/insaid2018/Term-1/blob/master/Images/INSAID_Full%20Logo.png?raw=true\" width=\"240\" height=\"100\" /></center>\n",
    "\n",
    "# CDF Capstone Project"
   ]
  },
  {
   "cell_type": "markdown",
   "metadata": {},
   "source": [
    "---\n",
    "# **Table of Contents**\n",
    "---\n",
    "**1.** [**Introduction**](#Section1)<br>\n",
    "\n",
    "**2.** [**Problem Statement**](#Section2)<br>\n",
    "\n",
    "**3.** [**Installing & Importing Libraries**](#Section3)<br>\n",
    "  - **3.1** [**Installing Libraries**](#Section31)\n",
    "  - **3.2** [**Upgrading Libraries**](#Section32)\n",
    "  - **3.3** [**Importing Libraries**](#Section33)\n",
    "\n",
    "**4.** [**Data Acquisition & Information**](#Section4)<br>\n",
    "  - **4.1** [**Data Acquisition**](#Section41)\n",
    "   - **4.1.1** [**Importing Events Dataset from CSV file**](#Section411)\n",
    "   - **4.1.2** [**Importing Gender_age & Brand_model Dataset from MySQL**](#Section412)\n",
    "  - **4.2** [**Data Information**](#Section42)\n",
    "   - **4.2.1** [**Data Information for Events Dataset**](#Section421)\n",
    "   - **4.2.2** [**Data Information for Gender_age Dataset**](#Section422)\n",
    "   - **4.2.3** [**Data Information for Brand_model Dataset**](#Section423)\n",
    "\n",
    "**5.** [**Data Pre-processing**](#Section5)<br>\n",
    "  - **5.1** [**Filtering Events Dataset by States**](#Section51)\n",
    "  - **5.2** [**Merging all three datasets**](#Section52)\n",
    "  - **5.3** [**Pre-Profiling Report**](#Section51)\n",
    "  - **5.4** [**Handling of Missing Data**](#Section52)<br>\n",
    "  - **5.3** [**Feature Engineering.**](#Section53)<br>\n",
    "  - **5.4** [**Post Processing Report**](#Section54)<br>\n",
    "\n",
    "**6.** [**Exploratory Data Analysis**](#Section6)<br>\n",
    "\n",
    "**7.** [**Post Data Processing & Feature Selection**](#Section7)<br>\n",
    "  - **7.1** [**Feature Selection**](#Section71)<br>\n",
    "  - **7.2** [**Encoding the Categorical Data**](#Section72)<br>\n",
    "  - **7.3** [**Data Preparation**](#Section73)<br>\n",
    "\n",
    "**8.** [**Model Development & Evaluation**](#Section8)<br>\n",
    "  - **8.1** [**ModelName - Baseline Model**](#Section81)<br>\n",
    "  - **8.2** [**Using Trained Model for Prediction**](#Section82)<br>\n",
    "  - **8.3** [**Model Evaluation**](#Section83)<br>\n",
    "\n",
    "**9.** [**Summarization**](#Section9)<br>\n",
    "  - **9.1** [**Conclusion**](#Section91)<br>\n",
    "  - **9.2** [**Actionable Insights**](#Section92)<br>"
   ]
  },
  {
   "cell_type": "markdown",
   "metadata": {},
   "source": [
    "---\n",
    "<a name = Section1></a>\n",
    "# **1. Introduction**\n",
    "---\n",
    "\n",
    "\n",
    "<center><img src=\"\" /></center>\n",
    "\n",
    "InsaidTelecom, one of the leading telecom players, understands that customizing offering is very important for its business to stay competitive.\n",
    "Currently, InsaidTelecom is seeking to leverage behavioral data from more than 60% of the 50 million mobile devices active daily in India to help its clients better understand and interact with their audiences.\n",
    "\n",
    "In this consulting assignment, Insaidians are expected to build a dashboard to understand user's demographic characteristics based on their mobile usage, geolocation, and mobile device properties.\n",
    "\n",
    "Doing so will help millions of developers and brand advertisers around the world pursue data-driven marketing efforts which are relevant to their users and catered to their preferences."
   ]
  },
  {
   "cell_type": "markdown",
   "metadata": {},
   "source": [
    "---\n",
    "<a name = Section2></a>\n",
    "# **2. Problem Statement**\n",
    "---\n",
    "\n",
    "\n",
    "<center><img src=\"\" /></center>"
   ]
  },
  {
   "cell_type": "markdown",
   "metadata": {},
   "source": [
    "---\n",
    "<a name = Section3></a>\n",
    "# **3. Installing & Importing Libraries**\n",
    "---"
   ]
  },
  {
   "cell_type": "markdown",
   "metadata": {},
   "source": [
    "<a name = Section31></a>\n",
    "### **3.1 Installing Libraries**"
   ]
  },
  {
   "cell_type": "code",
   "execution_count": 1,
   "metadata": {
    "scrolled": false
   },
   "outputs": [
    {
     "name": "stderr",
     "output_type": "stream",
     "text": [
      "ERROR: pip's dependency resolver does not currently take into account all the packages that are installed. This behaviour is the source of the following dependency conflicts.\n",
      "anaconda-project 0.9.1 requires ruamel-yaml, which is not installed.\n",
      "pandas-profiling 3.1.0 requires markupsafe~=2.0.1, but you have markupsafe 1.1.1 which is incompatible.\n",
      "ERROR: pip's dependency resolver does not currently take into account all the packages that are installed. This behaviour is the source of the following dependency conflicts.\n",
      "anaconda-project 0.9.1 requires ruamel-yaml, which is not installed.\n",
      "sphinx 4.0.1 requires MarkupSafe<2.0, but you have markupsafe 2.0.1 which is incompatible.\n"
     ]
    },
    {
     "name": "stdout",
     "output_type": "stream",
     "text": [
      "Requirement already satisfied: mysql-connector-python in c:\\users\\supadhyaya8\\anaconda3\\lib\\site-packages (8.0.28)\n",
      "Requirement already satisfied: protobuf>=3.0.0 in c:\\users\\supadhyaya8\\anaconda3\\lib\\site-packages (from mysql-connector-python) (3.19.4)\n",
      "Requirement already satisfied: googletrans==3.1.0a0 in c:\\users\\supadhyaya8\\anaconda3\\lib\\site-packages (3.1.0a0)\n",
      "Requirement already satisfied: httpx==0.13.3 in c:\\users\\supadhyaya8\\anaconda3\\lib\\site-packages (from googletrans==3.1.0a0) (0.13.3)\n",
      "Requirement already satisfied: rfc3986<2,>=1.3 in c:\\users\\supadhyaya8\\anaconda3\\lib\\site-packages (from httpx==0.13.3->googletrans==3.1.0a0) (1.5.0)\n",
      "Requirement already satisfied: chardet==3.* in c:\\users\\supadhyaya8\\anaconda3\\lib\\site-packages (from httpx==0.13.3->googletrans==3.1.0a0) (3.0.4)\n",
      "Requirement already satisfied: hstspreload in c:\\users\\supadhyaya8\\anaconda3\\lib\\site-packages (from httpx==0.13.3->googletrans==3.1.0a0) (2021.12.1)\n",
      "Requirement already satisfied: idna==2.* in c:\\users\\supadhyaya8\\anaconda3\\lib\\site-packages (from httpx==0.13.3->googletrans==3.1.0a0) (2.10)\n",
      "Requirement already satisfied: httpcore==0.9.* in c:\\users\\supadhyaya8\\anaconda3\\lib\\site-packages (from httpx==0.13.3->googletrans==3.1.0a0) (0.9.1)\n",
      "Requirement already satisfied: certifi in c:\\users\\supadhyaya8\\anaconda3\\lib\\site-packages (from httpx==0.13.3->googletrans==3.1.0a0) (2020.12.5)\n",
      "Requirement already satisfied: sniffio in c:\\users\\supadhyaya8\\anaconda3\\lib\\site-packages (from httpx==0.13.3->googletrans==3.1.0a0) (1.2.0)\n",
      "Requirement already satisfied: h11<0.10,>=0.8 in c:\\users\\supadhyaya8\\anaconda3\\lib\\site-packages (from httpcore==0.9.*->httpx==0.13.3->googletrans==3.1.0a0) (0.9.0)\n",
      "Requirement already satisfied: h2==3.* in c:\\users\\supadhyaya8\\anaconda3\\lib\\site-packages (from httpcore==0.9.*->httpx==0.13.3->googletrans==3.1.0a0) (3.2.0)\n",
      "Requirement already satisfied: hyperframe<6,>=5.2.0 in c:\\users\\supadhyaya8\\anaconda3\\lib\\site-packages (from h2==3.*->httpcore==0.9.*->httpx==0.13.3->googletrans==3.1.0a0) (5.2.0)\n",
      "Requirement already satisfied: hpack<4,>=3.0 in c:\\users\\supadhyaya8\\anaconda3\\lib\\site-packages (from h2==3.*->httpcore==0.9.*->httpx==0.13.3->googletrans==3.1.0a0) (3.0.0)\n",
      "Requirement already satisfied: deep-translator in c:\\users\\supadhyaya8\\anaconda3\\lib\\site-packages (1.7.0)\n",
      "Requirement already satisfied: beautifulsoup4<5.0.0,>=4.9.1 in c:\\users\\supadhyaya8\\anaconda3\\lib\\site-packages (from deep-translator) (4.9.3)\n",
      "Requirement already satisfied: requests<3.0.0,>=2.23.0 in c:\\users\\supadhyaya8\\anaconda3\\lib\\site-packages (from deep-translator) (2.25.1)\n",
      "Requirement already satisfied: soupsieve>1.2 in c:\\users\\supadhyaya8\\anaconda3\\lib\\site-packages (from beautifulsoup4<5.0.0,>=4.9.1->deep-translator) (2.2.1)\n",
      "Requirement already satisfied: certifi>=2017.4.17 in c:\\users\\supadhyaya8\\anaconda3\\lib\\site-packages (from requests<3.0.0,>=2.23.0->deep-translator) (2020.12.5)\n",
      "Requirement already satisfied: idna<3,>=2.5 in c:\\users\\supadhyaya8\\anaconda3\\lib\\site-packages (from requests<3.0.0,>=2.23.0->deep-translator) (2.10)\n",
      "Requirement already satisfied: chardet<5,>=3.0.2 in c:\\users\\supadhyaya8\\anaconda3\\lib\\site-packages (from requests<3.0.0,>=2.23.0->deep-translator) (3.0.4)\n",
      "Requirement already satisfied: urllib3<1.27,>=1.21.1 in c:\\users\\supadhyaya8\\anaconda3\\lib\\site-packages (from requests<3.0.0,>=2.23.0->deep-translator) (1.26.4)\n"
     ]
    }
   ],
   "source": [
    "!pip install -q --user datascience                   \n",
    "!pip install -q --user pandas-profiling              \n",
    "!pip install -q --user yellowbrick                   \n",
    "!pip install mysql-connector-python\n",
    "!pip install googletrans==3.1.0a0\n",
    "!pip install deep-translator"
   ]
  },
  {
   "cell_type": "markdown",
   "metadata": {},
   "source": [
    "<a name = Section32></a>\n",
    "### **3.2 Upgrading Libraries**\n",
    "\n",
    "- **After upgrading** the libraries, you need to **restart the runtime** to make the libraries in sync. \n",
    "\n",
    "- Make sure not to execute the cell above (3.1) and below (3.2) again after restarting the runtime."
   ]
  },
  {
   "cell_type": "code",
   "execution_count": 2,
   "metadata": {},
   "outputs": [],
   "source": [
    "!pip install -q --upgrade pandas-profiling\n",
    "!pip install -q --upgrade yellowbrick"
   ]
  },
  {
   "cell_type": "markdown",
   "metadata": {},
   "source": [
    "<a name = Section33></a>\n",
    "### **3.3 Importing Libraries**"
   ]
  },
  {
   "cell_type": "code",
   "execution_count": 3,
   "metadata": {},
   "outputs": [],
   "source": [
    "#-------------------------------------------------------------------------------------------------------------------------------\n",
    "import pandas as pd                                                 # Importing for panel data analysis\n",
    "from pandas_profiling import ProfileReport                          # Import Pandas Profiling (To generate Univariate Analysis) \n",
    "pd.set_option('display.max_columns', None)                          # Unfolding hidden features if the cardinality is high      \n",
    "pd.set_option('display.max_colwidth', None)                         # Unfolding the max feature width for better clearity      \n",
    "pd.set_option('display.max_rows', None)                             # Unfolding hidden data points if the cardinality is high\n",
    "pd.set_option('mode.chained_assignment', None)                      # Removing restriction over chained assignments operations\n",
    "pd.set_option('display.float_format', lambda x: '%.5f' % x)         # To suppress scientific notation over exponential values\n",
    "#-------------------------------------------------------------------------------------------------------------------------------\n",
    "import numpy as np                                                  # Importing package numpys (For Numerical Python)\n",
    "from scipy.stats import randint as sp_randint                       # for initializing random integer values\n",
    "#-------------------------------------------------------------------------------------------------------------------------------\n",
    "import matplotlib.pyplot as plt                                     # Importing pyplot interface using matplotlib\n",
    "from matplotlib.pylab import rcParams                               # Backend used for rendering and GUI integration                                               \n",
    "import seaborn as sns                                               # Importin seaborm library for interactive visualization\n",
    "%matplotlib inline\n",
    "#-------------------------------------------------------------------------------------------------------------------------------\n",
    "from sklearn.metrics import accuracy_score                          # For calculating the accuracy for the model\n",
    "from sklearn.metrics import precision_score                         # For calculating the Precision of the model\n",
    "from sklearn.metrics import recall_score                            # For calculating the recall of the model\n",
    "from sklearn.metrics import precision_recall_curve                  # For precision and recall metric estimation\n",
    "from sklearn.metrics import confusion_matrix                        # For verifying model performance using confusion matrix\n",
    "from sklearn.metrics import f1_score                                # For Checking the F1-Score of our model  \n",
    "from sklearn.metrics import roc_curve                               # For Roc-Auc metric estimation\n",
    "#-------------------------------------------------------------------------------------------------------------------------------\n",
    "from sklearn.model_selection import train_test_split                # To split the data in training and testing part     \n",
    "from sklearn.feature_selection import SelectFromModel               # To perform Feature Selection over model\n",
    "\n",
    "#-------------------------------------------------------------------------------------------------------------------------------\n",
    "import warnings                                                     # Importing warning to disable runtime warnings\n",
    "warnings.filterwarnings(\"ignore\")                                   # Warnings will appear only once\n",
    "#-------------------------------------------------------------------------------------------------------------------------------\n",
    "import mysql.connector as connection\n",
    "import googletrans\n",
    "from googletrans import Translator\n",
    "from deep_translator import GoogleTranslator"
   ]
  },
  {
   "cell_type": "markdown",
   "metadata": {},
   "source": [
    "---\n",
    "<a name = Section4></a>\n",
    "# **4. Data Acquisition & Information**\n",
    "---"
   ]
  },
  {
   "cell_type": "markdown",
   "metadata": {},
   "source": [
    "<a name = Section41></a>\n",
    "### **4.1 Data Acquisition**\n",
    "\n",
    "- In this section we will read the datasets from the various sources available."
   ]
  },
  {
   "cell_type": "markdown",
   "metadata": {},
   "source": [
    "<a name = Section411></a>\n",
    "#### **4.1.1 Importing 1st dataset - 'events_data' from a csv file**\n",
    "\n",
    "- When a user uses mobile on INSAID Telecom network, the event gets logged in this data. Each event has an event id, location (lat/long), and the event corresponds to frequency of mobile usage. Timestamp tells when the user is using the mobile."
   ]
  },
  {
   "cell_type": "code",
   "execution_count": 4,
   "metadata": {},
   "outputs": [
    {
     "data": {
      "text/html": [
       "<div>\n",
       "<style scoped>\n",
       "    .dataframe tbody tr th:only-of-type {\n",
       "        vertical-align: middle;\n",
       "    }\n",
       "\n",
       "    .dataframe tbody tr th {\n",
       "        vertical-align: top;\n",
       "    }\n",
       "\n",
       "    .dataframe thead th {\n",
       "        text-align: right;\n",
       "    }\n",
       "</style>\n",
       "<table border=\"1\" class=\"dataframe\">\n",
       "  <thead>\n",
       "    <tr style=\"text-align: right;\">\n",
       "      <th></th>\n",
       "      <th>event_id</th>\n",
       "      <th>device_id</th>\n",
       "      <th>timestamp</th>\n",
       "      <th>longitude</th>\n",
       "      <th>latitude</th>\n",
       "      <th>city</th>\n",
       "      <th>state</th>\n",
       "    </tr>\n",
       "  </thead>\n",
       "  <tbody>\n",
       "    <tr>\n",
       "      <th>0</th>\n",
       "      <td>2765368</td>\n",
       "      <td>2973347786994914304.00000</td>\n",
       "      <td>2016-05-07 22:52:05</td>\n",
       "      <td>77.22568</td>\n",
       "      <td>28.73014</td>\n",
       "      <td>Delhi</td>\n",
       "      <td>Delhi</td>\n",
       "    </tr>\n",
       "    <tr>\n",
       "      <th>1</th>\n",
       "      <td>2955066</td>\n",
       "      <td>4734221357723754496.00000</td>\n",
       "      <td>2016-05-01 20:44:16</td>\n",
       "      <td>88.38836</td>\n",
       "      <td>22.66033</td>\n",
       "      <td>Calcutta</td>\n",
       "      <td>WestBengal</td>\n",
       "    </tr>\n",
       "    <tr>\n",
       "      <th>2</th>\n",
       "      <td>605968</td>\n",
       "      <td>-3264499652692492800.00000</td>\n",
       "      <td>2016-05-02 14:23:04</td>\n",
       "      <td>77.25681</td>\n",
       "      <td>28.75791</td>\n",
       "      <td>Delhi</td>\n",
       "      <td>Delhi</td>\n",
       "    </tr>\n",
       "    <tr>\n",
       "      <th>3</th>\n",
       "      <td>448114</td>\n",
       "      <td>5731369272434022400.00000</td>\n",
       "      <td>2016-05-03 13:21:16</td>\n",
       "      <td>80.34361</td>\n",
       "      <td>13.15333</td>\n",
       "      <td>Chennai</td>\n",
       "      <td>TamilNadu</td>\n",
       "    </tr>\n",
       "    <tr>\n",
       "      <th>4</th>\n",
       "      <td>665740</td>\n",
       "      <td>338888002570799936.00000</td>\n",
       "      <td>2016-05-06 03:51:05</td>\n",
       "      <td>85.99774</td>\n",
       "      <td>23.84261</td>\n",
       "      <td>Bokaro</td>\n",
       "      <td>Jharkhand</td>\n",
       "    </tr>\n",
       "  </tbody>\n",
       "</table>\n",
       "</div>"
      ],
      "text/plain": [
       "   event_id                  device_id            timestamp  longitude  \\\n",
       "0   2765368  2973347786994914304.00000  2016-05-07 22:52:05   77.22568   \n",
       "1   2955066  4734221357723754496.00000  2016-05-01 20:44:16   88.38836   \n",
       "2    605968 -3264499652692492800.00000  2016-05-02 14:23:04   77.25681   \n",
       "3    448114  5731369272434022400.00000  2016-05-03 13:21:16   80.34361   \n",
       "4    665740   338888002570799936.00000  2016-05-06 03:51:05   85.99774   \n",
       "\n",
       "   latitude      city       state  \n",
       "0  28.73014     Delhi       Delhi  \n",
       "1  22.66033  Calcutta  WestBengal  \n",
       "2  28.75791     Delhi       Delhi  \n",
       "3  13.15333   Chennai   TamilNadu  \n",
       "4  23.84261    Bokaro   Jharkhand  "
      ]
     },
     "execution_count": 4,
     "metadata": {},
     "output_type": "execute_result"
    }
   ],
   "source": [
    "# Reading the data from the events data csv file\n",
    "df_events_data = pd.read_csv('C:/Users/supadhyaya8/OneDrive - DXC Production/Documents/cdf/events_data.csv')\n",
    "df_events_data.head()"
   ]
  },
  {
   "cell_type": "code",
   "execution_count": 5,
   "metadata": {},
   "outputs": [
    {
     "data": {
      "text/plain": [
       "(3252950, 7)"
      ]
     },
     "execution_count": 5,
     "metadata": {},
     "output_type": "execute_result"
    }
   ],
   "source": [
    "#checking the shape of the dataset\n",
    "df_events_data.shape"
   ]
  },
  {
   "cell_type": "markdown",
   "metadata": {},
   "source": [
    "<a name = Section411></a>\n",
    "#### **4.1.2 Importing 2nd & 3rd dataset - 'gender_age_train' & 'phone_brand_device_model' from MySQL database**\n",
    "\n",
    "- gender_age_train           :- Device_ids and their respective user gender, age and age_group\n",
    "- phone_brand_device_model   :- device ids, brand, and device's model."
   ]
  },
  {
   "cell_type": "code",
   "execution_count": 6,
   "metadata": {},
   "outputs": [],
   "source": [
    "#Downloading the data from the MySQL database for gender_age_train & phone_brand_device_model onto Python by connecting to the below provided MySQL instance.\n",
    "try:\n",
    "    mydb = connection.connect(host=\"cpanel.insaid.co\", database = 'Capstone1',user=\"student\", passwd=\"student\",use_pure=True)\n",
    "    query1 = \"Select * from gender_age_train;\"\n",
    "    query2 = \"Select * from phone_brand_device_model;\"\n",
    "    df_gender_age = pd.read_sql(query1,mydb)\n",
    "    df_brand_model = pd.read_sql(query2,mydb)\n",
    "    mydb.close() #close the connection\n",
    "except Exception as e:\n",
    "    mydb.close()\n",
    "    print(str(e))"
   ]
  },
  {
   "cell_type": "markdown",
   "metadata": {},
   "source": [
    "- getting the head for the gender_age dataset"
   ]
  },
  {
   "cell_type": "code",
   "execution_count": 7,
   "metadata": {},
   "outputs": [
    {
     "data": {
      "text/html": [
       "<div>\n",
       "<style scoped>\n",
       "    .dataframe tbody tr th:only-of-type {\n",
       "        vertical-align: middle;\n",
       "    }\n",
       "\n",
       "    .dataframe tbody tr th {\n",
       "        vertical-align: top;\n",
       "    }\n",
       "\n",
       "    .dataframe thead th {\n",
       "        text-align: right;\n",
       "    }\n",
       "</style>\n",
       "<table border=\"1\" class=\"dataframe\">\n",
       "  <thead>\n",
       "    <tr style=\"text-align: right;\">\n",
       "      <th></th>\n",
       "      <th>device_id</th>\n",
       "      <th>gender</th>\n",
       "      <th>age</th>\n",
       "      <th>group</th>\n",
       "    </tr>\n",
       "  </thead>\n",
       "  <tbody>\n",
       "    <tr>\n",
       "      <th>0</th>\n",
       "      <td>-8076087639492063270</td>\n",
       "      <td>M</td>\n",
       "      <td>35</td>\n",
       "      <td>M32-38</td>\n",
       "    </tr>\n",
       "    <tr>\n",
       "      <th>1</th>\n",
       "      <td>-2897161552818060146</td>\n",
       "      <td>M</td>\n",
       "      <td>35</td>\n",
       "      <td>M32-38</td>\n",
       "    </tr>\n",
       "    <tr>\n",
       "      <th>2</th>\n",
       "      <td>-8260683887967679142</td>\n",
       "      <td>M</td>\n",
       "      <td>35</td>\n",
       "      <td>M32-38</td>\n",
       "    </tr>\n",
       "    <tr>\n",
       "      <th>3</th>\n",
       "      <td>-4938849341048082022</td>\n",
       "      <td>M</td>\n",
       "      <td>30</td>\n",
       "      <td>M29-31</td>\n",
       "    </tr>\n",
       "    <tr>\n",
       "      <th>4</th>\n",
       "      <td>245133531816851882</td>\n",
       "      <td>M</td>\n",
       "      <td>30</td>\n",
       "      <td>M29-31</td>\n",
       "    </tr>\n",
       "  </tbody>\n",
       "</table>\n",
       "</div>"
      ],
      "text/plain": [
       "             device_id gender  age   group\n",
       "0 -8076087639492063270      M   35  M32-38\n",
       "1 -2897161552818060146      M   35  M32-38\n",
       "2 -8260683887967679142      M   35  M32-38\n",
       "3 -4938849341048082022      M   30  M29-31\n",
       "4   245133531816851882      M   30  M29-31"
      ]
     },
     "execution_count": 7,
     "metadata": {},
     "output_type": "execute_result"
    }
   ],
   "source": [
    "df_gender_age.head()"
   ]
  },
  {
   "cell_type": "code",
   "execution_count": 8,
   "metadata": {},
   "outputs": [
    {
     "data": {
      "text/plain": [
       "(74645, 4)"
      ]
     },
     "execution_count": 8,
     "metadata": {},
     "output_type": "execute_result"
    }
   ],
   "source": [
    "df_gender_age.shape"
   ]
  },
  {
   "cell_type": "markdown",
   "metadata": {},
   "source": [
    "- getting the head for the brand_model dataset"
   ]
  },
  {
   "cell_type": "code",
   "execution_count": 9,
   "metadata": {},
   "outputs": [
    {
     "data": {
      "text/html": [
       "<div>\n",
       "<style scoped>\n",
       "    .dataframe tbody tr th:only-of-type {\n",
       "        vertical-align: middle;\n",
       "    }\n",
       "\n",
       "    .dataframe tbody tr th {\n",
       "        vertical-align: top;\n",
       "    }\n",
       "\n",
       "    .dataframe thead th {\n",
       "        text-align: right;\n",
       "    }\n",
       "</style>\n",
       "<table border=\"1\" class=\"dataframe\">\n",
       "  <thead>\n",
       "    <tr style=\"text-align: right;\">\n",
       "      <th></th>\n",
       "      <th>device_id</th>\n",
       "      <th>phone_brand</th>\n",
       "      <th>device_model</th>\n",
       "    </tr>\n",
       "  </thead>\n",
       "  <tbody>\n",
       "    <tr>\n",
       "      <th>0</th>\n",
       "      <td>1877775838486905855</td>\n",
       "      <td>vivo</td>\n",
       "      <td>Y13</td>\n",
       "    </tr>\n",
       "    <tr>\n",
       "      <th>1</th>\n",
       "      <td>-3766087376657242966</td>\n",
       "      <td>小米</td>\n",
       "      <td>V183</td>\n",
       "    </tr>\n",
       "    <tr>\n",
       "      <th>2</th>\n",
       "      <td>-6238937574958215831</td>\n",
       "      <td>OPPO</td>\n",
       "      <td>R7s</td>\n",
       "    </tr>\n",
       "    <tr>\n",
       "      <th>3</th>\n",
       "      <td>8973197758510677470</td>\n",
       "      <td>三星</td>\n",
       "      <td>A368t</td>\n",
       "    </tr>\n",
       "    <tr>\n",
       "      <th>4</th>\n",
       "      <td>-2015528097870762664</td>\n",
       "      <td>小米</td>\n",
       "      <td>红米Note2</td>\n",
       "    </tr>\n",
       "  </tbody>\n",
       "</table>\n",
       "</div>"
      ],
      "text/plain": [
       "             device_id phone_brand device_model\n",
       "0  1877775838486905855        vivo          Y13\n",
       "1 -3766087376657242966          小米         V183\n",
       "2 -6238937574958215831        OPPO          R7s\n",
       "3  8973197758510677470          三星        A368t\n",
       "4 -2015528097870762664          小米      红米Note2"
      ]
     },
     "execution_count": 9,
     "metadata": {},
     "output_type": "execute_result"
    }
   ],
   "source": [
    "df_brand_model.head()"
   ]
  },
  {
   "cell_type": "code",
   "execution_count": 10,
   "metadata": {},
   "outputs": [
    {
     "data": {
      "text/plain": [
       "(87726, 3)"
      ]
     },
     "execution_count": 10,
     "metadata": {},
     "output_type": "execute_result"
    }
   ],
   "source": [
    "df_brand_model.shape"
   ]
  },
  {
   "cell_type": "code",
   "execution_count": 11,
   "metadata": {},
   "outputs": [],
   "source": [
    "#df_gender_age.to_csv('gender_age_train.csv')"
   ]
  },
  {
   "cell_type": "code",
   "execution_count": 12,
   "metadata": {},
   "outputs": [],
   "source": [
    "df_brand_model.to_csv('phone_brand_device_model.csv')"
   ]
  },
  {
   "cell_type": "markdown",
   "metadata": {},
   "source": [
    "<a name = Section42></a>\n",
    "### **4.2 Data Information**\n",
    "\n",
    "- In this section we will see the **information about the types of features**."
   ]
  },
  {
   "cell_type": "markdown",
   "metadata": {},
   "source": [
    "<a name = Section421></a>\n",
    "#### **4.2.1 Data Information for Events Dataset**\n",
    "\n",
    "- In this section we will see the **information about the types of features for events dataset**."
   ]
  },
  {
   "cell_type": "code",
   "execution_count": 13,
   "metadata": {},
   "outputs": [
    {
     "name": "stdout",
     "output_type": "stream",
     "text": [
      "<class 'pandas.core.frame.DataFrame'>\n",
      "RangeIndex: 3252950 entries, 0 to 3252949\n",
      "Data columns (total 7 columns):\n",
      " #   Column     Dtype  \n",
      "---  ------     -----  \n",
      " 0   event_id   int64  \n",
      " 1   device_id  float64\n",
      " 2   timestamp  object \n",
      " 3   longitude  float64\n",
      " 4   latitude   float64\n",
      " 5   city       object \n",
      " 6   state      object \n",
      "dtypes: float64(3), int64(1), object(3)\n",
      "memory usage: 173.7+ MB\n"
     ]
    }
   ],
   "source": [
    "df_events_data.info()"
   ]
  },
  {
   "cell_type": "code",
   "execution_count": 14,
   "metadata": {},
   "outputs": [
    {
     "data": {
      "text/plain": [
       "event_id       0\n",
       "device_id    453\n",
       "timestamp      0\n",
       "longitude    423\n",
       "latitude     423\n",
       "city           0\n",
       "state        377\n",
       "dtype: int64"
      ]
     },
     "execution_count": 14,
     "metadata": {},
     "output_type": "execute_result"
    }
   ],
   "source": [
    "#Checking if null values are present in events dataset\n",
    "df_events_data.isnull().sum()"
   ]
  },
  {
   "cell_type": "markdown",
   "metadata": {},
   "source": [
    "**Observations for Events Dataset:**\n",
    "1. There are __3252950 records and 7 features__ in the events dataset.\n",
    "2. There are __453 missing values__ for deviec_id.\n",
    "3. Datatype of __device_id is float__\n",
    "4. __Timestamp__ is object to be converted __to datetime.__\n",
    "5. longitude and latitude have __423 missing values.__\n",
    "6. State has __377 missing values.__\n",
    "7. There are __4 numerical features, 2 categorical features and a timestamp.__"
   ]
  },
  {
   "cell_type": "markdown",
   "metadata": {},
   "source": [
    "<a name = Section422></a>\n",
    "#### **4.2.2 Data Information for Gender_age Dataset**\n",
    "\n",
    "- In this section we will see the **information about the types of features for gender_age dataset**."
   ]
  },
  {
   "cell_type": "code",
   "execution_count": 15,
   "metadata": {},
   "outputs": [
    {
     "name": "stdout",
     "output_type": "stream",
     "text": [
      "<class 'pandas.core.frame.DataFrame'>\n",
      "RangeIndex: 74645 entries, 0 to 74644\n",
      "Data columns (total 4 columns):\n",
      " #   Column     Non-Null Count  Dtype \n",
      "---  ------     --------------  ----- \n",
      " 0   device_id  74645 non-null  int64 \n",
      " 1   gender     74645 non-null  object\n",
      " 2   age        74645 non-null  int64 \n",
      " 3   group      74645 non-null  object\n",
      "dtypes: int64(2), object(2)\n",
      "memory usage: 2.3+ MB\n"
     ]
    }
   ],
   "source": [
    "df_gender_age.info()"
   ]
  },
  {
   "cell_type": "code",
   "execution_count": 16,
   "metadata": {},
   "outputs": [
    {
     "data": {
      "text/plain": [
       "74645"
      ]
     },
     "execution_count": 16,
     "metadata": {},
     "output_type": "execute_result"
    }
   ],
   "source": [
    "df_gender_age['device_id'].nunique()"
   ]
  },
  {
   "cell_type": "markdown",
   "metadata": {},
   "source": [
    "**Observations for Gender_age Dataset:**\n",
    "1. There are __74645 records and 4 features__.\n",
    "2. There are __no missing values__.\n",
    "3. __Correct Datatype__ of all the features.\n",
    "4. There are __2 numerical features, 2 categorical features.__"
   ]
  },
  {
   "cell_type": "markdown",
   "metadata": {},
   "source": [
    "<a name = Section423></a>\n",
    "#### **4.2.3 Data Information for Brand_Model Dataset**\n",
    "\n",
    "- In this section we will see the **information about the types of features for brand_model dataset**."
   ]
  },
  {
   "cell_type": "code",
   "execution_count": 17,
   "metadata": {},
   "outputs": [
    {
     "name": "stdout",
     "output_type": "stream",
     "text": [
      "<class 'pandas.core.frame.DataFrame'>\n",
      "RangeIndex: 87726 entries, 0 to 87725\n",
      "Data columns (total 3 columns):\n",
      " #   Column        Non-Null Count  Dtype \n",
      "---  ------        --------------  ----- \n",
      " 0   device_id     87726 non-null  int64 \n",
      " 1   phone_brand   87726 non-null  object\n",
      " 2   device_model  87726 non-null  object\n",
      "dtypes: int64(1), object(2)\n",
      "memory usage: 2.0+ MB\n"
     ]
    }
   ],
   "source": [
    "df_brand_model.info()"
   ]
  },
  {
   "cell_type": "code",
   "execution_count": 18,
   "metadata": {},
   "outputs": [
    {
     "data": {
      "text/plain": [
       "87726"
      ]
     },
     "execution_count": 18,
     "metadata": {},
     "output_type": "execute_result"
    }
   ],
   "source": [
    "df_brand_model['device_id'].nunique()\n",
    "\n"
   ]
  },
  {
   "cell_type": "markdown",
   "metadata": {},
   "source": [
    "**Observations for Brand_model Dataset:**\n",
    "1. There are __87726 records and 3 features__.\n",
    "2. There are __no missing values__.\n",
    "3. __Correct Datatype__ of all the features.\n",
    "4. There is __1 numerical feature, 2 categorical features.__"
   ]
  },
  {
   "cell_type": "markdown",
   "metadata": {},
   "source": [
    "Translating phone brands name in english."
   ]
  },
  {
   "cell_type": "code",
   "execution_count": 19,
   "metadata": {},
   "outputs": [
    {
     "data": {
      "text/plain": [
       "array(['vivo', 'Millet', 'OPPO', 'Samsung', 'Coolpad', 'Lenovo', 'Huawei',\n",
       "       'cool', 'Meizu', 'PHICOMM', 'China Mobile', 'HTC', 'Amagatarai',\n",
       "       'Supreme Treasure', 'LG', 'Obersin', 'Quality rice', 'YOU',\n",
       "       'Nubia', 'HP', 'Nibiru', 'Meitu', 'rural rice', 'Motorola',\n",
       "       'dream rice', 'hammer', 'InFocus', 'LeTV', 'Hisense', 'Bailifeng',\n",
       "       'one plus', 'language letter', 'Haier', 'Cool than', 'Newman',\n",
       "       'waveguide', 'Dove', 'listen to the rhyme', 'TCL', 'Cruel',\n",
       "       'Apple', 'LOGO', 'shallots', 'fruit rice', 'ASUS', 'Onda', 'Ayuni',\n",
       "       'Konka', 'Yougo', 'Banghua', 'Cyber \\u200b\\u200bYuhua',\n",
       "       'black rice', 'Lovme', 'pioneer', 'E Pie', 'Shenzhou', 'Nokia',\n",
       "       'Purnell', 'candied haws', 'Atsu', 'Ou Xin', 'Mickey',\n",
       "       \"Cube Rubik's Cube\", 'Blue demon', 'small poplar', 'Belfon',\n",
       "       'Sticky rice', 'Mi Ge', 'E person E book', 'Simi', 'Big Q',\n",
       "       'Taipower', 'Philips', 'Weimi', 'Daxian', 'Changhong',\n",
       "       'Dimensional', 'green orange', 'this is', 'dried shrimp', 'Amoi',\n",
       "       'curtain', 'Bacardi', 'SUGAR', 'Ouch', 'Century Star', 'Magnesium',\n",
       "       'Obi', 'Kivu', 'femtosecond', 'Desai', 'Epay', 'Google',\n",
       "       'Venus Digital', 'Widely believed', \"Noah's letter\",\n",
       "       'ONE THOUSAND', 'white rice', 'Big Coke', 'Projet', 'Yuyu',\n",
       "       'Shouyun', 'Remy', 'Regal', 'Vopfon', 'Moller', 'fresh rice',\n",
       "       'Kelly Pass', 'only', 'over', 'Fung rice', 'Heng Yufeng', 'Oaks',\n",
       "       'Siemens', 'Oraldi', 'PPTV'], dtype=object)"
      ]
     },
     "execution_count": 19,
     "metadata": {},
     "output_type": "execute_result"
    }
   ],
   "source": [
    "g_translator = GoogleTranslator()\n",
    "\n",
    "\n",
    "#df_brand_model['phone_brand_english'] = df_brand_model['phone_brand'].apply(translator.translate).apply(getattr, args=('text',))\n",
    "\n",
    "df_brand_model['phone_brand_english']= df_brand_model['phone_brand']\n",
    "df_brand_model['device_model_english']= df_brand_model['device_model']\n",
    "\n",
    "# Translating phone_brand\n",
    "brand_translations = {}\n",
    "brand_unique_elements = df_brand_model['phone_brand'].unique()\n",
    "for brand_element in brand_unique_elements:\n",
    "# add translation to the dictionary\n",
    "    brand_translations[brand_element] = g_translator.translate(brand_element, src='zh-cn')    \n",
    "df_brand_model['phone_brand_english'].replace(brand_translations, inplace = True)\n",
    "df_brand_model['phone_brand_english'].unique()\n"
   ]
  },
  {
   "cell_type": "code",
   "execution_count": 54,
   "metadata": {},
   "outputs": [
    {
     "name": "stdout",
     "output_type": "stream",
     "text": [
      "2022-02-25 12:28:09.933759\n",
      "2022-02-25 12:35:02.700698\n"
     ]
    }
   ],
   "source": [
    "import re\n",
    "from datetime import datetime\n",
    "\n",
    "# Translating device_model\n",
    "device_model_element_translations = {}\n",
    "device_model_unique_elements = df_brand_model['device_model'].unique()\n",
    "print(datetime.now())\n",
    "for device_model_element in device_model_unique_elements:    \n",
    "# add translation to the dictionary\n",
    "#Checking for string containing only numbers as they are throwing error, so ignoring them    \n",
    "    if(re.match(r\"[-+]?\\d+(\\.0*)?$\", device_model_element) is None):\n",
    "        device_model_element_translations[device_model_element] = g_translator.translate(device_model_element)    \n",
    "df_brand_model['device_model_english'].replace(device_model_element_translations, inplace = True)\n",
    "df_brand_model['device_model_english'].unique()\n",
    "print(datetime.now())"
   ]
  },
  {
   "cell_type": "code",
   "execution_count": 55,
   "metadata": {},
   "outputs": [
    {
     "data": {
      "text/html": [
       "<div>\n",
       "<style scoped>\n",
       "    .dataframe tbody tr th:only-of-type {\n",
       "        vertical-align: middle;\n",
       "    }\n",
       "\n",
       "    .dataframe tbody tr th {\n",
       "        vertical-align: top;\n",
       "    }\n",
       "\n",
       "    .dataframe thead th {\n",
       "        text-align: right;\n",
       "    }\n",
       "</style>\n",
       "<table border=\"1\" class=\"dataframe\">\n",
       "  <thead>\n",
       "    <tr style=\"text-align: right;\">\n",
       "      <th></th>\n",
       "      <th>device_id</th>\n",
       "      <th>phone_brand</th>\n",
       "      <th>device_model</th>\n",
       "      <th>phone_brand_english</th>\n",
       "      <th>device_model_english</th>\n",
       "    </tr>\n",
       "  </thead>\n",
       "  <tbody>\n",
       "    <tr>\n",
       "      <th>83348</th>\n",
       "      <td>-7380985688339665321</td>\n",
       "      <td>OPPO</td>\n",
       "      <td>R7</td>\n",
       "      <td>OPPO</td>\n",
       "      <td>R7</td>\n",
       "    </tr>\n",
       "    <tr>\n",
       "      <th>35270</th>\n",
       "      <td>-4430512930955635482</td>\n",
       "      <td>OPPO</td>\n",
       "      <td>R3</td>\n",
       "      <td>OPPO</td>\n",
       "      <td>R3</td>\n",
       "    </tr>\n",
       "    <tr>\n",
       "      <th>25734</th>\n",
       "      <td>-5982967595586418177</td>\n",
       "      <td>OPPO</td>\n",
       "      <td>R7s</td>\n",
       "      <td>OPPO</td>\n",
       "      <td>R7s</td>\n",
       "    </tr>\n",
       "    <tr>\n",
       "      <th>24864</th>\n",
       "      <td>3142900489616262411</td>\n",
       "      <td>三星</td>\n",
       "      <td>Galaxy S3</td>\n",
       "      <td>Samsung</td>\n",
       "      <td>Galaxy S3</td>\n",
       "    </tr>\n",
       "    <tr>\n",
       "      <th>39991</th>\n",
       "      <td>-7882194990300403876</td>\n",
       "      <td>三星</td>\n",
       "      <td>A706</td>\n",
       "      <td>Samsung</td>\n",
       "      <td>A706</td>\n",
       "    </tr>\n",
       "    <tr>\n",
       "      <th>33900</th>\n",
       "      <td>2230297753481777286</td>\n",
       "      <td>华为</td>\n",
       "      <td>麦芒4</td>\n",
       "      <td>Huawei</td>\n",
       "      <td>Maimang 4</td>\n",
       "    </tr>\n",
       "    <tr>\n",
       "      <th>51851</th>\n",
       "      <td>781766986623897798</td>\n",
       "      <td>三星</td>\n",
       "      <td>Galaxy Note 3</td>\n",
       "      <td>Samsung</td>\n",
       "      <td>Galaxy Note 3</td>\n",
       "    </tr>\n",
       "    <tr>\n",
       "      <th>4307</th>\n",
       "      <td>1432696080228104890</td>\n",
       "      <td>华为</td>\n",
       "      <td>荣耀6</td>\n",
       "      <td>Huawei</td>\n",
       "      <td>glory 6</td>\n",
       "    </tr>\n",
       "    <tr>\n",
       "      <th>66138</th>\n",
       "      <td>-6473953397060512883</td>\n",
       "      <td>华为</td>\n",
       "      <td>荣耀7</td>\n",
       "      <td>Huawei</td>\n",
       "      <td>glory 7</td>\n",
       "    </tr>\n",
       "    <tr>\n",
       "      <th>2258</th>\n",
       "      <td>5204107506477681175</td>\n",
       "      <td>OPPO</td>\n",
       "      <td>R7s</td>\n",
       "      <td>OPPO</td>\n",
       "      <td>R7s</td>\n",
       "    </tr>\n",
       "    <tr>\n",
       "      <th>32589</th>\n",
       "      <td>-598459332255853682</td>\n",
       "      <td>OPPO</td>\n",
       "      <td>R1S</td>\n",
       "      <td>OPPO</td>\n",
       "      <td>R1S</td>\n",
       "    </tr>\n",
       "    <tr>\n",
       "      <th>58070</th>\n",
       "      <td>3336854350722649201</td>\n",
       "      <td>小米</td>\n",
       "      <td>MI 2S</td>\n",
       "      <td>Millet</td>\n",
       "      <td>MI 2S</td>\n",
       "    </tr>\n",
       "    <tr>\n",
       "      <th>25385</th>\n",
       "      <td>256769332518590170</td>\n",
       "      <td>魅族</td>\n",
       "      <td>MX4 Pro</td>\n",
       "      <td>Meizu</td>\n",
       "      <td>MX4 Pro</td>\n",
       "    </tr>\n",
       "    <tr>\n",
       "      <th>26413</th>\n",
       "      <td>1508406165599554</td>\n",
       "      <td>OPPO</td>\n",
       "      <td>A31</td>\n",
       "      <td>OPPO</td>\n",
       "      <td>A31</td>\n",
       "    </tr>\n",
       "    <tr>\n",
       "      <th>82073</th>\n",
       "      <td>-338820587238028066</td>\n",
       "      <td>三星</td>\n",
       "      <td>A828t</td>\n",
       "      <td>Samsung</td>\n",
       "      <td>A828t</td>\n",
       "    </tr>\n",
       "    <tr>\n",
       "      <th>81536</th>\n",
       "      <td>7066569107882543814</td>\n",
       "      <td>三星</td>\n",
       "      <td>黄金斗士A8</td>\n",
       "      <td>Samsung</td>\n",
       "      <td>Gold Fighter A8</td>\n",
       "    </tr>\n",
       "    <tr>\n",
       "      <th>3299</th>\n",
       "      <td>-244484346519229439</td>\n",
       "      <td>小米</td>\n",
       "      <td>MI 3</td>\n",
       "      <td>Millet</td>\n",
       "      <td>MI 3</td>\n",
       "    </tr>\n",
       "    <tr>\n",
       "      <th>11140</th>\n",
       "      <td>-1233500697969519226</td>\n",
       "      <td>联想</td>\n",
       "      <td>795+</td>\n",
       "      <td>Lenovo</td>\n",
       "      <td>795+</td>\n",
       "    </tr>\n",
       "    <tr>\n",
       "      <th>59742</th>\n",
       "      <td>483587936781867553</td>\n",
       "      <td>小米</td>\n",
       "      <td>MI 3</td>\n",
       "      <td>Millet</td>\n",
       "      <td>MI 3</td>\n",
       "    </tr>\n",
       "    <tr>\n",
       "      <th>63171</th>\n",
       "      <td>4210575672361953638</td>\n",
       "      <td>优米</td>\n",
       "      <td>R1</td>\n",
       "      <td>Quality rice</td>\n",
       "      <td>R1</td>\n",
       "    </tr>\n",
       "    <tr>\n",
       "      <th>36438</th>\n",
       "      <td>6782501727278611547</td>\n",
       "      <td>华为</td>\n",
       "      <td>Mate 7</td>\n",
       "      <td>Huawei</td>\n",
       "      <td>Mate 7</td>\n",
       "    </tr>\n",
       "    <tr>\n",
       "      <th>74866</th>\n",
       "      <td>1908781024906280951</td>\n",
       "      <td>酷派</td>\n",
       "      <td>ivvi K1 mini</td>\n",
       "      <td>Coolpad</td>\n",
       "      <td>ivvi K1 mini</td>\n",
       "    </tr>\n",
       "    <tr>\n",
       "      <th>37763</th>\n",
       "      <td>2855490627196675509</td>\n",
       "      <td>小米</td>\n",
       "      <td>MI 3</td>\n",
       "      <td>Millet</td>\n",
       "      <td>MI 3</td>\n",
       "    </tr>\n",
       "    <tr>\n",
       "      <th>71904</th>\n",
       "      <td>-8530230221102708270</td>\n",
       "      <td>华为</td>\n",
       "      <td>C8816</td>\n",
       "      <td>Huawei</td>\n",
       "      <td>C8816</td>\n",
       "    </tr>\n",
       "    <tr>\n",
       "      <th>62317</th>\n",
       "      <td>1347034685427000187</td>\n",
       "      <td>小米</td>\n",
       "      <td>MI 2S</td>\n",
       "      <td>Millet</td>\n",
       "      <td>MI 2S</td>\n",
       "    </tr>\n",
       "    <tr>\n",
       "      <th>25172</th>\n",
       "      <td>1354272879403506961</td>\n",
       "      <td>华为</td>\n",
       "      <td>G660-L075</td>\n",
       "      <td>Huawei</td>\n",
       "      <td>G660-L075</td>\n",
       "    </tr>\n",
       "    <tr>\n",
       "      <th>37586</th>\n",
       "      <td>6912754550357329998</td>\n",
       "      <td>小米</td>\n",
       "      <td>MI 3</td>\n",
       "      <td>Millet</td>\n",
       "      <td>MI 3</td>\n",
       "    </tr>\n",
       "    <tr>\n",
       "      <th>65214</th>\n",
       "      <td>4130680186570953979</td>\n",
       "      <td>三星</td>\n",
       "      <td>Galaxy A7</td>\n",
       "      <td>Samsung</td>\n",
       "      <td>Galaxy A7</td>\n",
       "    </tr>\n",
       "    <tr>\n",
       "      <th>85834</th>\n",
       "      <td>-6127457801516503028</td>\n",
       "      <td>小米</td>\n",
       "      <td>MI 3</td>\n",
       "      <td>Millet</td>\n",
       "      <td>MI 3</td>\n",
       "    </tr>\n",
       "    <tr>\n",
       "      <th>375</th>\n",
       "      <td>-4582547448510593251</td>\n",
       "      <td>vivo</td>\n",
       "      <td>Y927</td>\n",
       "      <td>vivo</td>\n",
       "      <td>Y927</td>\n",
       "    </tr>\n",
       "    <tr>\n",
       "      <th>45766</th>\n",
       "      <td>-3610464632847765591</td>\n",
       "      <td>魅族</td>\n",
       "      <td>魅蓝Note 2</td>\n",
       "      <td>Meizu</td>\n",
       "      <td>Meizu Note 2</td>\n",
       "    </tr>\n",
       "    <tr>\n",
       "      <th>60019</th>\n",
       "      <td>3073323971111592638</td>\n",
       "      <td>vivo</td>\n",
       "      <td>Xperia Z Ultra</td>\n",
       "      <td>vivo</td>\n",
       "      <td>Xperia Z Ultra</td>\n",
       "    </tr>\n",
       "    <tr>\n",
       "      <th>75179</th>\n",
       "      <td>5032465157658381486</td>\n",
       "      <td>华为</td>\n",
       "      <td>荣耀3C</td>\n",
       "      <td>Huawei</td>\n",
       "      <td>Honor 3C</td>\n",
       "    </tr>\n",
       "    <tr>\n",
       "      <th>50850</th>\n",
       "      <td>3842365041641156224</td>\n",
       "      <td>小米</td>\n",
       "      <td>MI 4</td>\n",
       "      <td>Millet</td>\n",
       "      <td>MI 4</td>\n",
       "    </tr>\n",
       "    <tr>\n",
       "      <th>73824</th>\n",
       "      <td>-2530248553402222456</td>\n",
       "      <td>华为</td>\n",
       "      <td>荣耀畅玩4C</td>\n",
       "      <td>Huawei</td>\n",
       "      <td>Honor Play 4C</td>\n",
       "    </tr>\n",
       "    <tr>\n",
       "      <th>5934</th>\n",
       "      <td>6538916486621671248</td>\n",
       "      <td>海信</td>\n",
       "      <td>E912S</td>\n",
       "      <td>Hisense</td>\n",
       "      <td>E912S</td>\n",
       "    </tr>\n",
       "    <tr>\n",
       "      <th>63159</th>\n",
       "      <td>-6958356691849985364</td>\n",
       "      <td>华为</td>\n",
       "      <td>Mate 7</td>\n",
       "      <td>Huawei</td>\n",
       "      <td>Mate 7</td>\n",
       "    </tr>\n",
       "    <tr>\n",
       "      <th>24626</th>\n",
       "      <td>-300173608317622803</td>\n",
       "      <td>三星</td>\n",
       "      <td>Galaxy Note 5</td>\n",
       "      <td>Samsung</td>\n",
       "      <td>Galaxy Note 5</td>\n",
       "    </tr>\n",
       "    <tr>\n",
       "      <th>2014</th>\n",
       "      <td>-3063111327526146042</td>\n",
       "      <td>三星</td>\n",
       "      <td>Galaxy S2</td>\n",
       "      <td>Samsung</td>\n",
       "      <td>Galaxy S2</td>\n",
       "    </tr>\n",
       "    <tr>\n",
       "      <th>58265</th>\n",
       "      <td>3990080222049113748</td>\n",
       "      <td>小米</td>\n",
       "      <td>MI 2S</td>\n",
       "      <td>Millet</td>\n",
       "      <td>MI 2S</td>\n",
       "    </tr>\n",
       "    <tr>\n",
       "      <th>55299</th>\n",
       "      <td>-6150687128371895967</td>\n",
       "      <td>小米</td>\n",
       "      <td>小米note</td>\n",
       "      <td>Millet</td>\n",
       "      <td>Xiaomi note</td>\n",
       "    </tr>\n",
       "    <tr>\n",
       "      <th>12618</th>\n",
       "      <td>-6918815111627913860</td>\n",
       "      <td>小米</td>\n",
       "      <td>MI 2S</td>\n",
       "      <td>Millet</td>\n",
       "      <td>MI 2S</td>\n",
       "    </tr>\n",
       "    <tr>\n",
       "      <th>42222</th>\n",
       "      <td>1226972943479945820</td>\n",
       "      <td>小米</td>\n",
       "      <td>红米note</td>\n",
       "      <td>Millet</td>\n",
       "      <td>redmi note</td>\n",
       "    </tr>\n",
       "    <tr>\n",
       "      <th>74743</th>\n",
       "      <td>4485932643328156287</td>\n",
       "      <td>小米</td>\n",
       "      <td>小米note</td>\n",
       "      <td>Millet</td>\n",
       "      <td>Xiaomi note</td>\n",
       "    </tr>\n",
       "    <tr>\n",
       "      <th>55057</th>\n",
       "      <td>8610758538049410932</td>\n",
       "      <td>OPPO</td>\n",
       "      <td>R1S</td>\n",
       "      <td>OPPO</td>\n",
       "      <td>R1S</td>\n",
       "    </tr>\n",
       "    <tr>\n",
       "      <th>60754</th>\n",
       "      <td>-8823498076354311633</td>\n",
       "      <td>vivo</td>\n",
       "      <td>Xplay3S</td>\n",
       "      <td>vivo</td>\n",
       "      <td>Xplay3S</td>\n",
       "    </tr>\n",
       "    <tr>\n",
       "      <th>81729</th>\n",
       "      <td>-5346258035533030239</td>\n",
       "      <td>酷派</td>\n",
       "      <td>大神F1</td>\n",
       "      <td>Coolpad</td>\n",
       "      <td>Okami F1</td>\n",
       "    </tr>\n",
       "    <tr>\n",
       "      <th>56805</th>\n",
       "      <td>-5310180729362256046</td>\n",
       "      <td>酷派</td>\n",
       "      <td>锋尚Max</td>\n",
       "      <td>Coolpad</td>\n",
       "      <td>Fengshang Max</td>\n",
       "    </tr>\n",
       "    <tr>\n",
       "      <th>39014</th>\n",
       "      <td>-7100837497161627311</td>\n",
       "      <td>中国移动</td>\n",
       "      <td>M811</td>\n",
       "      <td>China Mobile</td>\n",
       "      <td>M811</td>\n",
       "    </tr>\n",
       "    <tr>\n",
       "      <th>25288</th>\n",
       "      <td>-2588380923430125366</td>\n",
       "      <td>小米</td>\n",
       "      <td>红米Note2</td>\n",
       "      <td>Millet</td>\n",
       "      <td>redmi note2</td>\n",
       "    </tr>\n",
       "    <tr>\n",
       "      <th>60474</th>\n",
       "      <td>8868921230873035752</td>\n",
       "      <td>三星</td>\n",
       "      <td>A320t</td>\n",
       "      <td>Samsung</td>\n",
       "      <td>A320t</td>\n",
       "    </tr>\n",
       "    <tr>\n",
       "      <th>18119</th>\n",
       "      <td>-5627256746810319673</td>\n",
       "      <td>LG</td>\n",
       "      <td>Optimus G</td>\n",
       "      <td>LG</td>\n",
       "      <td>Optimus G</td>\n",
       "    </tr>\n",
       "    <tr>\n",
       "      <th>18215</th>\n",
       "      <td>-2551350935451878203</td>\n",
       "      <td>小米</td>\n",
       "      <td>MI 4</td>\n",
       "      <td>Millet</td>\n",
       "      <td>MI 4</td>\n",
       "    </tr>\n",
       "    <tr>\n",
       "      <th>15109</th>\n",
       "      <td>-7684046788686847573</td>\n",
       "      <td>酷派</td>\n",
       "      <td>大神F1</td>\n",
       "      <td>Coolpad</td>\n",
       "      <td>Okami F1</td>\n",
       "    </tr>\n",
       "    <tr>\n",
       "      <th>45098</th>\n",
       "      <td>-6546708599724520930</td>\n",
       "      <td>小米</td>\n",
       "      <td>红米2</td>\n",
       "      <td>Millet</td>\n",
       "      <td>red rice 2</td>\n",
       "    </tr>\n",
       "    <tr>\n",
       "      <th>34727</th>\n",
       "      <td>7858517238621876023</td>\n",
       "      <td>华为</td>\n",
       "      <td>Mate 7</td>\n",
       "      <td>Huawei</td>\n",
       "      <td>Mate 7</td>\n",
       "    </tr>\n",
       "    <tr>\n",
       "      <th>2733</th>\n",
       "      <td>-8492094872272209975</td>\n",
       "      <td>小米</td>\n",
       "      <td>M5</td>\n",
       "      <td>Millet</td>\n",
       "      <td>M5</td>\n",
       "    </tr>\n",
       "    <tr>\n",
       "      <th>16903</th>\n",
       "      <td>4336246850406067719</td>\n",
       "      <td>三星</td>\n",
       "      <td>Galaxy S2</td>\n",
       "      <td>Samsung</td>\n",
       "      <td>Galaxy S2</td>\n",
       "    </tr>\n",
       "    <tr>\n",
       "      <th>14987</th>\n",
       "      <td>6612078330302817839</td>\n",
       "      <td>vivo</td>\n",
       "      <td>Y17T</td>\n",
       "      <td>vivo</td>\n",
       "      <td>Y17T</td>\n",
       "    </tr>\n",
       "    <tr>\n",
       "      <th>38260</th>\n",
       "      <td>-6761834577760168710</td>\n",
       "      <td>三星</td>\n",
       "      <td>Galaxy S5</td>\n",
       "      <td>Samsung</td>\n",
       "      <td>Galaxy S5</td>\n",
       "    </tr>\n",
       "    <tr>\n",
       "      <th>49023</th>\n",
       "      <td>6774071338248978547</td>\n",
       "      <td>魅族</td>\n",
       "      <td>MX4</td>\n",
       "      <td>Meizu</td>\n",
       "      <td>MX4</td>\n",
       "    </tr>\n",
       "    <tr>\n",
       "      <th>4101</th>\n",
       "      <td>-3585407850419385638</td>\n",
       "      <td>三星</td>\n",
       "      <td>Galaxy Note 2</td>\n",
       "      <td>Samsung</td>\n",
       "      <td>Galaxy Note 2</td>\n",
       "    </tr>\n",
       "    <tr>\n",
       "      <th>35840</th>\n",
       "      <td>-6525558548660410209</td>\n",
       "      <td>三星</td>\n",
       "      <td>Galaxy Core Mini</td>\n",
       "      <td>Samsung</td>\n",
       "      <td>Galaxy Core Mini</td>\n",
       "    </tr>\n",
       "    <tr>\n",
       "      <th>61091</th>\n",
       "      <td>2517509852314396080</td>\n",
       "      <td>OPPO</td>\n",
       "      <td>Find 7</td>\n",
       "      <td>OPPO</td>\n",
       "      <td>Find 7</td>\n",
       "    </tr>\n",
       "    <tr>\n",
       "      <th>30035</th>\n",
       "      <td>4523973158965511063</td>\n",
       "      <td>vivo</td>\n",
       "      <td>Xperia S</td>\n",
       "      <td>vivo</td>\n",
       "      <td>Xperia S</td>\n",
       "    </tr>\n",
       "    <tr>\n",
       "      <th>54534</th>\n",
       "      <td>5390258739069879938</td>\n",
       "      <td>vivo</td>\n",
       "      <td>Y11IT</td>\n",
       "      <td>vivo</td>\n",
       "      <td>Y11IT</td>\n",
       "    </tr>\n",
       "    <tr>\n",
       "      <th>12095</th>\n",
       "      <td>2464581711250694085</td>\n",
       "      <td>三星</td>\n",
       "      <td>Galaxy S6</td>\n",
       "      <td>Samsung</td>\n",
       "      <td>Galaxy S6</td>\n",
       "    </tr>\n",
       "    <tr>\n",
       "      <th>66306</th>\n",
       "      <td>9201877555188080974</td>\n",
       "      <td>魅族</td>\n",
       "      <td>MX2</td>\n",
       "      <td>Meizu</td>\n",
       "      <td>MX2</td>\n",
       "    </tr>\n",
       "    <tr>\n",
       "      <th>5491</th>\n",
       "      <td>7974194754286210532</td>\n",
       "      <td>vivo</td>\n",
       "      <td>Xperia Z2</td>\n",
       "      <td>vivo</td>\n",
       "      <td>Xperia Z2</td>\n",
       "    </tr>\n",
       "    <tr>\n",
       "      <th>22679</th>\n",
       "      <td>4482933058940911151</td>\n",
       "      <td>优米</td>\n",
       "      <td>3</td>\n",
       "      <td>Quality rice</td>\n",
       "      <td>3</td>\n",
       "    </tr>\n",
       "    <tr>\n",
       "      <th>43988</th>\n",
       "      <td>4282383384406195935</td>\n",
       "      <td>华为</td>\n",
       "      <td>U9508</td>\n",
       "      <td>Huawei</td>\n",
       "      <td>U9508</td>\n",
       "    </tr>\n",
       "    <tr>\n",
       "      <th>68228</th>\n",
       "      <td>-1963704297503159256</td>\n",
       "      <td>华为</td>\n",
       "      <td>荣耀6</td>\n",
       "      <td>Huawei</td>\n",
       "      <td>glory 6</td>\n",
       "    </tr>\n",
       "    <tr>\n",
       "      <th>82670</th>\n",
       "      <td>-5268078409631063938</td>\n",
       "      <td>vivo</td>\n",
       "      <td>Y18L</td>\n",
       "      <td>vivo</td>\n",
       "      <td>Y18L</td>\n",
       "    </tr>\n",
       "    <tr>\n",
       "      <th>3667</th>\n",
       "      <td>-8894865191742192101</td>\n",
       "      <td>华为</td>\n",
       "      <td>G730-U00</td>\n",
       "      <td>Huawei</td>\n",
       "      <td>G730-U00</td>\n",
       "    </tr>\n",
       "    <tr>\n",
       "      <th>45160</th>\n",
       "      <td>5173163827820296998</td>\n",
       "      <td>OPPO</td>\n",
       "      <td>Find 5</td>\n",
       "      <td>OPPO</td>\n",
       "      <td>Find 5</td>\n",
       "    </tr>\n",
       "    <tr>\n",
       "      <th>20098</th>\n",
       "      <td>-6047730739315584890</td>\n",
       "      <td>小米</td>\n",
       "      <td>小米note</td>\n",
       "      <td>Millet</td>\n",
       "      <td>Xiaomi note</td>\n",
       "    </tr>\n",
       "    <tr>\n",
       "      <th>42549</th>\n",
       "      <td>-7741601049543882438</td>\n",
       "      <td>小米</td>\n",
       "      <td>MI 2</td>\n",
       "      <td>Millet</td>\n",
       "      <td>MY 2</td>\n",
       "    </tr>\n",
       "    <tr>\n",
       "      <th>6508</th>\n",
       "      <td>8808665901626509605</td>\n",
       "      <td>三星</td>\n",
       "      <td>A680</td>\n",
       "      <td>Samsung</td>\n",
       "      <td>A680</td>\n",
       "    </tr>\n",
       "    <tr>\n",
       "      <th>28080</th>\n",
       "      <td>-3566529799114039885</td>\n",
       "      <td>小米</td>\n",
       "      <td>MI 3</td>\n",
       "      <td>Millet</td>\n",
       "      <td>MI 3</td>\n",
       "    </tr>\n",
       "    <tr>\n",
       "      <th>3247</th>\n",
       "      <td>7539622560417160197</td>\n",
       "      <td>小米</td>\n",
       "      <td>MI 2S</td>\n",
       "      <td>Millet</td>\n",
       "      <td>MI 2S</td>\n",
       "    </tr>\n",
       "    <tr>\n",
       "      <th>1790</th>\n",
       "      <td>-2557222573414789587</td>\n",
       "      <td>vivo</td>\n",
       "      <td>Y11</td>\n",
       "      <td>vivo</td>\n",
       "      <td>Y11</td>\n",
       "    </tr>\n",
       "    <tr>\n",
       "      <th>58369</th>\n",
       "      <td>6625534132716192675</td>\n",
       "      <td>小米</td>\n",
       "      <td>MI 4</td>\n",
       "      <td>Millet</td>\n",
       "      <td>MI 4</td>\n",
       "    </tr>\n",
       "    <tr>\n",
       "      <th>33513</th>\n",
       "      <td>3897818784339861563</td>\n",
       "      <td>三星</td>\n",
       "      <td>S720</td>\n",
       "      <td>Samsung</td>\n",
       "      <td>S720</td>\n",
       "    </tr>\n",
       "    <tr>\n",
       "      <th>33944</th>\n",
       "      <td>-5333718300288103673</td>\n",
       "      <td>华为</td>\n",
       "      <td>畅享5</td>\n",
       "      <td>Huawei</td>\n",
       "      <td>Enjoy 5</td>\n",
       "    </tr>\n",
       "    <tr>\n",
       "      <th>6337</th>\n",
       "      <td>8306314790118325867</td>\n",
       "      <td>魅族</td>\n",
       "      <td>魅蓝NOTE</td>\n",
       "      <td>Meizu</td>\n",
       "      <td>Charm Blue NOTE</td>\n",
       "    </tr>\n",
       "    <tr>\n",
       "      <th>23245</th>\n",
       "      <td>-5934102302987391495</td>\n",
       "      <td>小米</td>\n",
       "      <td>note顶配版</td>\n",
       "      <td>Millet</td>\n",
       "      <td>note top version</td>\n",
       "    </tr>\n",
       "    <tr>\n",
       "      <th>70124</th>\n",
       "      <td>8968291633779307245</td>\n",
       "      <td>华为</td>\n",
       "      <td>C8816</td>\n",
       "      <td>Huawei</td>\n",
       "      <td>C8816</td>\n",
       "    </tr>\n",
       "    <tr>\n",
       "      <th>14192</th>\n",
       "      <td>-8456383220607565532</td>\n",
       "      <td>vivo</td>\n",
       "      <td>Y11</td>\n",
       "      <td>vivo</td>\n",
       "      <td>Y11</td>\n",
       "    </tr>\n",
       "    <tr>\n",
       "      <th>24975</th>\n",
       "      <td>-3974253394357001502</td>\n",
       "      <td>vivo</td>\n",
       "      <td>X5V</td>\n",
       "      <td>vivo</td>\n",
       "      <td>X5V</td>\n",
       "    </tr>\n",
       "    <tr>\n",
       "      <th>76832</th>\n",
       "      <td>8772308939581856462</td>\n",
       "      <td>小米</td>\n",
       "      <td>红米1S</td>\n",
       "      <td>Millet</td>\n",
       "      <td>Redmi 1S</td>\n",
       "    </tr>\n",
       "    <tr>\n",
       "      <th>42314</th>\n",
       "      <td>7260963115474470889</td>\n",
       "      <td>小米</td>\n",
       "      <td>MI 4</td>\n",
       "      <td>Millet</td>\n",
       "      <td>MI 4</td>\n",
       "    </tr>\n",
       "    <tr>\n",
       "      <th>24970</th>\n",
       "      <td>3198277503516348555</td>\n",
       "      <td>vivo</td>\n",
       "      <td>Y29L</td>\n",
       "      <td>vivo</td>\n",
       "      <td>Y29L</td>\n",
       "    </tr>\n",
       "    <tr>\n",
       "      <th>43490</th>\n",
       "      <td>-9052273118377712132</td>\n",
       "      <td>vivo</td>\n",
       "      <td>X5V</td>\n",
       "      <td>vivo</td>\n",
       "      <td>X5V</td>\n",
       "    </tr>\n",
       "    <tr>\n",
       "      <th>61906</th>\n",
       "      <td>-1306190845829954137</td>\n",
       "      <td>小米</td>\n",
       "      <td>MI 2S</td>\n",
       "      <td>Millet</td>\n",
       "      <td>MI 2S</td>\n",
       "    </tr>\n",
       "    <tr>\n",
       "      <th>34585</th>\n",
       "      <td>-1665198983206396063</td>\n",
       "      <td>中国移动</td>\n",
       "      <td>A1</td>\n",
       "      <td>China Mobile</td>\n",
       "      <td>A1</td>\n",
       "    </tr>\n",
       "    <tr>\n",
       "      <th>6801</th>\n",
       "      <td>-7174138601920483419</td>\n",
       "      <td>OPPO</td>\n",
       "      <td>Find 7</td>\n",
       "      <td>OPPO</td>\n",
       "      <td>Find 7</td>\n",
       "    </tr>\n",
       "    <tr>\n",
       "      <th>10794</th>\n",
       "      <td>6033680193692248783</td>\n",
       "      <td>三星</td>\n",
       "      <td>Galaxy Mega 5.8</td>\n",
       "      <td>Samsung</td>\n",
       "      <td>Galaxy Mega 5.8</td>\n",
       "    </tr>\n",
       "    <tr>\n",
       "      <th>60030</th>\n",
       "      <td>-8270585312108800369</td>\n",
       "      <td>OPPO</td>\n",
       "      <td>U707T</td>\n",
       "      <td>OPPO</td>\n",
       "      <td>U707T</td>\n",
       "    </tr>\n",
       "    <tr>\n",
       "      <th>54909</th>\n",
       "      <td>-2093837789024133882</td>\n",
       "      <td>酷派</td>\n",
       "      <td>5951</td>\n",
       "      <td>Coolpad</td>\n",
       "      <td>5951</td>\n",
       "    </tr>\n",
       "    <tr>\n",
       "      <th>67016</th>\n",
       "      <td>-4948700695416764904</td>\n",
       "      <td>华为</td>\n",
       "      <td>荣耀6</td>\n",
       "      <td>Huawei</td>\n",
       "      <td>glory 6</td>\n",
       "    </tr>\n",
       "  </tbody>\n",
       "</table>\n",
       "</div>"
      ],
      "text/plain": [
       "                 device_id phone_brand      device_model phone_brand_english  \\\n",
       "83348 -7380985688339665321        OPPO                R7                OPPO   \n",
       "35270 -4430512930955635482        OPPO                R3                OPPO   \n",
       "25734 -5982967595586418177        OPPO               R7s                OPPO   \n",
       "24864  3142900489616262411          三星         Galaxy S3             Samsung   \n",
       "39991 -7882194990300403876          三星              A706             Samsung   \n",
       "33900  2230297753481777286          华为               麦芒4              Huawei   \n",
       "51851   781766986623897798          三星     Galaxy Note 3             Samsung   \n",
       "4307   1432696080228104890          华为               荣耀6              Huawei   \n",
       "66138 -6473953397060512883          华为               荣耀7              Huawei   \n",
       "2258   5204107506477681175        OPPO               R7s                OPPO   \n",
       "32589  -598459332255853682        OPPO               R1S                OPPO   \n",
       "58070  3336854350722649201          小米             MI 2S              Millet   \n",
       "25385   256769332518590170          魅族           MX4 Pro               Meizu   \n",
       "26413     1508406165599554        OPPO               A31                OPPO   \n",
       "82073  -338820587238028066          三星             A828t             Samsung   \n",
       "81536  7066569107882543814          三星            黄金斗士A8             Samsung   \n",
       "3299   -244484346519229439          小米              MI 3              Millet   \n",
       "11140 -1233500697969519226         联想               795+              Lenovo   \n",
       "59742   483587936781867553          小米              MI 3              Millet   \n",
       "63171  4210575672361953638          优米                R1        Quality rice   \n",
       "36438  6782501727278611547          华为            Mate 7              Huawei   \n",
       "74866  1908781024906280951          酷派      ivvi K1 mini             Coolpad   \n",
       "37763  2855490627196675509          小米              MI 3              Millet   \n",
       "71904 -8530230221102708270          华为             C8816              Huawei   \n",
       "62317  1347034685427000187          小米             MI 2S              Millet   \n",
       "25172  1354272879403506961          华为         G660-L075              Huawei   \n",
       "37586  6912754550357329998          小米              MI 3              Millet   \n",
       "65214  4130680186570953979          三星         Galaxy A7             Samsung   \n",
       "85834 -6127457801516503028          小米              MI 3              Millet   \n",
       "375   -4582547448510593251        vivo              Y927                vivo   \n",
       "45766 -3610464632847765591          魅族          魅蓝Note 2               Meizu   \n",
       "60019  3073323971111592638        vivo    Xperia Z Ultra                vivo   \n",
       "75179  5032465157658381486          华为              荣耀3C              Huawei   \n",
       "50850  3842365041641156224          小米              MI 4              Millet   \n",
       "73824 -2530248553402222456          华为            荣耀畅玩4C              Huawei   \n",
       "5934   6538916486621671248          海信             E912S             Hisense   \n",
       "63159 -6958356691849985364          华为            Mate 7              Huawei   \n",
       "24626  -300173608317622803          三星     Galaxy Note 5             Samsung   \n",
       "2014  -3063111327526146042          三星         Galaxy S2             Samsung   \n",
       "58265  3990080222049113748          小米             MI 2S              Millet   \n",
       "55299 -6150687128371895967          小米            小米note              Millet   \n",
       "12618 -6918815111627913860          小米             MI 2S              Millet   \n",
       "42222  1226972943479945820          小米            红米note              Millet   \n",
       "74743  4485932643328156287          小米            小米note              Millet   \n",
       "55057  8610758538049410932        OPPO               R1S                OPPO   \n",
       "60754 -8823498076354311633        vivo           Xplay3S                vivo   \n",
       "81729 -5346258035533030239          酷派              大神F1             Coolpad   \n",
       "56805 -5310180729362256046          酷派             锋尚Max             Coolpad   \n",
       "39014 -7100837497161627311        中国移动              M811        China Mobile   \n",
       "25288 -2588380923430125366          小米           红米Note2              Millet   \n",
       "60474  8868921230873035752          三星             A320t             Samsung   \n",
       "18119 -5627256746810319673          LG         Optimus G                  LG   \n",
       "18215 -2551350935451878203          小米              MI 4              Millet   \n",
       "15109 -7684046788686847573          酷派              大神F1             Coolpad   \n",
       "45098 -6546708599724520930          小米               红米2              Millet   \n",
       "34727  7858517238621876023          华为            Mate 7              Huawei   \n",
       "2733  -8492094872272209975          小米                M5              Millet   \n",
       "16903  4336246850406067719          三星         Galaxy S2             Samsung   \n",
       "14987  6612078330302817839        vivo              Y17T                vivo   \n",
       "38260 -6761834577760168710          三星         Galaxy S5             Samsung   \n",
       "49023  6774071338248978547          魅族               MX4               Meizu   \n",
       "4101  -3585407850419385638          三星     Galaxy Note 2             Samsung   \n",
       "35840 -6525558548660410209          三星  Galaxy Core Mini             Samsung   \n",
       "61091  2517509852314396080        OPPO            Find 7                OPPO   \n",
       "30035  4523973158965511063        vivo          Xperia S                vivo   \n",
       "54534  5390258739069879938        vivo             Y11IT                vivo   \n",
       "12095  2464581711250694085          三星         Galaxy S6             Samsung   \n",
       "66306  9201877555188080974          魅族               MX2               Meizu   \n",
       "5491   7974194754286210532        vivo         Xperia Z2                vivo   \n",
       "22679  4482933058940911151          优米                 3        Quality rice   \n",
       "43988  4282383384406195935          华为             U9508              Huawei   \n",
       "68228 -1963704297503159256          华为               荣耀6              Huawei   \n",
       "82670 -5268078409631063938        vivo              Y18L                vivo   \n",
       "3667  -8894865191742192101          华为          G730-U00              Huawei   \n",
       "45160  5173163827820296998        OPPO            Find 5                OPPO   \n",
       "20098 -6047730739315584890          小米            小米note              Millet   \n",
       "42549 -7741601049543882438          小米              MI 2              Millet   \n",
       "6508   8808665901626509605          三星              A680             Samsung   \n",
       "28080 -3566529799114039885          小米              MI 3              Millet   \n",
       "3247   7539622560417160197          小米             MI 2S              Millet   \n",
       "1790  -2557222573414789587        vivo               Y11                vivo   \n",
       "58369  6625534132716192675          小米              MI 4              Millet   \n",
       "33513  3897818784339861563          三星              S720             Samsung   \n",
       "33944 -5333718300288103673          华为               畅享5              Huawei   \n",
       "6337   8306314790118325867          魅族            魅蓝NOTE               Meizu   \n",
       "23245 -5934102302987391495          小米           note顶配版              Millet   \n",
       "70124  8968291633779307245          华为             C8816              Huawei   \n",
       "14192 -8456383220607565532        vivo               Y11                vivo   \n",
       "24975 -3974253394357001502        vivo               X5V                vivo   \n",
       "76832  8772308939581856462          小米              红米1S              Millet   \n",
       "42314  7260963115474470889          小米              MI 4              Millet   \n",
       "24970  3198277503516348555        vivo              Y29L                vivo   \n",
       "43490 -9052273118377712132        vivo               X5V                vivo   \n",
       "61906 -1306190845829954137          小米             MI 2S              Millet   \n",
       "34585 -1665198983206396063        中国移动                A1        China Mobile   \n",
       "6801  -7174138601920483419        OPPO            Find 7                OPPO   \n",
       "10794  6033680193692248783          三星   Galaxy Mega 5.8             Samsung   \n",
       "60030 -8270585312108800369        OPPO             U707T                OPPO   \n",
       "54909 -2093837789024133882          酷派              5951             Coolpad   \n",
       "67016 -4948700695416764904          华为               荣耀6              Huawei   \n",
       "\n",
       "      device_model_english  \n",
       "83348                   R7  \n",
       "35270                   R3  \n",
       "25734                  R7s  \n",
       "24864            Galaxy S3  \n",
       "39991                 A706  \n",
       "33900            Maimang 4  \n",
       "51851        Galaxy Note 3  \n",
       "4307               glory 6  \n",
       "66138              glory 7  \n",
       "2258                   R7s  \n",
       "32589                  R1S  \n",
       "58070                MI 2S  \n",
       "25385              MX4 Pro  \n",
       "26413                  A31  \n",
       "82073                A828t  \n",
       "81536      Gold Fighter A8  \n",
       "3299                  MI 3  \n",
       "11140                 795+  \n",
       "59742                 MI 3  \n",
       "63171                   R1  \n",
       "36438               Mate 7  \n",
       "74866         ivvi K1 mini  \n",
       "37763                 MI 3  \n",
       "71904                C8816  \n",
       "62317                MI 2S  \n",
       "25172            G660-L075  \n",
       "37586                 MI 3  \n",
       "65214            Galaxy A7  \n",
       "85834                 MI 3  \n",
       "375                   Y927  \n",
       "45766         Meizu Note 2  \n",
       "60019       Xperia Z Ultra  \n",
       "75179             Honor 3C  \n",
       "50850                 MI 4  \n",
       "73824        Honor Play 4C  \n",
       "5934                 E912S  \n",
       "63159               Mate 7  \n",
       "24626        Galaxy Note 5  \n",
       "2014             Galaxy S2  \n",
       "58265                MI 2S  \n",
       "55299          Xiaomi note  \n",
       "12618                MI 2S  \n",
       "42222           redmi note  \n",
       "74743          Xiaomi note  \n",
       "55057                  R1S  \n",
       "60754              Xplay3S  \n",
       "81729             Okami F1  \n",
       "56805        Fengshang Max  \n",
       "39014                 M811  \n",
       "25288          redmi note2  \n",
       "60474                A320t  \n",
       "18119            Optimus G  \n",
       "18215                 MI 4  \n",
       "15109             Okami F1  \n",
       "45098           red rice 2  \n",
       "34727               Mate 7  \n",
       "2733                    M5  \n",
       "16903            Galaxy S2  \n",
       "14987                 Y17T  \n",
       "38260            Galaxy S5  \n",
       "49023                  MX4  \n",
       "4101         Galaxy Note 2  \n",
       "35840     Galaxy Core Mini  \n",
       "61091               Find 7  \n",
       "30035             Xperia S  \n",
       "54534                Y11IT  \n",
       "12095            Galaxy S6  \n",
       "66306                  MX2  \n",
       "5491             Xperia Z2  \n",
       "22679                    3  \n",
       "43988                U9508  \n",
       "68228              glory 6  \n",
       "82670                 Y18L  \n",
       "3667              G730-U00  \n",
       "45160               Find 5  \n",
       "20098          Xiaomi note  \n",
       "42549                 MY 2  \n",
       "6508                  A680  \n",
       "28080                 MI 3  \n",
       "3247                 MI 2S  \n",
       "1790                   Y11  \n",
       "58369                 MI 4  \n",
       "33513                 S720  \n",
       "33944              Enjoy 5  \n",
       "6337       Charm Blue NOTE  \n",
       "23245     note top version  \n",
       "70124                C8816  \n",
       "14192                  Y11  \n",
       "24975                  X5V  \n",
       "76832             Redmi 1S  \n",
       "42314                 MI 4  \n",
       "24970                 Y29L  \n",
       "43490                  X5V  \n",
       "61906                MI 2S  \n",
       "34585                   A1  \n",
       "6801                Find 7  \n",
       "10794      Galaxy Mega 5.8  \n",
       "60030                U707T  \n",
       "54909                 5951  \n",
       "67016              glory 6  "
      ]
     },
     "execution_count": 55,
     "metadata": {},
     "output_type": "execute_result"
    }
   ],
   "source": [
    "df_brand_model.sample(100)"
   ]
  },
  {
   "cell_type": "markdown",
   "metadata": {},
   "source": [
    "<a name = Section5></a>\n",
    "\n",
    "---\n",
    "# **5. Data Pre-Processing**\n",
    "---"
   ]
  },
  {
   "cell_type": "markdown",
   "metadata": {},
   "source": [
    "<a name = Section51></a>\n",
    "### **5.1 Filtering the events dataset by states (WestBengal, Karnataka, Bihar, Punjab,Gujarat, Kerala)**\n"
   ]
  },
  {
   "cell_type": "markdown",
   "metadata": {},
   "source": [
    "- For consulting, team is to focus on 6 states: WestBengal, Karnataka, Bihar, Punjab,Gujarat and Kerala.\n",
    "- We observed that Events dataset has 377 missing values in 'state' column.\n",
    "- So, first we have to handle these missing values before we filter the dataset by states."
   ]
  },
  {
   "cell_type": "code",
   "execution_count": null,
   "metadata": {},
   "outputs": [],
   "source": [
    "df_events_data[df_events_data['state'].isnull()].sample(5)"
   ]
  },
  {
   "cell_type": "markdown",
   "metadata": {},
   "source": [
    "- **Handling the missing value in 'state' column for WestBengal, Karnataka, Bihar, Punjab,Gujarat, Kerala**"
   ]
  },
  {
   "cell_type": "code",
   "execution_count": null,
   "metadata": {},
   "outputs": [],
   "source": [
    "# finding the unique states\n",
    "df_events_data['state'].unique()"
   ]
  },
  {
   "cell_type": "code",
   "execution_count": null,
   "metadata": {},
   "outputs": [],
   "source": [
    "#finding out the cities for the missing state so that we can fill the missing states from the corresponding city.\n",
    "(df_events_data['city'][df_events_data['state'].isnull()]).unique()"
   ]
  },
  {
   "cell_type": "markdown",
   "metadata": {},
   "source": [
    " - We will fill the missing states for these 3 cities:\n",
    " - Channapatna -> Karnataka\n",
    " - Gangarampur -> WestBengal\n",
    " - Arambagh -> WestBengal"
   ]
  },
  {
   "cell_type": "markdown",
   "metadata": {},
   "source": [
    "- **Filling the missing values for the states**"
   ]
  },
  {
   "cell_type": "code",
   "execution_count": null,
   "metadata": {},
   "outputs": [],
   "source": [
    "#Replacing the nan values in state with Karnataka where city is Channapatna\n",
    "df_events_data.loc[(df_events_data['city'] == 'Channapatna') & (df_events_data['state'].isnull()), 'state'] = 'Karnataka'"
   ]
  },
  {
   "cell_type": "code",
   "execution_count": null,
   "metadata": {},
   "outputs": [],
   "source": [
    "#Replacing the nan values in state with WestBengal where city is Gangarampur\n",
    "df_events_data.loc[(df_events_data['city'] == 'Gangarampur') & (df_events_data['state'].isnull()), 'state'] = 'WestBengal'"
   ]
  },
  {
   "cell_type": "code",
   "execution_count": null,
   "metadata": {},
   "outputs": [],
   "source": [
    "#Replacing the nan values in state with WestBengal where city is Arambagh\n",
    "df_events_data.loc[(df_events_data['city'] == 'Arambagh') & (df_events_data['state'].isnull()), 'state'] = 'WestBengal'"
   ]
  },
  {
   "cell_type": "code",
   "execution_count": null,
   "metadata": {},
   "outputs": [],
   "source": [
    "#Re-checking if events dataset contains any missing states for WestBengal, Karnataka, Bihar, Punjab,Gujarat and Kerala \n",
    "#by checking the list of cities for the missing states.\n",
    "(df_events_data['city'][df_events_data['state'].isnull()]).unique()"
   ]
  },
  {
   "cell_type": "code",
   "execution_count": null,
   "metadata": {},
   "outputs": [],
   "source": [
    "df_events_data['state'].isnull().sum()"
   ]
  },
  {
   "cell_type": "markdown",
   "metadata": {},
   "source": [
    "- Only 56 missing states belonged to WestBengal, Karnataka, Bihar, Punjab,Gujarat, Kerala"
   ]
  },
  {
   "cell_type": "markdown",
   "metadata": {},
   "source": [
    "- **Filtering the events database by states (WestBengal, Karnataka, Bihar, Punjab,Gujarat, Kerala)**"
   ]
  },
  {
   "cell_type": "code",
   "execution_count": null,
   "metadata": {},
   "outputs": [],
   "source": [
    "df_events_data_filtered = df_events_data[df_events_data['state'].isin(['WestBengal', 'Karnataka', 'Bihar', 'Punjab','Gujarat', 'Kerala'])]"
   ]
  },
  {
   "cell_type": "code",
   "execution_count": null,
   "metadata": {},
   "outputs": [],
   "source": [
    "df_events_data_filtered.head()"
   ]
  },
  {
   "cell_type": "code",
   "execution_count": null,
   "metadata": {},
   "outputs": [],
   "source": [
    "df_events_data_filtered.info()"
   ]
  },
  {
   "cell_type": "code",
   "execution_count": null,
   "metadata": {},
   "outputs": [],
   "source": [
    "#checking null values in the filtered dataset\n",
    "df_events_data_filtered.isnull().sum()"
   ]
  },
  {
   "cell_type": "markdown",
   "metadata": {},
   "source": [
    "**Observations for the filtered event dataset:**\n",
    "- There are __422971 records and 7 features__ in the filtered events dataset.\n",
    "- __event_id, timestamp, city and state__ columns have __no missing values.__\n",
    "- __device_id__ has __48 missing values__\n",
    "- __longitude and latitude__ have __42missing values.__\n",
    "- __Data types__ for all the columns are correct."
   ]
  },
  {
   "cell_type": "markdown",
   "metadata": {},
   "source": [
    "<a name = Section52></a>\n",
    "### **5.2 Merging the filtered events dataset with gender_age and brand_model datasets**\n",
    "\n",
    "- Here, we will map all the records of **_events_** dataset with **_gender_age_** and **_brand_model_** datasets to get the demographic details and the brand model details of the users.\n",
    "- We will create a new merged dataframe which will be used for further analysis.\n",
    "- Merging of the datasets will happen on the common column _device id_.\n",
    "- So, first we need to fill in the missing values for the _device id_ in the filtered events dataset."
   ]
  },
  {
   "cell_type": "markdown",
   "metadata": {},
   "source": [
    "- **Handling missing device_ids in the filtered dataset**"
   ]
  },
  {
   "cell_type": "code",
   "execution_count": null,
   "metadata": {},
   "outputs": [],
   "source": [
    "df_events_data_filtered[df_events_data_filtered['device_id'].isnull()].groupby(['longitude', 'latitude','city','state']).count() #sort_values(['state','city'])"
   ]
  },
  {
   "cell_type": "markdown",
   "metadata": {},
   "source": [
    "- We see that there are 3 device_ids whose values are missing:\n",
    "- They can be mapped as:\n",
    "  - 1st device id where longitude = 73.16934, latitude = 21.19428, city= Bardoli , state=Gujarat\n",
    "  - 2nd device id where longitude = 70.68639, latitude = 21.79069, city= Jetpur, state=Gujarat\n",
    "  - 3rd device id where longitude = 75.99255, latitude = 31.56175, city= Hoshiarpur, state=Punjab"
   ]
  },
  {
   "cell_type": "code",
   "execution_count": null,
   "metadata": {},
   "outputs": [],
   "source": [
    "# get the 1st device id\n",
    "df_events_data_filtered[(df_events_data_filtered['longitude'] == 73.16934) & (df_events_data_filtered['latitude'] == 21.19428)]"
   ]
  },
  {
   "cell_type": "code",
   "execution_count": null,
   "metadata": {},
   "outputs": [],
   "source": [
    "# get the 1st device id where longitude = 73.16934, latitude = 21.19428, city= Bardoli , state=Gujarat\n",
    "df_events_data_filtered[(df_events_data_filtered['city'] == 'Bardoli') & (df_events_data_filtered['state'] == 'Gujarat')].groupby(['device_id','longitude', 'latitude','city','state']).count()"
   ]
  },
  {
   "cell_type": "markdown",
   "metadata": {},
   "source": [
    "- 1st device id is -8215770519233685504 where longitude = 73.16934, latitude = 21.19428, city= Bardoli , state=Gujarat"
   ]
  },
  {
   "cell_type": "code",
   "execution_count": null,
   "metadata": {},
   "outputs": [],
   "source": [
    "# get the 2nd device id where longitude = 70.68639, latitude = 21.79069, city= Jetpur, state=Gujarat\n",
    "df_events_data_filtered[(df_events_data_filtered['city'] == 'Jetpur') & (df_events_data_filtered['state'] == 'Gujarat')].groupby(['device_id','longitude', 'latitude','city','state']).count()"
   ]
  },
  {
   "cell_type": "markdown",
   "metadata": {},
   "source": [
    " - 2nd device id is -1688015122502424064 where longitude = 70.68639, latitude = 21.79069, city= Jetpur, state=Gujarat"
   ]
  },
  {
   "cell_type": "code",
   "execution_count": null,
   "metadata": {},
   "outputs": [],
   "source": [
    "df_events_data_filtered[(df_events_data_filtered['city'] == 'Hoshiarpur') & (df_events_data_filtered['state'] == 'Punjab')].groupby(['device_id','longitude', 'latitude','city','state']).count()"
   ]
  },
  {
   "cell_type": "markdown",
   "metadata": {},
   "source": [
    "- 3rd device id is 1750778632182066944 where longitude = 75.99255, latitude = 31.56175, city= Hoshiarpur, state=Punjab"
   ]
  },
  {
   "cell_type": "markdown",
   "metadata": {},
   "source": [
    "- **Filling the missing values for device ids**"
   ]
  },
  {
   "cell_type": "code",
   "execution_count": null,
   "metadata": {},
   "outputs": [],
   "source": [
    "#Replacing the missing device id for 1st missing device\n",
    "df_events_data_filtered.loc[((df_events_data_filtered['city'] == 'Bardoli') & (df_events_data_filtered['state'] == 'Gujarat')) & (df_events_data['device_id'].isnull()), 'device_id'] = -8215770519233685504"
   ]
  },
  {
   "cell_type": "code",
   "execution_count": null,
   "metadata": {},
   "outputs": [],
   "source": [
    "#Replacing the missing device id for 2nd missing device\n",
    "df_events_data_filtered.loc[((df_events_data_filtered['city'] == 'Jetpur') & (df_events_data_filtered['state'] == 'Gujarat')) & (df_events_data['device_id'].isnull()), 'device_id'] = -1688015122502424064"
   ]
  },
  {
   "cell_type": "code",
   "execution_count": null,
   "metadata": {},
   "outputs": [],
   "source": [
    "#Replacing the missing device id for 3rd missing device\n",
    "df_events_data_filtered.loc[((df_events_data_filtered['city'] == 'Hoshiarpur') & (df_events_data_filtered['state'] == 'Punjab')) & (df_events_data['device_id'].isnull()), 'device_id'] = 1750778632182066944"
   ]
  },
  {
   "cell_type": "code",
   "execution_count": null,
   "metadata": {},
   "outputs": [],
   "source": [
    "df_events_data_filtered.isnull().sum()"
   ]
  },
  {
   "cell_type": "code",
   "execution_count": null,
   "metadata": {},
   "outputs": [],
   "source": [
    "df_events_data_filtered.info()"
   ]
  },
  {
   "cell_type": "markdown",
   "metadata": {},
   "source": [
    "- **1st Merging the filtered event dataset with gender_age dataset on** _device_id_\n",
    "   - First, we need to convert the data type of __device_id__ in gender_age dataset to __float__"
   ]
  },
  {
   "cell_type": "code",
   "execution_count": null,
   "metadata": {},
   "outputs": [],
   "source": [
    "df_gender_age['device_id'] = df_gender_age['device_id'].astype(df_events_data_filtered['device_id'].dtype)"
   ]
  },
  {
   "cell_type": "code",
   "execution_count": null,
   "metadata": {},
   "outputs": [],
   "source": [
    "df_gender_age.info()"
   ]
  },
  {
   "cell_type": "markdown",
   "metadata": {},
   "source": [
    "- **Merging the two datasets**"
   ]
  },
  {
   "cell_type": "code",
   "execution_count": null,
   "metadata": {},
   "outputs": [],
   "source": [
    "df_events_gender = pd.merge(df_events_data_filtered, df_gender_age, on='device_id', how='left')\n",
    "df_events_gender.info()"
   ]
  },
  {
   "cell_type": "code",
   "execution_count": null,
   "metadata": {},
   "outputs": [],
   "source": [
    "df_events_gender.isnull().sum()"
   ]
  },
  {
   "cell_type": "code",
   "execution_count": null,
   "metadata": {},
   "outputs": [],
   "source": [
    "df_events_gender.head()"
   ]
  },
  {
   "cell_type": "code",
   "execution_count": null,
   "metadata": {},
   "outputs": [],
   "source": [
    "df_events_gender['device_id'].nunique()"
   ]
  },
  {
   "cell_type": "markdown",
   "metadata": {},
   "source": [
    "- **2nd Merging the event_gender dataset with brand_model dataset on** _device_id_.\n",
    "   - First, we need to convert the data type of __device_id__ in brand_model dataset to __float__"
   ]
  },
  {
   "cell_type": "code",
   "execution_count": null,
   "metadata": {},
   "outputs": [],
   "source": [
    "df_brand_model['device_id'] = df_brand_model['device_id'].astype(df_events_gender['device_id'].dtype)"
   ]
  },
  {
   "cell_type": "code",
   "execution_count": null,
   "metadata": {},
   "outputs": [],
   "source": [
    "df_brand_model.info()"
   ]
  },
  {
   "cell_type": "markdown",
   "metadata": {},
   "source": [
    "- **Merging the two datasets to get final merged dataset**"
   ]
  },
  {
   "cell_type": "code",
   "execution_count": null,
   "metadata": {},
   "outputs": [],
   "source": [
    "df_final_merged = pd.merge(df_events_gender, df_brand_model, on='device_id', how='left')\n",
    "df_final_merged.head()"
   ]
  },
  {
   "cell_type": "code",
   "execution_count": null,
   "metadata": {},
   "outputs": [],
   "source": [
    "df_final_merged.info()"
   ]
  },
  {
   "cell_type": "code",
   "execution_count": null,
   "metadata": {},
   "outputs": [],
   "source": [
    "df_final_merged.isnull().sum()"
   ]
  },
  {
   "cell_type": "markdown",
   "metadata": {},
   "source": [
    "**Observations of the final merged dataset:**\n",
    "- There are __422971 records and 12 features.__\n",
    "- __longitude and latitude__ columns have 42 missing values each. There are __84 missing cells.__\n",
    "- __Timestamp is object__ type needs to be converted __to datetime.__\n",
    "- Data types for all other columns are correct.\n",
    "- There are __6 categorical columns, 5 numerical columns and a timestamp.__"
   ]
  },
  {
   "cell_type": "code",
   "execution_count": null,
   "metadata": {},
   "outputs": [],
   "source": [
    "df_final_merged.describe()"
   ]
  },
  {
   "cell_type": "code",
   "execution_count": null,
   "metadata": {},
   "outputs": [],
   "source": [
    "df_final_merged.describe(include=['object'])"
   ]
  },
  {
   "cell_type": "markdown",
   "metadata": {},
   "source": [
    "**Observations:**\n",
    "- __event id is unique as expected.__\n",
    "- __device id has 19032 distinct values__ and no missing or zero values present.\n",
    "- __Age: Minimum age is 11 and maximum age is 88.__ \n",
    "- __Age distribution is right skewed__ since the mean is to the right of median.\n",
    "- __50 % of the users are between the age 25-36 years. 75% of the users are less than 36 years of age.__ \n",
    "- From 75% (36 yrs) to max age (88) the distribution is widely spread out. There seems to be outliers here.\n",
    "- __Timestamp is highly cardinal as expected.__\n",
    "- __City__ has 311 unique values and __Calcutta__ tops the list in network usauge.\n",
    "- __State__ has 6 unique values and __West Bengal__ tops the list.\n",
    "- __There are 2 gender types. Male users are more than Female users, approximately 64:36 ratio respectively.__\n",
    "- There are __12 age groups__. Most of the users are Males in age group of 32-38 years.\n",
    "- There are __91 phone brands__ used in these 6 states and __小米 (Xiaomi)__ is the highly used phone brand.\n",
    "- There are __1092 device models__ used in these 6 states and __红米note (Redmi Note)__ is the highly used phone model."
   ]
  },
  {
   "cell_type": "markdown",
   "metadata": {},
   "source": [
    "<a name = Section53></a>\n",
    "### **5.3 Pre-Profiling Report**\n",
    "\n",
    "- For **quick analysis** pandas profiling is very handy.\n",
    "\n",
    "- Generates profile reports from a pandas DataFrame.\n",
    "\n",
    "- For each column **statistics** are presented in an interactive HTML report."
   ]
  },
  {
   "cell_type": "code",
   "execution_count": null,
   "metadata": {},
   "outputs": [],
   "source": [
    "profile = ProfileReport(df = df_final_merged)\n",
    "profile.to_file(output_file = 'CDF Capstone Pre Profiling Report.html')\n",
    "print('Accomplished!')"
   ]
  },
  {
   "cell_type": "markdown",
   "metadata": {},
   "source": [
    "__Observations from Pandas Profiling before Data Processing__<br><br>\n",
    "__Dataset info__:\n",
    "- Number of variables: 12\n",
    "- Number of observations: 422971\n",
    "- Missing cells: 84\n",
    "- No duplicate rows:0\n",
    "\n",
    "__Variables types__: \n",
    "- Numeric = 5\n",
    "- Categorical = 7\n",
    "\n",
    "\n",
    "<br>  \n",
    "\n",
    "- event id is unique as expected.\n",
    "- device id has 19032 distinct values (4.5%) and no missing or zero values present.\n",
    "- Timestamp is highly cardinal and uniform. It has 68.6% distinct values.\n",
    "- longitude and latitude have 42 missing values each which is < 0.1%\n",
    "- City has 311 distinct values. Calcutta with highest frequency 28.9% followwed by Bangalore 11.8%. Rest other cities are <0.5%\n",
    "- State has 6 distinct values. WestBengal with highest frequency 46.4% followwed by Karnataka 23.4%. Rest other states are <10%\n",
    "- Gender has 2 distinct values. Male is 64.3% and Female 35.7%. It is highly correlated with group column.\n",
    "- Age distribution is right skewed. Mean age is 31.4.\n",
    "- For full details check out the report.\n",
    "\n"
   ]
  },
  {
   "cell_type": "markdown",
   "metadata": {},
   "source": [
    "<a name = Section54></a>\n",
    "### **5.4 Handling of Missing Data**\n",
    "\n",
    "- In this section we will **handle** **missing information** such as **null data** and **zero data**."
   ]
  },
  {
   "cell_type": "markdown",
   "metadata": {},
   "source": [
    "- **Handling the missing values for longitude and latitude**"
   ]
  },
  {
   "cell_type": "code",
   "execution_count": null,
   "metadata": {},
   "outputs": [],
   "source": [
    "df_final_merged[df_final_merged['longitude'].isnull()].groupby('device_id').count()"
   ]
  },
  {
   "cell_type": "code",
   "execution_count": null,
   "metadata": {},
   "outputs": [],
   "source": [
    "df_final_merged[df_final_merged['device_id'] == 1320050977019711232].sample()"
   ]
  },
  {
   "cell_type": "code",
   "execution_count": null,
   "metadata": {},
   "outputs": [],
   "source": [
    "\n",
    "#df_final_merged[(df_final_merged['device_id'] == 1320050977019711232) & (df_final_merged['longitude'].isnull())].groupby(['device_id','city','state']).count()\n",
    "df_final_merged[(df_final_merged['device_id'] == 1320050977019711232)].groupby(['device_id','city','state','longitude','latitude']).count()\n",
    "#df_final_merged[df_final_merged['device_id'] == 1320050977019711232].groupby(['device_id','city','state']).count()"
   ]
  },
  {
   "cell_type": "markdown",
   "metadata": {},
   "source": [
    "**There is only 1 longitude & latitude for device id 1320050977019711232 for 482 records and rest of 14 records are null. So we can fill this logitude 87.57074 & latitude 26.21192 for this device id's missing longitude and latitude.** "
   ]
  },
  {
   "cell_type": "code",
   "execution_count": null,
   "metadata": {},
   "outputs": [],
   "source": [
    "df_final_merged.loc[((df_final_merged['city'] == 'Araria') & (df_final_merged['state'] == 'Bihar') & (df_final_merged['device_id'] == 1320050977019711232)) & (df_final_merged['longitude'].isnull()), 'longitude'] = 87.57074\n",
    "df_final_merged.loc[((df_final_merged['city'] == 'Araria') & (df_final_merged['state'] == 'Bihar') & (df_final_merged['device_id'] == 1320050977019711232)) & (df_final_merged['latitude'].isnull()), 'latitude'] = 26.21192"
   ]
  },
  {
   "cell_type": "code",
   "execution_count": null,
   "metadata": {},
   "outputs": [],
   "source": [
    "df_final_merged[df_final_merged['longitude'].isnull()].groupby('device_id').count()"
   ]
  },
  {
   "cell_type": "code",
   "execution_count": null,
   "metadata": {},
   "outputs": [],
   "source": [
    "df_final_merged[df_final_merged['device_id'] == 3099168546198768640].sample()"
   ]
  },
  {
   "cell_type": "code",
   "execution_count": null,
   "metadata": {},
   "outputs": [],
   "source": [
    "df_final_merged[(df_final_merged['device_id'] == 3099168546198768640)].groupby(['device_id','city','state','longitude','latitude']).count()"
   ]
  },
  {
   "cell_type": "markdown",
   "metadata": {},
   "source": [
    "**There is only 1 longitude & latitude for device id 3099168546198768640 for 533 records and rest of 14 records are null. So we can fill this logitude 84.14090 & latitude 27.17740 for this device id's missing longitude and latitude.** "
   ]
  },
  {
   "cell_type": "code",
   "execution_count": null,
   "metadata": {},
   "outputs": [],
   "source": [
    "df_final_merged.loc[((df_final_merged['city'] == 'Bagaha') & (df_final_merged['state'] == 'Bihar') & (df_final_merged['device_id'] == 3099168546198768640)) & (df_final_merged['longitude'].isnull()), 'longitude'] = 84.14090\n",
    "df_final_merged.loc[((df_final_merged['city'] == 'Bagaha') & (df_final_merged['state'] == 'Bihar') & (df_final_merged['device_id'] == 3099168546198768640)) & (df_final_merged['latitude'].isnull()), 'latitude'] = 27.17740"
   ]
  },
  {
   "cell_type": "code",
   "execution_count": null,
   "metadata": {},
   "outputs": [],
   "source": [
    "df_final_merged[df_final_merged['longitude'].isnull()].groupby('device_id').count()"
   ]
  },
  {
   "cell_type": "code",
   "execution_count": null,
   "metadata": {},
   "outputs": [],
   "source": [
    "df_final_merged[df_final_merged['device_id'] == 6774071338248978432].sample()"
   ]
  },
  {
   "cell_type": "code",
   "execution_count": null,
   "metadata": {},
   "outputs": [],
   "source": [
    "df_final_merged[(df_final_merged['device_id'] == 6774071338248978432)].groupby(['device_id','city','state','longitude','latitude']).count()"
   ]
  },
  {
   "cell_type": "markdown",
   "metadata": {},
   "source": [
    "**There is only 1 longitude & latitude for device id 6774071338248978432 for 444 records and rest of 14 records are null. So we can fill this logitude 75.26875 & latitude 30.90418 for this device id's missing longitude and latitude.** "
   ]
  },
  {
   "cell_type": "code",
   "execution_count": null,
   "metadata": {},
   "outputs": [],
   "source": [
    "#filling missing values\n",
    "df_final_merged.loc[((df_final_merged['city'] == 'Moga') & (df_final_merged['state'] == 'Punjab') & (df_final_merged['device_id'] == 6774071338248978432)) & (df_final_merged['longitude'].isnull()), 'longitude'] = 75.26875\n",
    "df_final_merged.loc[((df_final_merged['city'] == 'Moga') & (df_final_merged['state'] == 'Punjab') & (df_final_merged['device_id'] == 6774071338248978432)) & (df_final_merged['latitude'].isnull()), 'latitude'] = 30.90418\t"
   ]
  },
  {
   "cell_type": "code",
   "execution_count": null,
   "metadata": {},
   "outputs": [],
   "source": [
    "df_final_merged[df_final_merged['longitude'].isnull()].groupby('device_id').count()"
   ]
  },
  {
   "cell_type": "code",
   "execution_count": null,
   "metadata": {},
   "outputs": [],
   "source": [
    "df_final_merged.info()"
   ]
  },
  {
   "cell_type": "markdown",
   "metadata": {},
   "source": [
    "** Phone brand name conversion** "
   ]
  },
  {
   "cell_type": "code",
   "execution_count": null,
   "metadata": {},
   "outputs": [],
   "source": [
    "# finding the unique phone branpd.\n",
    "df_final_merged['phone_brand_english'].unique()"
   ]
  },
  {
   "cell_type": "markdown",
   "metadata": {},
   "source": [
    "<a name = Section54></a>\n",
    "### **5.4 Feature Engineering.**"
   ]
  },
  {
   "cell_type": "markdown",
   "metadata": {},
   "source": [
    "<a name = Section55></a>\n",
    "### **5.5 Post Processing Report**\n",
    "\n",
    "- After doing **missing value Imputation**, **feature engineering**, **Removing unwanted features** we will now look at the report again."
   ]
  },
  {
   "cell_type": "markdown",
   "metadata": {},
   "source": [
    "**Observation:**"
   ]
  },
  {
   "cell_type": "markdown",
   "metadata": {},
   "source": [
    "<a name = Section6></a>\n",
    "\n",
    "---\n",
    "# **6. Exploratory Data Analysis**\n",
    "---"
   ]
  },
  {
   "cell_type": "markdown",
   "metadata": {},
   "source": [
    "**<h4>Question: </h4>**"
   ]
  },
  {
   "cell_type": "markdown",
   "metadata": {},
   "source": [
    "<a name = Section7></a>\n",
    "\n",
    "---\n",
    "# **7. Post Data Processing & Feature Selection**\n",
    "---"
   ]
  },
  {
   "cell_type": "markdown",
   "metadata": {},
   "source": [
    "<a name = Section71></a>\n",
    "### **7.1 Feature Selection**\n"
   ]
  },
  {
   "cell_type": "markdown",
   "metadata": {},
   "source": [
    "<a name = Section72></a>\n",
    "### **7.2 Encoding Categorical Features**"
   ]
  },
  {
   "cell_type": "markdown",
   "metadata": {},
   "source": [
    "<a name = Section73></a>\n",
    "### **7.3 Data Preparation**\n",
    "\n",
    "- Now we will **split** our **data** in **training** and **testing** part for further development."
   ]
  },
  {
   "cell_type": "markdown",
   "metadata": {},
   "source": [
    "<a name = Section8></a>\n",
    "\n",
    "---\n",
    "# **8. Model Development & Evaluation**\n",
    "---\n",
    "\n",
    "- In this section we will **develop xxModel namexxx using input features** and **tune** our **model if required**.\n",
    "\n",
    "- Then we will **analyze the results** obtained and **make our observation**.\n",
    "\n",
    "- For **evaluation purpose** we will **focus** on **Accuracy**, Also we will check for **Precision**,**Recall**,**F1-Score**,**Roc-Auc-Curve** and **Precision-Recall Curve**."
   ]
  },
  {
   "cell_type": "markdown",
   "metadata": {},
   "source": [
    "<a name = Section81></a>\n",
    "\n",
    "## **8.1 Model Name - Baseline Model**"
   ]
  },
  {
   "cell_type": "markdown",
   "metadata": {},
   "source": [
    "<a name = Section82></a>\n",
    "\n",
    "## **8.2 Using Trained Model for Prediction**"
   ]
  },
  {
   "cell_type": "markdown",
   "metadata": {},
   "source": [
    "<a name = Section83></a>\n",
    "\n",
    "## **8.3 Model Name  Model Evaluation**"
   ]
  },
  {
   "cell_type": "markdown",
   "metadata": {},
   "source": [
    "<a name = Section9></a>\n",
    "\n",
    "---\n",
    "# **9. Conclusion**\n",
    "---"
   ]
  },
  {
   "cell_type": "markdown",
   "metadata": {},
   "source": [
    "<a name = Section91></a>\n",
    "### **9.1 Conclusion**"
   ]
  },
  {
   "cell_type": "markdown",
   "metadata": {},
   "source": [
    "<a name = Section92></a>\n",
    "### **9.2 Actionable Insights**"
   ]
  }
 ],
 "metadata": {
  "kernelspec": {
   "display_name": "Python 3",
   "language": "python",
   "name": "python3"
  },
  "language_info": {
   "codemirror_mode": {
    "name": "ipython",
    "version": 3
   },
   "file_extension": ".py",
   "mimetype": "text/x-python",
   "name": "python",
   "nbconvert_exporter": "python",
   "pygments_lexer": "ipython3",
   "version": "3.8.8"
  },
  "toc": {
   "base_numbering": 1,
   "nav_menu": {},
   "number_sections": false,
   "sideBar": true,
   "skip_h1_title": false,
   "title_cell": "Table of Contents",
   "title_sidebar": "Contents",
   "toc_cell": false,
   "toc_position": {
    "height": "calc(100% - 180px)",
    "left": "10px",
    "top": "150px",
    "width": "451.825px"
   },
   "toc_section_display": true,
   "toc_window_display": true
  }
 },
 "nbformat": 4,
 "nbformat_minor": 4
}
